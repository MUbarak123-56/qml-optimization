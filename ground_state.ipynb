{
 "cells": [
  {
   "cell_type": "code",
   "execution_count": 1,
   "id": "a6dbd8fc",
   "metadata": {},
   "outputs": [],
   "source": [
    "from qiskit import QuantumRegister, ClassicalRegister, QuantumCircuit, execute, Aer\n",
    "import qutip\n",
    "import numpy as np"
   ]
  },
  {
   "cell_type": "code",
   "execution_count": 2,
   "id": "94a042c2",
   "metadata": {},
   "outputs": [],
   "source": [
    "from collections import defaultdict\n",
    "from functools import reduce\n",
    "from itertools import product\n",
    "import numpy as np"
   ]
  },
  {
   "cell_type": "code",
   "execution_count": 3,
   "id": "a3bb2fe1",
   "metadata": {},
   "outputs": [],
   "source": [
    "PAULIS = {\"I\":np.eye(2, dtype = complex),\n",
    "          \"X\":np.array([[0,1],[1,0]], dtype = complex),\n",
    "          \"Y\": np.array([[0, -1j],[1j, 0]], dtype = complex),\n",
    "          \"Z\": np.array([[1,0],[0,-1]], dtype = complex)}"
   ]
  },
  {
   "cell_type": "code",
   "execution_count": 4,
   "id": "9cccab77",
   "metadata": {},
   "outputs": [],
   "source": [
    "def compute_meyer_wallach(ket, N):\n",
    "    ket = qutip.Qobj(ket, dims = [[2]*(N), [1]*(N)]).unit()\n",
    "    entanglement_sum = 0\n",
    "    for k in range(N):\n",
    "        rho_k_sq = ket.ptrace([k])**2\n",
    "        entanglement_sum += rho_k_sq.tr()\n",
    "    Q = 2*(1 - (1/N)*entanglement_sum)\n",
    "    return Q"
   ]
  },
  {
   "cell_type": "code",
   "execution_count": 5,
   "id": "d517f9b8",
   "metadata": {},
   "outputs": [],
   "source": [
    "#n_qubits = 2\n",
    "#qc = QuantumCircuit(n_qubits)\n",
    "#qc.h(0)\n",
    "#qc.h(1)\n",
    "#qc.z(1)\n",
    "#out = execute(qc, Aer.get_backend(\"statevector_simulator\")).result().get_statevector()\n",
    "#Q_value = compute_meyer_wallach(ket=out, N=n_qubits)\n",
    "#print('Q = %.2f'%(Q_value))"
   ]
  },
  {
   "cell_type": "code",
   "execution_count": 6,
   "id": "965f4f26",
   "metadata": {},
   "outputs": [],
   "source": [
    "#n_qubits = 2\n",
    "#qc = QuantumCircuit(n_qubits)\n",
    "#qc.h(0)\n",
    "#qc.cx(0,1)\n",
    "#out = execute(qc, Aer.get_backend(\"statevector_simulator\")).result().get_statevector()\n",
    "#Q_value = compute_meyer_wallach(out, n_qubits)\n",
    "#print('Q = %.2f'%(Q_value))"
   ]
  },
  {
   "cell_type": "code",
   "execution_count": 7,
   "id": "a2019469",
   "metadata": {},
   "outputs": [],
   "source": [
    "def ansatz(qc, qr, thetas, rounds=3):\n",
    "    for r in range(rounds):\n",
    "        for i in range(len(qr)):\n",
    "            offset = r*len(qr)*2 +i*2\n",
    "        \n",
    "            qc.ry(thetas[offset], qr[i])\n",
    "            qc.rz(thetas[offset+1], qr[i])\n",
    "            \n",
    "            if i > 0 and r < rounds - 1:\n",
    "                qc.cx(qr[i-1], qr[i])\n",
    "    \n",
    "    return qc"
   ]
  },
  {
   "cell_type": "code",
   "execution_count": 8,
   "id": "b288513c",
   "metadata": {},
   "outputs": [
    {
     "data": {
      "image/png": "[encoded data removed]",
      "text/plain": [
       "<Figure size 697.251x264.88 with 1 Axes>"
      ]
     },
     "execution_count": 8,
     "metadata": {},
     "output_type": "execute_result"
    }
   ],
   "source": [
    "import random\n",
    "random.seed()\n",
    "qr = QuantumRegister(3, \"qr\")\n",
    "cr = ClassicalRegister(1, \"cr\")\n",
    "qc = QuantumCircuit(qr, cr)\n",
    "rounds = 3\n",
    "thetas = list(map(lambda x: random.random(), [0]* ((1+rounds)*len(qr)*2)))\n",
    "ansatz(qc, qr, thetas, rounds=rounds).draw(\"mpl\")"
   ]
  },
  {
   "cell_type": "code",
   "execution_count": 9,
   "id": "f1eef402",
   "metadata": {},
   "outputs": [],
   "source": [
    "#out = execute(qc,Aer.get_backend('statevector_simulator')).result().get_statevector()\n",
    "#Q_value = compute_meyer_wallach(ket=out, N=3)\n",
    "#print('Q = {}\\n'.format(round(Q_value, 2)))"
   ]
  },
  {
   "cell_type": "code",
   "execution_count": 10,
   "id": "309bc4a1",
   "metadata": {},
   "outputs": [],
   "source": [
    "def pauli_decomposition(H):\n",
    "    n = int(np.log2(len(H)))\n",
    "    dims = 2**n\n",
    "    \n",
    "    if H.shape != (dims, dims):\n",
    "        raise ValueError(\"The input must be a 2^n x 2^n dimensional matrix.\")\n",
    "        \n",
    "    basis_key = [\"\".join(k) for k in product(PAULIS.keys(), repeat = n)]\n",
    "    components = defaultdict(int)\n",
    "    \n",
    "    for i, val in enumerate(product(PAULIS.values(), repeat = n)):\n",
    "        basis_mat = reduce(np.kron, val)\n",
    "        coeff = H.reshape(-1).dot(basis_mat.reshape(-1))/dims\n",
    "        coeff = np.real_if_close(coeff).item()\n",
    "    \n",
    "        if not np.allclose(coeff, 0):\n",
    "            components[basis_key[i]] = coeff\n",
    "    \n",
    "    return components"
   ]
  },
  {
   "cell_type": "code",
   "execution_count": 11,
   "id": "396dae10",
   "metadata": {},
   "outputs": [],
   "source": [
    "def matrix_decomposition_circuits(H, add_ansatz):\n",
    "    n = int(np.log2(len(H)))\n",
    "    dims = 2**n\n",
    "\n",
    "    if H.shape != (dims, dims):\n",
    "        raise ValueError(\"The input must be a 2^n x 2^n dimensional matrix.\")\n",
    "\n",
    "    components = pauli_decomposition(H)\n",
    "\n",
    "    circuits = {} \n",
    "    for (paulistring, weight) in components.items():\n",
    "        paulis = list(enumerate(reversed(paulistring)))\n",
    "        qr = QuantumRegister(n, \"qr\")\n",
    "        cr = ClassicalRegister(1, \"cr\")\n",
    "        qc = QuantumCircuit(qr, cr)\n",
    "        \n",
    "        add_ansatz(qc, qr)\n",
    "        # don't do anything if all Paulis are I\n",
    "        if all(x[1] == \"I\" for x in paulis):\n",
    "            # we use this empty circuit that we will measure as \"0\" (eigenvalue1) in all cases\n",
    "            qc.measure(qr[-1], cr[0])\n",
    "            circuits[paulistring] = (qc, weight)\n",
    "            continue\n",
    "            \n",
    "        # do the single qubit transformations\n",
    "        for idx, letter in paulis:\n",
    "            if letter == \"X\":\n",
    "                qc.h(qr[idx])\n",
    "            elif letter == \"Y\":\n",
    "                qc.h(qr[idx])\n",
    "                qc.sdg(qr[idx])\n",
    "        # add the inter−qubit gates\n",
    "        for idx, (first, second) in enumerate(zip(paulis, paulis[1:])):\n",
    "            if second[1] == \"I\":\n",
    "                qc.swap(first[0], second[0])\n",
    "            elif first[1] != \"I\":\n",
    "                paulis[idx+1] = (paulis[idx+1][0], paulis[idx][1])\n",
    "                qc.cx(first[0], second[0])\n",
    "        # measure the highest qubit\n",
    "        qc.measure(qr[-1], cr[0])\n",
    "        circuits[paulistring] = (qc,weight)\n",
    "        \n",
    "    return circuits"
   ]
  },
  {
   "cell_type": "code",
   "execution_count": 12,
   "id": "ed5d61ce",
   "metadata": {},
   "outputs": [],
   "source": [
    "def run_circuit(circuit, backend, shots = 1000):\n",
    "    result = execute(circuit, backend, shots = shots).result()\n",
    "    counts = result.get_counts()\n",
    "    if \"0\" in counts.keys():\n",
    "        count_0 = counts[\"0\"]\n",
    "    else:\n",
    "        count_0 = 0\n",
    "    if \"1\" in counts.keys():\n",
    "        count_1 = counts[\"1\"]\n",
    "    else:\n",
    "        count_1 = 1\n",
    "    return (count_0 - count_1)/shots\n",
    "\n",
    "def expectation(H, rounds, thetas):\n",
    "    backend = Aer.get_backend(\"qasm_simulator\")\n",
    "    circuits = matrix_decomposition_circuits(H, lambda qc, qr: ansatz(qc, qr, thetas, rounds))\n",
    "    \n",
    "    return sum(map(lambda key: run_circuit(circuits[key][0], backend)*circuits[key][1], circuits.keys()))"
   ]
  },
  {
   "cell_type": "code",
   "execution_count": 13,
   "id": "f6636faf",
   "metadata": {},
   "outputs": [],
   "source": [
    "class SPSA:\n",
    "    def __init__(self, a, c, A, alpha, gamma, H, loss_function):\n",
    "    # Initialize gain parameters and decay factors\n",
    "        self.a = a\n",
    "        self.c = c\n",
    "        self.A = A\n",
    "        self.alpha = alpha\n",
    "        self.gamma = gamma\n",
    "        self.loss_function = loss_function\n",
    "\n",
    "    # counters\n",
    "        self.t = 0\n",
    "\n",
    "    def step(self, current_estimate):\n",
    "    # get the current values for gain sequences\n",
    "        a_t = self.a / (self.t + 1 + self.A)**self.alpha\n",
    "        c_t = self.c / (self.t + 1)**self.gamma\n",
    "\n",
    "    # get the random perturbation vector from bernoulli distribution\n",
    "        delta = np.random.randint(0,2, np.array(current_estimate).shape) * 2 - 1\n",
    "\n",
    "    # measure the loss function at perturbations\n",
    "        loss_plus = self.loss_function(current_estimate + delta * c_t)\n",
    "        loss_minus = self.loss_function(current_estimate - delta * c_t)\n",
    "        \n",
    "    # compute the estimate of the gradient\n",
    "        g_t = (loss_plus - loss_minus) / (2.0 * delta * c_t)\n",
    "    \n",
    "    # update the estimate of the parameter\n",
    "        current_estimate = current_estimate - a_t * g_t\n",
    "\n",
    "     # increment the counter\n",
    "        self.t += 1\n",
    "\n",
    "        return current_estimate"
   ]
  },
  {
   "cell_type": "code",
   "execution_count": 14,
   "id": "1dd09f46",
   "metadata": {},
   "outputs": [],
   "source": [
    "def vqe(H, rounds, max_iter, thetas=None, save_steps=None):\n",
    "    cnt_qubits = int(np.log2(len(H)))\n",
    "    if thetas is None:\n",
    "        thetas = list(map(lambda x: random.random(),[0] * ((1+rounds)*cnt_qubits*2)))\n",
    "    # create the optimizer class\n",
    "    optimizer = SPSA(a=0.9,c=1.0,A=max_iter/10,alpha=0.6,gamma=0.1,H=H,\n",
    "                     loss_function=lambda t_thetas: expectation(H, rounds, t_thetas))\n",
    "    \n",
    "    # the main loop\n",
    "    for i in range(max_iter):\n",
    "        thetas = optimizer.step(thetas)\n",
    "\n",
    "        if save_steps is not None and i % save_steps == 0:\n",
    "            yield (i, thetas, expectation(H, rounds, thetas))\n",
    "            \n",
    "    return (thetas, expectation(H, rounds, thetas))"
   ]
  },
  {
   "cell_type": "code",
   "execution_count": 18,
   "id": "bb51c1e2",
   "metadata": {},
   "outputs": [
    {
     "name": "stdout",
     "output_type": "stream",
     "text": [
      "Step 0. Current expectation value: -1.290\n",
      "Step 3. Current expectation value: -3.090\n",
      "Step 6. Current expectation value: -2.995\n",
      "Step 9. Current expectation value: -3.044\n",
      "Step 12. Current expectation value: -2.953\n",
      "Step 15. Current expectation value: -3.037\n",
      "Step 18. Current expectation value: -3.050\n",
      "Step 21. Current expectation value: -2.521\n",
      "Step 24. Current expectation value: -2.736\n",
      "Step 27. Current expectation value: -2.874\n",
      "Step 30. Current expectation value: -2.927\n",
      "Step 33. Current expectation value: -2.799\n",
      "Step 36. Current expectation value: -3.052\n",
      "Step 39. Current expectation value: -2.956\n",
      "Step 42. Current expectation value: -2.181\n",
      "Step 45. Current expectation value: -3.037\n",
      "Step 48. Current expectation value: -3.061\n",
      "Step 51. Current expectation value: -2.449\n",
      "Step 54. Current expectation value: -2.969\n",
      "Step 57. Current expectation value: -2.571\n",
      "The solution is: [\n",
      "\t0.888,\t\t1.129,\t\t2.567,\n",
      "\t-1.326,\t\t0.294,\t\t1.295,\n",
      "\t0.723,\t\t1.312,\t\t-0.178,\n",
      "\t-1.276,\t]\n",
      "The lowest expectation value is: -2.571\n"
     ]
    }
   ],
   "source": [
    "H = np.array([[3, 1],[1, 2]],dtype=complex)\n",
    "\n",
    "result = None\n",
    "step_size = 3\n",
    "for step in vqe(H, rounds=4, max_iter=60, save_steps=step_size):\n",
    "    print('Step {step}. Current expectation value: {ev: .3f}'.format(step=step[0], ev=step[2]))\n",
    "    result = step\n",
    "\n",
    "print('The solution is: [\\n'+\"\".join([\"\\t\"+str(round(t, 3))+\",\\n\" if i%3 == 2 else \"\\t\"+str(round(t, 3))\n",
    "                                      +\",\\t\" for i, t in enumerate(result[1])])+\"]\")\n",
    "print('The lowest expectation value is: {ev: .3f}'.format(ev=result[2]))"
   ]
  },
  {
   "cell_type": "code",
   "execution_count": 17,
   "id": "9b0f1df2",
   "metadata": {},
   "outputs": [
    {
     "data": {
      "image/png": "[encoded data removed]",
      "text/plain": [
       "<Figure size 864x576 with 1 Axes>"
      ]
     },
     "metadata": {
      "needs_background": "light"
     },
     "output_type": "display_data"
    }
   ],
   "source": [
    "import matplotlib.pyplot as plt\n",
    "\n",
    "steps = []\n",
    "evs = []\n",
    "for step in vqe(H, rounds=4, max_iter=100, save_steps=1):\n",
    "    steps = steps + [step[2]]\n",
    "    evs = evs + [step[0]]\n",
    "\n",
    "plt.figure(figsize=(12, 8))\n",
    "plt.plot(evs, steps)\n",
    "\n",
    "plt.xlabel(\"Number of executions\", fontsize=14)\n",
    "plt.ylabel(\"Expectation value\", fontsize=14)\n",
    "plt.grid()\n",
    "\n",
    "plt.show()"
   ]
  },
  {
   "cell_type": "code",
   "execution_count": null,
   "id": "be958af1",
   "metadata": {},
   "outputs": [],
   "source": []
  }
 ],
 "metadata": {
  "kernelspec": {
   "display_name": "Python 3 (ipykernel)",
   "language": "python",
   "name": "python3"
  },
  "language_info": {
   "codemirror_mode": {
    "name": "ipython",
    "version": 3
   },
   "file_extension": ".py",
   "mimetype": "text/x-python",
   "name": "python",
   "nbconvert_exporter": "python",
   "pygments_lexer": "ipython3",
   "version": "3.10.4"
  }
 },
 "nbformat": 4,
 "nbformat_minor": 5
}
