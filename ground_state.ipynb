{
  "cells": [
    {
      "cell_type": "code",
      "source": [
        "!pip install -q qiskit\n",
        "!pip install -q pylatexenc\n",
        "#!pip install git+https://github.com/qiskit-community/qiskit-textbook.git#subdirectory=qiskit-textbook-src\n",
        "!pip install qiskit-aer"
      ],
      "metadata": {
        "id": "wCyRJibO5aUF",
        "outputId": "4a493980-0ef4-4516-affd-d8b0e0c9901c",
        "colab": {
          "base_uri": "https://localhost:8080/"
        }
      },
      "id": "wCyRJibO5aUF",
      "execution_count": 1,
      "outputs": [
        {
          "output_type": "stream",
          "name": "stdout",
          "text": [
            "\u001b[2K     \u001b[90m━━━━━━━━━━━━━━━━━━━━━━━━━━━━━━━━━━━━━━━━\u001b[0m \u001b[32m6.1/6.1 MB\u001b[0m \u001b[31m41.0 MB/s\u001b[0m eta \u001b[36m0:00:00\u001b[0m\n",
            "\u001b[2K     \u001b[90m━━━━━━━━━━━━━━━━━━━━━━━━━━━━━━━━━━━━━━━━\u001b[0m \u001b[32m2.0/2.0 MB\u001b[0m \u001b[31m72.4 MB/s\u001b[0m eta \u001b[36m0:00:00\u001b[0m\n",
            "\u001b[2K     \u001b[90m━━━━━━━━━━━━━━━━━━━━━━━━━━━━━━━━━━━━━━━━\u001b[0m \u001b[32m49.6/49.6 kB\u001b[0m \u001b[31m4.6 MB/s\u001b[0m eta \u001b[36m0:00:00\u001b[0m\n",
            "\u001b[2K     \u001b[90m━━━━━━━━━━━━━━━━━━━━━━━━━━━━━━━━━━━━━━\u001b[0m \u001b[32m115.3/115.3 kB\u001b[0m \u001b[31m12.3 MB/s\u001b[0m eta \u001b[36m0:00:00\u001b[0m\n",
            "\u001b[2K     \u001b[90m━━━━━━━━━━━━━━━━━━━━━━━━━━━━━━━━━━━━━━━━\u001b[0m \u001b[32m49.6/49.6 kB\u001b[0m \u001b[31m3.1 MB/s\u001b[0m eta \u001b[36m0:00:00\u001b[0m\n",
            "\u001b[2K     \u001b[90m━━━━━━━━━━━━━━━━━━━━━━━━━━━━━━━━━━━━━━━━\u001b[0m \u001b[32m37.5/37.5 MB\u001b[0m \u001b[31m16.3 MB/s\u001b[0m eta \u001b[36m0:00:00\u001b[0m\n",
            "\u001b[2K     \u001b[90m━━━━━━━━━━━━━━━━━━━━━━━━━━━━━━━━━━━━━━━\u001b[0m \u001b[32m112.7/112.7 kB\u001b[0m \u001b[31m6.3 MB/s\u001b[0m eta \u001b[36m0:00:00\u001b[0m\n",
            "\u001b[2K     \u001b[90m━━━━━━━━━━━━━━━━━━━━━━━━━━━━━━━━━━━━━━━\u001b[0m \u001b[32m162.6/162.6 kB\u001b[0m \u001b[31m2.4 MB/s\u001b[0m eta \u001b[36m0:00:00\u001b[0m\n",
            "\u001b[?25h  Preparing metadata (setup.py) ... \u001b[?25l\u001b[?25hdone\n",
            "  Building wheel for pylatexenc (setup.py) ... \u001b[?25l\u001b[?25hdone\n",
            "Collecting qiskit-aer\n",
            "  Downloading qiskit_aer-0.12.2-cp310-cp310-manylinux_2_17_x86_64.manylinux2014_x86_64.whl (12.8 MB)\n",
            "\u001b[2K     \u001b[90m━━━━━━━━━━━━━━━━━━━━━━━━━━━━━━━━━━━━━━━━\u001b[0m \u001b[32m12.8/12.8 MB\u001b[0m \u001b[31m24.1 MB/s\u001b[0m eta \u001b[36m0:00:00\u001b[0m\n",
            "\u001b[?25hRequirement already satisfied: qiskit-terra>=0.21.0 in /usr/local/lib/python3.10/dist-packages (from qiskit-aer) (0.25.1)\n",
            "Requirement already satisfied: numpy>=1.16.3 in /usr/local/lib/python3.10/dist-packages (from qiskit-aer) (1.23.5)\n",
            "Requirement already satisfied: scipy>=1.0 in /usr/local/lib/python3.10/dist-packages (from qiskit-aer) (1.10.1)\n",
            "Requirement already satisfied: rustworkx>=0.13.0 in /usr/local/lib/python3.10/dist-packages (from qiskit-terra>=0.21.0->qiskit-aer) (0.13.1)\n",
            "Requirement already satisfied: ply>=3.10 in /usr/local/lib/python3.10/dist-packages (from qiskit-terra>=0.21.0->qiskit-aer) (3.11)\n",
            "Requirement already satisfied: psutil>=5 in /usr/local/lib/python3.10/dist-packages (from qiskit-terra>=0.21.0->qiskit-aer) (5.9.5)\n",
            "Requirement already satisfied: sympy>=1.3 in /usr/local/lib/python3.10/dist-packages (from qiskit-terra>=0.21.0->qiskit-aer) (1.12)\n",
            "Requirement already satisfied: dill>=0.3 in /usr/local/lib/python3.10/dist-packages (from qiskit-terra>=0.21.0->qiskit-aer) (0.3.7)\n",
            "Requirement already satisfied: python-dateutil>=2.8.0 in /usr/local/lib/python3.10/dist-packages (from qiskit-terra>=0.21.0->qiskit-aer) (2.8.2)\n",
            "Requirement already satisfied: stevedore>=3.0.0 in /usr/local/lib/python3.10/dist-packages (from qiskit-terra>=0.21.0->qiskit-aer) (5.1.0)\n",
            "Requirement already satisfied: symengine<0.10,>=0.9 in /usr/local/lib/python3.10/dist-packages (from qiskit-terra>=0.21.0->qiskit-aer) (0.9.2)\n",
            "Requirement already satisfied: typing-extensions in /usr/local/lib/python3.10/dist-packages (from qiskit-terra>=0.21.0->qiskit-aer) (4.7.1)\n",
            "Requirement already satisfied: six>=1.5 in /usr/local/lib/python3.10/dist-packages (from python-dateutil>=2.8.0->qiskit-terra>=0.21.0->qiskit-aer) (1.16.0)\n",
            "Requirement already satisfied: pbr!=2.1.0,>=2.0.0 in /usr/local/lib/python3.10/dist-packages (from stevedore>=3.0.0->qiskit-terra>=0.21.0->qiskit-aer) (5.11.1)\n",
            "Requirement already satisfied: mpmath>=0.19 in /usr/local/lib/python3.10/dist-packages (from sympy>=1.3->qiskit-terra>=0.21.0->qiskit-aer) (1.3.0)\n",
            "Installing collected packages: qiskit-aer\n",
            "Successfully installed qiskit-aer-0.12.2\n"
          ]
        }
      ]
    },
    {
      "cell_type": "code",
      "source": [
        "!pip install qutip"
      ],
      "metadata": {
        "id": "XRIAU3KP_n1A",
        "outputId": "9aedbca5-c032-4b49-9870-0cb98c6ddeea",
        "colab": {
          "base_uri": "https://localhost:8080/"
        }
      },
      "id": "XRIAU3KP_n1A",
      "execution_count": 3,
      "outputs": [
        {
          "output_type": "stream",
          "name": "stdout",
          "text": [
            "Collecting qutip\n",
            "  Downloading qutip-4.7.2-cp310-cp310-manylinux_2_17_x86_64.manylinux2014_x86_64.whl (16.2 MB)\n",
            "\u001b[2K     \u001b[90m━━━━━━━━━━━━━━━━━━━━━━━━━━━━━━━━━━━━━━━━\u001b[0m \u001b[32m16.2/16.2 MB\u001b[0m \u001b[31m23.7 MB/s\u001b[0m eta \u001b[36m0:00:00\u001b[0m\n",
            "\u001b[?25hRequirement already satisfied: numpy>=1.16.6 in /usr/local/lib/python3.10/dist-packages (from qutip) (1.23.5)\n",
            "Requirement already satisfied: scipy>=1.0 in /usr/local/lib/python3.10/dist-packages (from qutip) (1.10.1)\n",
            "Requirement already satisfied: packaging in /usr/local/lib/python3.10/dist-packages (from qutip) (23.1)\n",
            "Installing collected packages: qutip\n",
            "Successfully installed qutip-4.7.2\n"
          ]
        }
      ]
    },
    {
      "cell_type": "code",
      "execution_count": 4,
      "id": "a6dbd8fc",
      "metadata": {
        "id": "a6dbd8fc"
      },
      "outputs": [],
      "source": [
        "from qiskit import QuantumRegister, ClassicalRegister, QuantumCircuit, execute, Aer\n",
        "import qutip\n",
        "import numpy as np"
      ]
    },
    {
      "cell_type": "code",
      "execution_count": 5,
      "id": "94a042c2",
      "metadata": {
        "id": "94a042c2"
      },
      "outputs": [],
      "source": [
        "from collections import defaultdict\n",
        "from functools import reduce\n",
        "from itertools import product\n",
        "import numpy as np"
      ]
    },
    {
      "cell_type": "code",
      "execution_count": 6,
      "id": "a3bb2fe1",
      "metadata": {
        "id": "a3bb2fe1"
      },
      "outputs": [],
      "source": [
        "PAULIS = {\"I\":np.eye(2, dtype = complex),\n",
        "          \"X\":np.array([[0,1],[1,0]], dtype = complex),\n",
        "          \"Y\": np.array([[0, -1j],[1j, 0]], dtype = complex),\n",
        "          \"Z\": np.array([[1,0],[0,-1]], dtype = complex)}"
      ]
    },
    {
      "cell_type": "code",
      "execution_count": 7,
      "id": "9cccab77",
      "metadata": {
        "id": "9cccab77"
      },
      "outputs": [],
      "source": [
        "def compute_meyer_wallach(ket, N):\n",
        "    ket = qutip.Qobj(ket, dims = [[2]*(N), [1]*(N)]).unit()\n",
        "    entanglement_sum = 0\n",
        "    for k in range(N):\n",
        "        rho_k_sq = ket.ptrace([k])**2\n",
        "        entanglement_sum += rho_k_sq.tr()\n",
        "    Q = 2*(1 - (1/N)*entanglement_sum)\n",
        "    return Q"
      ]
    },
    {
      "cell_type": "code",
      "execution_count": 8,
      "id": "d517f9b8",
      "metadata": {
        "id": "d517f9b8"
      },
      "outputs": [],
      "source": [
        "#n_qubits = 2\n",
        "#qc = QuantumCircuit(n_qubits)\n",
        "#qc.h(0)\n",
        "#qc.h(1)\n",
        "#qc.z(1)\n",
        "#out = execute(qc, Aer.get_backend(\"statevector_simulator\")).result().get_statevector()\n",
        "#Q_value = compute_meyer_wallach(ket=out, N=n_qubits)\n",
        "#print('Q = %.2f'%(Q_value))"
      ]
    },
    {
      "cell_type": "code",
      "execution_count": 9,
      "id": "965f4f26",
      "metadata": {
        "id": "965f4f26"
      },
      "outputs": [],
      "source": [
        "#n_qubits = 2\n",
        "#qc = QuantumCircuit(n_qubits)\n",
        "#qc.h(0)\n",
        "#qc.cx(0,1)\n",
        "#out = execute(qc, Aer.get_backend(\"statevector_simulator\")).result().get_statevector()\n",
        "#Q_value = compute_meyer_wallach(out, n_qubits)\n",
        "#print('Q = %.2f'%(Q_value))"
      ]
    },
    {
      "cell_type": "code",
      "execution_count": 10,
      "id": "a2019469",
      "metadata": {
        "id": "a2019469"
      },
      "outputs": [],
      "source": [
        "def ansatz(qc, qr, thetas, rounds=3):\n",
        "    for r in range(rounds):\n",
        "        for i in range(len(qr)):\n",
        "            offset = r*len(qr)*2 +i*2\n",
        "\n",
        "            qc.ry(thetas[offset], qr[i])\n",
        "            qc.rz(thetas[offset+1], qr[i])\n",
        "\n",
        "            if i > 0 and r < rounds - 1:\n",
        "                qc.cx(qr[i-1], qr[i])\n",
        "\n",
        "    return qc"
      ]
    },
    {
      "cell_type": "code",
      "execution_count": 11,
      "id": "b288513c",
      "metadata": {
        "id": "b288513c",
        "outputId": "1bb62dca-1820-44e1-c84f-95d30b5d4aea",
        "colab": {
          "base_uri": "https://localhost:8080/",
          "height": 320
        }
      },
      "outputs": [
        {
          "output_type": "execute_result",
          "data": {
            "text/plain": [
              "<Figure size 968.404x367.889 with 1 Axes>"
            ],
            "image/png": "[encoded data removed]"
          },
          "metadata": {},
          "execution_count": 11
        }
      ],
      "source": [
        "import random\n",
        "random.seed()\n",
        "qr = QuantumRegister(3, \"qr\")\n",
        "cr = ClassicalRegister(1, \"cr\")\n",
        "qc = QuantumCircuit(qr, cr)\n",
        "rounds = 3\n",
        "thetas = list(map(lambda x: random.random(), [0]* ((1+rounds)*len(qr)*2)))\n",
        "ansatz(qc, qr, thetas, rounds=rounds).draw(\"mpl\")"
      ]
    },
    {
      "cell_type": "code",
      "execution_count": 12,
      "id": "f1eef402",
      "metadata": {
        "id": "f1eef402"
      },
      "outputs": [],
      "source": [
        "#out = execute(qc,Aer.get_backend('statevector_simulator')).result().get_statevector()\n",
        "#Q_value = compute_meyer_wallach(ket=out, N=3)\n",
        "#print('Q = {}\\n'.format(round(Q_value, 2)))"
      ]
    },
    {
      "cell_type": "code",
      "execution_count": 13,
      "id": "309bc4a1",
      "metadata": {
        "id": "309bc4a1"
      },
      "outputs": [],
      "source": [
        "def pauli_decomposition(H):\n",
        "    n = int(np.log2(len(H)))\n",
        "    dims = 2**n\n",
        "\n",
        "    if H.shape != (dims, dims):\n",
        "        raise ValueError(\"The input must be a 2^n x 2^n dimensional matrix.\")\n",
        "\n",
        "    basis_key = [\"\".join(k) for k in product(PAULIS.keys(), repeat = n)]\n",
        "    components = defaultdict(int)\n",
        "\n",
        "    for i, val in enumerate(product(PAULIS.values(), repeat = n)):\n",
        "        basis_mat = reduce(np.kron, val)\n",
        "        coeff = H.reshape(-1).dot(basis_mat.reshape(-1))/dims\n",
        "        coeff = np.real_if_close(coeff).item()\n",
        "\n",
        "        if not np.allclose(coeff, 0):\n",
        "            components[basis_key[i]] = coeff\n",
        "\n",
        "    return components"
      ]
    },
    {
      "cell_type": "code",
      "execution_count": 14,
      "id": "396dae10",
      "metadata": {
        "id": "396dae10"
      },
      "outputs": [],
      "source": [
        "def matrix_decomposition_circuits(H, add_ansatz):\n",
        "    n = int(np.log2(len(H)))\n",
        "    dims = 2**n\n",
        "\n",
        "    if H.shape != (dims, dims):\n",
        "        raise ValueError(\"The input must be a 2^n x 2^n dimensional matrix.\")\n",
        "\n",
        "    components = pauli_decomposition(H)\n",
        "\n",
        "    circuits = {}\n",
        "    for (paulistring, weight) in components.items():\n",
        "        paulis = list(enumerate(reversed(paulistring)))\n",
        "        qr = QuantumRegister(n, \"qr\")\n",
        "        cr = ClassicalRegister(1, \"cr\")\n",
        "        qc = QuantumCircuit(qr, cr)\n",
        "\n",
        "        add_ansatz(qc, qr)\n",
        "        # don't do anything if all Paulis are I\n",
        "        if all(x[1] == \"I\" for x in paulis):\n",
        "            # we use this empty circuit that we will measure as \"0\" (eigenvalue1) in all cases\n",
        "            qc.measure(qr[-1], cr[0])\n",
        "            circuits[paulistring] = (qc, weight)\n",
        "            continue\n",
        "\n",
        "        # do the single qubit transformations\n",
        "        for idx, letter in paulis:\n",
        "            if letter == \"X\":\n",
        "                qc.h(qr[idx])\n",
        "            elif letter == \"Y\":\n",
        "                qc.h(qr[idx])\n",
        "                qc.sdg(qr[idx])\n",
        "        # add the inter−qubit gates\n",
        "        for idx, (first, second) in enumerate(zip(paulis, paulis[1:])):\n",
        "            if second[1] == \"I\":\n",
        "                qc.swap(first[0], second[0])\n",
        "            elif first[1] != \"I\":\n",
        "                paulis[idx+1] = (paulis[idx+1][0], paulis[idx][1])\n",
        "                qc.cx(first[0], second[0])\n",
        "        # measure the highest qubit\n",
        "        qc.measure(qr[-1], cr[0])\n",
        "        circuits[paulistring] = (qc,weight)\n",
        "\n",
        "    return circuits"
      ]
    },
    {
      "cell_type": "code",
      "execution_count": 15,
      "id": "ed5d61ce",
      "metadata": {
        "id": "ed5d61ce"
      },
      "outputs": [],
      "source": [
        "def run_circuit(circuit, backend, shots = 1000):\n",
        "    result = execute(circuit, backend, shots = shots).result()\n",
        "    counts = result.get_counts()\n",
        "    if \"0\" in counts.keys():\n",
        "        count_0 = counts[\"0\"]\n",
        "    else:\n",
        "        count_0 = 0\n",
        "    if \"1\" in counts.keys():\n",
        "        count_1 = counts[\"1\"]\n",
        "    else:\n",
        "        count_1 = 1\n",
        "    return (count_0 - count_1)/shots\n",
        "\n",
        "def expectation(H, rounds, thetas):\n",
        "    backend = Aer.get_backend(\"qasm_simulator\")\n",
        "    circuits = matrix_decomposition_circuits(H, lambda qc, qr: ansatz(qc, qr, thetas, rounds))\n",
        "\n",
        "    return sum(map(lambda key: run_circuit(circuits[key][0], backend)*circuits[key][1], circuits.keys()))"
      ]
    },
    {
      "cell_type": "code",
      "execution_count": 16,
      "id": "f6636faf",
      "metadata": {
        "id": "f6636faf"
      },
      "outputs": [],
      "source": [
        "class SPSA:\n",
        "    def __init__(self, a, c, A, alpha, gamma, H, loss_function):\n",
        "    # Initialize gain parameters and decay factors\n",
        "        self.a = a\n",
        "        self.c = c\n",
        "        self.A = A\n",
        "        self.alpha = alpha\n",
        "        self.gamma = gamma\n",
        "        self.loss_function = loss_function\n",
        "\n",
        "    # counters\n",
        "        self.t = 0\n",
        "\n",
        "    def step(self, current_estimate):\n",
        "    # get the current values for gain sequences\n",
        "        a_t = self.a / (self.t + 1 + self.A)**self.alpha\n",
        "        c_t = self.c / (self.t + 1)**self.gamma\n",
        "\n",
        "    # get the random perturbation vector from bernoulli distribution\n",
        "        delta = np.random.randint(0,2, np.array(current_estimate).shape) * 2 - 1\n",
        "\n",
        "    # measure the loss function at perturbations\n",
        "        loss_plus = self.loss_function(current_estimate + delta * c_t)\n",
        "        loss_minus = self.loss_function(current_estimate - delta * c_t)\n",
        "\n",
        "    # compute the estimate of the gradient\n",
        "        g_t = (loss_plus - loss_minus) / (2.0 * delta * c_t)\n",
        "\n",
        "    # update the estimate of the parameter\n",
        "        current_estimate = current_estimate - a_t * g_t\n",
        "\n",
        "     # increment the counter\n",
        "        self.t += 1\n",
        "\n",
        "        return current_estimate"
      ]
    },
    {
      "cell_type": "code",
      "execution_count": 17,
      "id": "1dd09f46",
      "metadata": {
        "id": "1dd09f46"
      },
      "outputs": [],
      "source": [
        "def vqe(H, rounds, max_iter, thetas=None, save_steps=None):\n",
        "    cnt_qubits = int(np.log2(len(H)))\n",
        "    if thetas is None:\n",
        "        thetas = list(map(lambda x: random.random(),[0] * ((1+rounds)*cnt_qubits*2)))\n",
        "    # create the optimizer class\n",
        "    optimizer = SPSA(a=0.9,c=1.0,A=max_iter/10,alpha=0.6,gamma=0.1,H=H,\n",
        "                     loss_function=lambda t_thetas: expectation(H, rounds, t_thetas))\n",
        "\n",
        "    # the main loop\n",
        "    for i in range(max_iter):\n",
        "        thetas = optimizer.step(thetas)\n",
        "\n",
        "        if save_steps is not None and i % save_steps == 0:\n",
        "            yield (i, thetas, expectation(H, rounds, thetas))\n",
        "\n",
        "    return (thetas, expectation(H, rounds, thetas))"
      ]
    },
    {
      "cell_type": "code",
      "execution_count": 20,
      "id": "bb51c1e2",
      "metadata": {
        "id": "bb51c1e2",
        "outputId": "c971b561-bc48-4488-9e20-ffa02782a577",
        "colab": {
          "base_uri": "https://localhost:8080/"
        }
      },
      "outputs": [
        {
          "output_type": "stream",
          "name": "stdout",
          "text": [
            "Step 0. Current expectation value:  0.553\n",
            "Step 3. Current expectation value: -0.680\n",
            "Step 6. Current expectation value: -1.573\n",
            "Step 9. Current expectation value: -2.780\n",
            "Step 12. Current expectation value: -2.861\n",
            "Step 15. Current expectation value: -2.867\n",
            "Step 18. Current expectation value: -2.983\n",
            "Step 21. Current expectation value: -2.936\n",
            "Step 24. Current expectation value: -2.563\n",
            "Step 27. Current expectation value: -3.078\n",
            "Step 30. Current expectation value: -3.092\n",
            "Step 33. Current expectation value: -3.068\n",
            "Step 36. Current expectation value: -3.157\n",
            "Step 39. Current expectation value: -3.138\n",
            "Step 42. Current expectation value: -3.067\n",
            "Step 45. Current expectation value: -3.012\n",
            "Step 48. Current expectation value: -3.084\n",
            "Step 51. Current expectation value: -3.054\n",
            "Step 54. Current expectation value: -3.082\n",
            "Step 57. Current expectation value: -3.079\n",
            "The solution is: [\n",
            "\t-0.085,\t\t0.602,\t\t0.175,\n",
            "\t2.662,\t\t3.305,\t\t1.767,\n",
            "\t2.612,\t\t0.34,\t]\n",
            "The lowest expectation value is: -3.079\n"
          ]
        }
      ],
      "source": [
        "H = np.array([[3, 1],[1, 2]],dtype=complex)\n",
        "\n",
        "result = None\n",
        "step_size = 3\n",
        "for step in vqe(H, rounds=3, max_iter=60, save_steps=step_size):\n",
        "    print('Step {step}. Current expectation value: {ev: .3f}'.format(step=step[0], ev=step[2]))\n",
        "    result = step\n",
        "\n",
        "print('The solution is: [\\n'+\"\".join([\"\\t\"+str(round(t, 3))+\",\\n\" if i%3 == 2 else \"\\t\"+str(round(t, 3))\n",
        "                                      +\",\\t\" for i, t in enumerate(result[1])])+\"]\")\n",
        "print('The lowest expectation value is: {ev: .3f}'.format(ev=result[2]))"
      ]
    },
    {
      "cell_type": "code",
      "execution_count": 21,
      "id": "9b0f1df2",
      "metadata": {
        "id": "9b0f1df2",
        "outputId": "a92cc3fe-3ae3-481b-a388-0401d631d481",
        "colab": {
          "base_uri": "https://localhost:8080/",
          "height": 701
        }
      },
      "outputs": [
        {
          "output_type": "display_data",
          "data": {
            "text/plain": [
              "<Figure size 1200x800 with 1 Axes>"
            ],
            "image/png": "[encoded data removed]"
          },
          "metadata": {}
        }
      ],
      "source": [
        "import matplotlib.pyplot as plt\n",
        "\n",
        "steps = []\n",
        "evs = []\n",
        "for step in vqe(H, rounds=4, max_iter=100, save_steps=1):\n",
        "    steps = steps + [step[2]]\n",
        "    evs = evs + [step[0]]\n",
        "\n",
        "plt.figure(figsize=(12, 8))\n",
        "plt.plot(evs, steps)\n",
        "\n",
        "plt.xlabel(\"Number of executions\", fontsize=14)\n",
        "plt.ylabel(\"Expectation value\", fontsize=14)\n",
        "plt.grid()\n",
        "\n",
        "plt.show()"
      ]
    },
    {
      "cell_type": "code",
      "execution_count": 22,
      "id": "be958af1",
      "metadata": {
        "id": "be958af1",
        "outputId": "a4e1e242-2dd2-46d0-8c6a-41a4f6ec1e83",
        "colab": {
          "base_uri": "https://localhost:8080/"
        }
      },
      "outputs": [
        {
          "output_type": "stream",
          "name": "stdout",
          "text": [
            "Eigenvalues:  [1.38196601 3.61803399]\n",
            "Eigenvectors:  [[ 0.52573111+0.j -0.85065081+0.j]\n",
            " [-0.85065081+0.j -0.52573111+0.j]]\n"
          ]
        }
      ],
      "source": [
        "import scipy\n",
        "eigenvalues, eigenvectors = scipy.linalg.eigh(H)\n",
        "\n",
        "print(\"Eigenvalues: \", eigenvalues)\n",
        "print(\"Eigenvectors: \", eigenvectors)"
      ]
    },
    {
      "cell_type": "code",
      "source": [],
      "metadata": {
        "id": "TGyPVm3kGNPX"
      },
      "id": "TGyPVm3kGNPX",
      "execution_count": null,
      "outputs": []
    }
  ],
  "metadata": {
    "kernelspec": {
      "display_name": "Python 3 (ipykernel)",
      "language": "python",
      "name": "python3"
    },
    "language_info": {
      "codemirror_mode": {
        "name": "ipython",
        "version": 3
      },
      "file_extension": ".py",
      "mimetype": "text/x-python",
      "name": "python",
      "nbconvert_exporter": "python",
      "pygments_lexer": "ipython3",
      "version": "3.10.4"
    },
    "colab": {
      "provenance": []
    }
  },
  "nbformat": 4,
  "nbformat_minor": 5
}