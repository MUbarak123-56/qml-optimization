{
 "cells": [
  {
   "cell_type": "code",
   "execution_count": 1,
   "id": "d866ae3d",
   "metadata": {},
   "outputs": [],
   "source": [
    "import pandas as pd\n",
    "import networkx as nx\n",
    "import matplotlib.pyplot as plt\n",
    "%matplotlib inline\n",
    "import seaborn as sns; sns.set_style(\"dark\")"
   ]
  },
  {
   "cell_type": "code",
   "execution_count": 2,
   "id": "8996a47f",
   "metadata": {},
   "outputs": [
    {
     "data": {
      "text/html": [
       "<div>\n",
       "<style scoped>\n",
       "    .dataframe tbody tr th:only-of-type {\n",
       "        vertical-align: middle;\n",
       "    }\n",
       "\n",
       "    .dataframe tbody tr th {\n",
       "        vertical-align: top;\n",
       "    }\n",
       "\n",
       "    .dataframe thead th {\n",
       "        text-align: right;\n",
       "    }\n",
       "</style>\n",
       "<table border=\"1\" class=\"dataframe\">\n",
       "  <thead>\n",
       "    <tr style=\"text-align: right;\">\n",
       "      <th></th>\n",
       "      <th>hero1</th>\n",
       "      <th>hero2</th>\n",
       "    </tr>\n",
       "  </thead>\n",
       "  <tbody>\n",
       "    <tr>\n",
       "      <th>0</th>\n",
       "      <td>LITTLE, ABNER</td>\n",
       "      <td>PRINCESS ZANDA</td>\n",
       "    </tr>\n",
       "    <tr>\n",
       "      <th>1</th>\n",
       "      <td>LITTLE, ABNER</td>\n",
       "      <td>BLACK PANTHER/T'CHAL</td>\n",
       "    </tr>\n",
       "    <tr>\n",
       "      <th>2</th>\n",
       "      <td>BLACK PANTHER/T'CHAL</td>\n",
       "      <td>PRINCESS ZANDA</td>\n",
       "    </tr>\n",
       "    <tr>\n",
       "      <th>3</th>\n",
       "      <td>LITTLE, ABNER</td>\n",
       "      <td>PRINCESS ZANDA</td>\n",
       "    </tr>\n",
       "    <tr>\n",
       "      <th>4</th>\n",
       "      <td>LITTLE, ABNER</td>\n",
       "      <td>BLACK PANTHER/T'CHAL</td>\n",
       "    </tr>\n",
       "  </tbody>\n",
       "</table>\n",
       "</div>"
      ],
      "text/plain": [
       "                  hero1                 hero2\n",
       "0         LITTLE, ABNER        PRINCESS ZANDA\n",
       "1         LITTLE, ABNER  BLACK PANTHER/T'CHAL\n",
       "2  BLACK PANTHER/T'CHAL        PRINCESS ZANDA\n",
       "3         LITTLE, ABNER        PRINCESS ZANDA\n",
       "4         LITTLE, ABNER  BLACK PANTHER/T'CHAL"
      ]
     },
     "execution_count": 2,
     "metadata": {},
     "output_type": "execute_result"
    }
   ],
   "source": [
    "hero_network = pd.read_csv(\"data/hero-network.csv\")\n",
    "hero_network.head()"
   ]
  },
  {
   "cell_type": "code",
   "execution_count": 3,
   "id": "a9219d55",
   "metadata": {},
   "outputs": [
    {
     "name": "stdout",
     "output_type": "stream",
     "text": [
      "<class 'pandas.core.frame.DataFrame'>\n",
      "Int64Index: 103 entries, 895 to 573288\n",
      "Data columns (total 2 columns):\n",
      " #   Column  Non-Null Count  Dtype \n",
      "---  ------  --------------  ----- \n",
      " 0   hero1   103 non-null    object\n",
      " 1   hero2   103 non-null    object\n",
      "dtypes: object(2)\n",
      "memory usage: 2.4+ KB\n"
     ]
    }
   ],
   "source": [
    "heroes = {'MEDUSA/MEDUSALITH AM','ARCLIGHT/PHILLIPA SO','WOLVERINE/LOGAN ','SCARLET WITCH/WANDA ',\n",
    "          'ARAGORN','OVERMIND/GROM','BATTLEAXE/','ION/', 'PINK PEARL/'}\n",
    "relations = hero_network[(hero_network.hero1.isin(heroes)) & (hero_network.hero2.isin(heroes))]\n",
    "relations.info()"
   ]
  },
  {
   "cell_type": "code",
   "execution_count": 4,
   "id": "2dd99230",
   "metadata": {},
   "outputs": [],
   "source": [
    "graph = nx.from_pandas_edgelist(hero_network, source = \"hero1\", target = \"hero2\")"
   ]
  },
  {
   "cell_type": "code",
   "execution_count": 5,
   "id": "202f41ad",
   "metadata": {},
   "outputs": [],
   "source": [
    "import matplotlib.pyplot as plt\n",
    "%matplotlib inline\n",
    "import seaborn as sns; sns.set_style(\"dark\")"
   ]
  },
  {
   "cell_type": "code",
   "execution_count": null,
   "id": "8a26c8a8",
   "metadata": {},
   "outputs": [],
   "source": [
    "plt.figure(figsize = (12, 8))\n",
    "#plt.title(\"Network Graph of Marvel Characters' Interactions\")\n",
    "nx.draw_networkx(graph, font_size = 9, font_color = \"red\", font_weight = \"bold\", font_family = \"DejaVu Sans\")"
   ]
  },
  {
   "cell_type": "code",
   "execution_count": null,
   "id": "001a098b",
   "metadata": {},
   "outputs": [],
   "source": [
    " matrix = nx.to_pandas_adjacency(graph, dtype=int)"
   ]
  },
  {
   "cell_type": "code",
   "execution_count": null,
   "id": "8df4fb29",
   "metadata": {},
   "outputs": [],
   "source": [
    "def ansatz(qc, qr, thetas, rounds=3):\n",
    "    for r in range(rounds):\n",
    "        for i in range(len(qr)):\n",
    "            offset = r*len(qr)*2 +i*2\n",
    "        \n",
    "            qc.ry(thetas[offset], qr[i])\n",
    "            qc.rz(thetas[offset+1], qr[i])\n",
    "            \n",
    "            if i > 0 and r < rounds - 1:\n",
    "                qc.cx(qr[i-1], qr[i])\n",
    "    \n",
    "    return qc"
   ]
  },
  {
   "cell_type": "code",
   "execution_count": null,
   "id": "f9a8862a",
   "metadata": {},
   "outputs": [],
   "source": [
    "def pauli_decomposition(H):\n",
    "    n = int(np.log2(len(H)))\n",
    "    dims = 2**n\n",
    "    \n",
    "    if H.shape != (dims, dims):\n",
    "        raise ValueError(\"The input must be a 2^n x 2^n dimensional matrix.\")\n",
    "        \n",
    "    basis_key = [\"\".join(k) for k in product(PAULIS.keys(), repeat = n)]\n",
    "    components = defaultdict(int)\n",
    "    \n",
    "    for i, val in enumerate(product(PAULIS.values(), repeat = n)):\n",
    "        basis_mat = reduce(np.kron, val)\n",
    "        coeff = H.reshape(-1).dot(basis_mat.reshape(-1))/dims\n",
    "        coeff = np.real_if_close(coeff).item()\n",
    "    \n",
    "        if not np.allclose(coeff, 0):\n",
    "            components[basis_key[i]] = coeff\n",
    "    \n",
    "    return components"
   ]
  },
  {
   "cell_type": "code",
   "execution_count": null,
   "id": "081e0cfe",
   "metadata": {},
   "outputs": [],
   "source": []
  }
 ],
 "metadata": {
  "kernelspec": {
   "display_name": "Python 3 (ipykernel)",
   "language": "python",
   "name": "python3"
  },
  "language_info": {
   "codemirror_mode": {
    "name": "ipython",
    "version": 3
   },
   "file_extension": ".py",
   "mimetype": "text/x-python",
   "name": "python",
   "nbconvert_exporter": "python",
   "pygments_lexer": "ipython3",
   "version": "3.10.4"
  }
 },
 "nbformat": 4,
 "nbformat_minor": 5
}
