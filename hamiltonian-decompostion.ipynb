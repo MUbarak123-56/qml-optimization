{
 "cells": [
  {
   "cell_type": "code",
   "execution_count": 1,
   "id": "d8a54831",
   "metadata": {},
   "outputs": [],
   "source": [
    "from qiskit import QuantumCircuit, execute, Aer, QuantumRegister, ClassicalRegister\n",
    "from qiskit.visualization import plot_histogram, plot_bloch_multivector"
   ]
  },
  {
   "cell_type": "code",
   "execution_count": 2,
   "id": "c1a9eb33",
   "metadata": {},
   "outputs": [],
   "source": [
    "from collections import defaultdict\n",
    "from functools import reduce\n",
    "from itertools import product\n",
    "import numpy as np"
   ]
  },
  {
   "cell_type": "code",
   "execution_count": 3,
   "id": "9cf1f212",
   "metadata": {},
   "outputs": [],
   "source": [
    "PAULIS = {\"I\":np.eye(2, dtype = complex),\n",
    "          \"X\":np.array([[0,1],[1,0]], dtype = complex),\n",
    "          \"Y\": np.array([[0, -1j],[1j, 0]], dtype = complex),\n",
    "          \"Z\": np.array([[1,0],[0,-1]], dtype = complex)}"
   ]
  },
  {
   "cell_type": "code",
   "execution_count": 4,
   "id": "022bbf84",
   "metadata": {},
   "outputs": [
    {
     "data": {
      "text/plain": [
       "{'I': array([[1.+0.j, 0.+0.j],\n",
       "        [0.+0.j, 1.+0.j]]),\n",
       " 'X': array([[0.+0.j, 1.+0.j],\n",
       "        [1.+0.j, 0.+0.j]]),\n",
       " 'Y': array([[ 0.+0.j, -0.-1.j],\n",
       "        [ 0.+1.j,  0.+0.j]]),\n",
       " 'Z': array([[ 1.+0.j,  0.+0.j],\n",
       "        [ 0.+0.j, -1.+0.j]])}"
      ]
     },
     "execution_count": 4,
     "metadata": {},
     "output_type": "execute_result"
    }
   ],
   "source": [
    "PAULIS"
   ]
  },
  {
   "cell_type": "code",
   "execution_count": 5,
   "id": "08388fc8",
   "metadata": {},
   "outputs": [],
   "source": [
    "def pauli_decomposition(H):\n",
    "    n = int(np.log2(len(H)))\n",
    "    dims = 2**n\n",
    "    \n",
    "    if H.shape != (dims, dims):\n",
    "        raise ValueError(\"The input must be a 2^n x 2^n dimensional matrix.\")\n",
    "        \n",
    "    basis_key = [\"\".join(k) for k in product(PAULIS.keys(), repeat = n)]\n",
    "    components = defaultdict(int)\n",
    "    \n",
    "    for i, val in enumerate(product(PAULIS.values(), repeat = n)):\n",
    "        basis_mat = reduce(np.kron, val)\n",
    "        coeff = H.reshape(-1).dot(basis_mat.reshape(-1))/dims\n",
    "        coeff = np.real_if_close(coeff).item()\n",
    "    \n",
    "        if not np.allclose(coeff, 0):\n",
    "            components[basis_key[i]] = coeff\n",
    "    \n",
    "    return components"
   ]
  },
  {
   "cell_type": "code",
   "execution_count": 6,
   "id": "0b6da811",
   "metadata": {},
   "outputs": [
    {
     "data": {
      "text/plain": [
       "defaultdict(int, {'I': 2.5, 'X': 1.0, 'Z': 0.5})"
      ]
     },
     "execution_count": 6,
     "metadata": {},
     "output_type": "execute_result"
    }
   ],
   "source": [
    "pauli_decomposition(np.array([[3, 1], [1, 2]], dtype=complex))"
   ]
  },
  {
   "cell_type": "markdown",
   "id": "e5207e24",
   "metadata": {},
   "source": [
    "### Two Qubit Decomposition"
   ]
  },
  {
   "cell_type": "code",
   "execution_count": 7,
   "id": "54dfd67c",
   "metadata": {},
   "outputs": [
    {
     "data": {
      "text/plain": [
       "defaultdict(int,\n",
       "            {'II': 0.5,\n",
       "             'IX': 3.0,\n",
       "             'IZ': 0.5,\n",
       "             'XI': 0.5,\n",
       "             'XX': 1.5,\n",
       "             'XZ': 0.5,\n",
       "             'YY': -1.5})"
      ]
     },
     "execution_count": 7,
     "metadata": {},
     "output_type": "execute_result"
    }
   ],
   "source": [
    "pauli_decomposition(np.array([[1, 3, 1, 3], [3, 0,0,0], [1,0,1,3],\n",
    "[3,0,3,0]], dtype=complex))"
   ]
  },
  {
   "cell_type": "markdown",
   "id": "4f700a54",
   "metadata": {},
   "source": [
    "### Multi Qubit Decomposition"
   ]
  },
  {
   "cell_type": "code",
   "execution_count": 8,
   "id": "55630b69",
   "metadata": {},
   "outputs": [],
   "source": [
    "def matrix_decomposition_circuits(H):\n",
    "    n = int(np.log2(len(H)))\n",
    "    dims = 2**n\n",
    "\n",
    "    if H.shape != (dims, dims):\n",
    "        raise ValueError(\"The input must be a 2^n x 2^n dimensional matrix.\")\n",
    "\n",
    "    components = pauli_decomposition(H)\n",
    "\n",
    "    circuits = {} \n",
    "    for (paulistring, weight) in components.items():\n",
    "        paulis = list(enumerate(reversed(paulistring)))\n",
    "        qr = QuantumRegister(n, \"qr\")\n",
    "        cr = ClassicalRegister(1, \"cr\")\n",
    "        qc = QuantumCircuit(qr, cr)\n",
    "        \n",
    "        # don't do anything if all Paulis are I\n",
    "        if all(x[1] == \"I\" for x in paulis):\n",
    "            # we use this empty circuit that we will measure as \"0\" (eigenvalue1) in all cases\n",
    "            qc.measure(qr[-1], cr[0])\n",
    "            circuits[paulistring] = (qc, weight)\n",
    "            continue\n",
    "            \n",
    "        # do the single qubit transformations\n",
    "        for idx, letter in paulis:\n",
    "            if letter == \"X\":\n",
    "                qc.h(qr[idx])\n",
    "            elif letter == \"Y\":\n",
    "                qc.h(qr[idx])\n",
    "                qc.sdg(qr[idx])\n",
    "        # add the inter−qubit gates\n",
    "        for idx, (first, second) in enumerate(zip(paulis, paulis[1:])):\n",
    "            if second[1] == \"I\":\n",
    "                qc.swap(first[0], second[0])\n",
    "            elif first[1] != \"I\":\n",
    "                paulis[idx+1] = (paulis[idx+1][0], paulis[idx][1])\n",
    "                qc.cx(first[0], second[0])\n",
    "        # measure the highest qubit\n",
    "        qc.measure(qr[-1], cr[0])\n",
    "        circuits[paulistring] = (qc,weight)\n",
    "        \n",
    "    return circuits"
   ]
  },
  {
   "cell_type": "code",
   "execution_count": 9,
   "id": "3d7c4e31",
   "metadata": {},
   "outputs": [
    {
     "data": {
      "text/plain": [
       "{'II': (<qiskit.circuit.quantumcircuit.QuantumCircuit at 0x1d24c585ba0>, 0.5),\n",
       " 'IX': (<qiskit.circuit.quantumcircuit.QuantumCircuit at 0x1d24c585330>, 3.0),\n",
       " 'IZ': (<qiskit.circuit.quantumcircuit.QuantumCircuit at 0x1d24c5848b0>, 0.5),\n",
       " 'XI': (<qiskit.circuit.quantumcircuit.QuantumCircuit at 0x1d24c5845e0>, 0.5),\n",
       " 'XX': (<qiskit.circuit.quantumcircuit.QuantumCircuit at 0x1d24c584400>, 1.5),\n",
       " 'XZ': (<qiskit.circuit.quantumcircuit.QuantumCircuit at 0x1d24c5856f0>, 0.5),\n",
       " 'YY': (<qiskit.circuit.quantumcircuit.QuantumCircuit at 0x1d24c5861d0>, -1.5)}"
      ]
     },
     "execution_count": 9,
     "metadata": {},
     "output_type": "execute_result"
    }
   ],
   "source": [
    "circuits = matrix_decomposition_circuits(np.array([[1, 3, 1, 3], [3,\n",
    "0,0,0], [1,0,1,3], [3,0,3,0]], dtype=complex))\n",
    "\n",
    "circuits"
   ]
  },
  {
   "cell_type": "code",
   "execution_count": 10,
   "id": "47c28ab6",
   "metadata": {},
   "outputs": [
    {
     "data": {
      "image/png": "[encoded data removed]",
      "text/plain": [
       "<Figure size 335.906x204.68 with 1 Axes>"
      ]
     },
     "execution_count": 10,
     "metadata": {},
     "output_type": "execute_result"
    }
   ],
   "source": [
    "qc = circuits['YY'][0]\n",
    "qc.draw(\"mpl\")"
   ]
  },
  {
   "cell_type": "code",
   "execution_count": 11,
   "id": "97de962e",
   "metadata": {},
   "outputs": [
    {
     "data": {
      "text/plain": [
       "{'III': (<qiskit.circuit.quantumcircuit.QuantumCircuit at 0x1d24d2a3580>,\n",
       "  0.75),\n",
       " 'IIX': (<qiskit.circuit.quantumcircuit.QuantumCircuit at 0x1d24c585990>, 2.0),\n",
       " 'IIZ': (<qiskit.circuit.quantumcircuit.QuantumCircuit at 0x1d24c585540>,\n",
       "  0.25),\n",
       " 'IXI': (<qiskit.circuit.quantumcircuit.QuantumCircuit at 0x1d24d438130>,\n",
       "  0.75),\n",
       " 'IXX': (<qiskit.circuit.quantumcircuit.QuantumCircuit at 0x1d24d438310>,\n",
       "  1.25),\n",
       " 'IXZ': (<qiskit.circuit.quantumcircuit.QuantumCircuit at 0x1d24d438550>,\n",
       "  0.25),\n",
       " 'IYY': (<qiskit.circuit.quantumcircuit.QuantumCircuit at 0x1d24d2a0400>,\n",
       "  -0.75),\n",
       " 'XII': (<qiskit.circuit.quantumcircuit.QuantumCircuit at 0x1d24d267f40>, 1.5),\n",
       " 'XIX': (<qiskit.circuit.quantumcircuit.QuantumCircuit at 0x1d24d377130>,\n",
       "  1.25),\n",
       " 'XXI': (<qiskit.circuit.quantumcircuit.QuantumCircuit at 0x1d24d377160>,\n",
       "  1.25),\n",
       " 'XXX': (<qiskit.circuit.quantumcircuit.QuantumCircuit at 0x1d24d377850>,\n",
       "  1.25),\n",
       " 'XXZ': (<qiskit.circuit.quantumcircuit.QuantumCircuit at 0x1d24d37e920>,\n",
       "  0.75),\n",
       " 'XYY': (<qiskit.circuit.quantumcircuit.QuantumCircuit at 0x1d24d37c5e0>,\n",
       "  0.75),\n",
       " 'XZI': (<qiskit.circuit.quantumcircuit.QuantumCircuit at 0x1d24d37c760>, 0.5),\n",
       " 'XZX': (<qiskit.circuit.quantumcircuit.QuantumCircuit at 0x1d24d37d870>,\n",
       "  0.25),\n",
       " 'YIY': (<qiskit.circuit.quantumcircuit.QuantumCircuit at 0x1d24d37c160>,\n",
       "  -0.25),\n",
       " 'YXY': (<qiskit.circuit.quantumcircuit.QuantumCircuit at 0x1d24d37d360>,\n",
       "  -0.75),\n",
       " 'YYI': (<qiskit.circuit.quantumcircuit.QuantumCircuit at 0x1d24d37cb20>,\n",
       "  0.25),\n",
       " 'YYX': (<qiskit.circuit.quantumcircuit.QuantumCircuit at 0x1d24d37d000>,\n",
       "  0.25),\n",
       " 'YYZ': (<qiskit.circuit.quantumcircuit.QuantumCircuit at 0x1d24d438c70>,\n",
       "  0.75),\n",
       " 'YZY': (<qiskit.circuit.quantumcircuit.QuantumCircuit at 0x1d24d439090>,\n",
       "  -0.25),\n",
       " 'ZII': (<qiskit.circuit.quantumcircuit.QuantumCircuit at 0x1d24d4394b0>,\n",
       "  -0.25),\n",
       " 'ZIX': (<qiskit.circuit.quantumcircuit.QuantumCircuit at 0x1d24d4396c0>, 1.0),\n",
       " 'ZIZ': (<qiskit.circuit.quantumcircuit.QuantumCircuit at 0x1d24d439900>,\n",
       "  0.25),\n",
       " 'ZXI': (<qiskit.circuit.quantumcircuit.QuantumCircuit at 0x1d24d439b40>,\n",
       "  -0.25),\n",
       " 'ZXX': (<qiskit.circuit.quantumcircuit.QuantumCircuit at 0x1d24d439d50>,\n",
       "  0.25),\n",
       " 'ZXZ': (<qiskit.circuit.quantumcircuit.QuantumCircuit at 0x1d24d43a140>,\n",
       "  0.25),\n",
       " 'ZYY': (<qiskit.circuit.quantumcircuit.QuantumCircuit at 0x1d24d43a440>,\n",
       "  -0.75)}"
      ]
     },
     "execution_count": 11,
     "metadata": {},
     "output_type": "execute_result"
    }
   ],
   "source": [
    "circuits = matrix_decomposition_circuits(np.array([[1,3,1,3,2,2,1,1],\n",
    "                                                   [3,0,0,0,1,2,1,1],\n",
    "                                                   [1,0,1,3,3,3,1,1],\n",
    "                                                   [3,0,3,0,0,0,1,1],\n",
    "                                                   [2,1,3,0,1,1,1,1],\n",
    "                                                   [2,2,3,0,1,1,1,1],\n",
    "                                                   [1,1,1,1,1,1,1,1],\n",
    "                                                   [1,1,1,1,1,1,1,1]], dtype=complex))\n",
    "circuits"
   ]
  },
  {
   "cell_type": "code",
   "execution_count": 12,
   "id": "b9297e2b",
   "metadata": {},
   "outputs": [
    {
     "data": {
      "image/png": "[encoded data removed]",
      "text/plain": [
       "<Figure size 155.451x264.88 with 1 Axes>"
      ]
     },
     "execution_count": 12,
     "metadata": {},
     "output_type": "execute_result"
    }
   ],
   "source": [
    "qc = circuits['III'][0]\n",
    "qc.draw(\"mpl\")"
   ]
  },
  {
   "cell_type": "code",
   "execution_count": null,
   "id": "f8313cfe",
   "metadata": {},
   "outputs": [],
   "source": []
  },
  {
   "cell_type": "markdown",
   "id": "ef8074ea",
   "metadata": {},
   "source": [
    "### The Expectation Value"
   ]
  },
  {
   "cell_type": "code",
   "execution_count": 13,
   "id": "23cd536a",
   "metadata": {},
   "outputs": [],
   "source": [
    "def run_circuit(circuit, backend, shots = 1000):\n",
    "    result = execute(circuit, backend, shots = shots).result()\n",
    "    counts = result.get_counts()\n",
    "    if \"0\" in counts.keys():\n",
    "        count_0 = counts[\"0\"]\n",
    "    else:\n",
    "        count_0 = 0\n",
    "    if \"1\" in counts.keys():\n",
    "        count_1 = counts[\"1\"]\n",
    "    else:\n",
    "        count_1 = 1\n",
    "    return (count_0 - count_1)/shots\n",
    "\n",
    "def expectation(H):\n",
    "    backend = Aer.get_backend(\"qasm_simulator\")\n",
    "    circuits = matrix_decomposition_circuits(H)\n",
    "    \n",
    "    return sum(map(lambda key: run_circuit(circuits[key][0], backend)*circuits[key][1], circuits.keys()))"
   ]
  },
  {
   "cell_type": "code",
   "execution_count": 14,
   "id": "28589ace",
   "metadata": {},
   "outputs": [
    {
     "data": {
      "text/plain": [
       "1.9754999999999998"
      ]
     },
     "execution_count": 14,
     "metadata": {},
     "output_type": "execute_result"
    }
   ],
   "source": [
    "expectation(np.array([[1,3,1,3,2,2,1,1],\n",
    "                      [3,0,0,0,1,2,1,1],\n",
    "                      [1,0,1,3,3,3,1,1],\n",
    "                      [3,0,3,0,0,0,1,1],\n",
    "                      [2,1,3,0,1,1,1,1],\n",
    "                      [2,2,3,0,1,1,1,1],\n",
    "                      [1,1,1,1,1,1,1,1],\n",
    "                      [1,1,1,1,1,1,1,1]], dtype=complex))"
   ]
  },
  {
   "cell_type": "code",
   "execution_count": null,
   "id": "0cb239bc",
   "metadata": {},
   "outputs": [],
   "source": [
    "expectation(np.array([[1, 3, 1, 3], [3,0,0,0], [1,0,1,3], [3,0,3,0]], dtype=complex))"
   ]
  },
  {
   "cell_type": "code",
   "execution_count": null,
   "id": "8b912ae3",
   "metadata": {},
   "outputs": [],
   "source": [
    "expectation(np.array([[3,1],[1,2]], dtype = complex))"
   ]
  },
  {
   "cell_type": "code",
   "execution_count": null,
   "id": "7b7b7a0a",
   "metadata": {},
   "outputs": [],
   "source": []
  }
 ],
 "metadata": {
  "kernelspec": {
   "display_name": "Python 3 (ipykernel)",
   "language": "python",
   "name": "python3"
  },
  "language_info": {
   "codemirror_mode": {
    "name": "ipython",
    "version": 3
   },
   "file_extension": ".py",
   "mimetype": "text/x-python",
   "name": "python",
   "nbconvert_exporter": "python",
   "pygments_lexer": "ipython3",
   "version": "3.10.4"
  }
 },
 "nbformat": 4,
 "nbformat_minor": 5
}
