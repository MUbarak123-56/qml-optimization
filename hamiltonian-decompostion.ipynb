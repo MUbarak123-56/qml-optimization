{
  "cells": [
    {
      "cell_type": "code",
      "source": [
        "!pip install -q qiskit\n",
        "!pip install -q pylatexenc\n",
        "#!pip install git+https://github.com/qiskit-community/qiskit-textbook.git#subdirectory=qiskit-textbook-src\n",
        "!pip install qiskit-aer"
      ],
      "metadata": {
        "id": "ow0iblQdsSBx",
        "outputId": "71b5a001-9de6-41c6-e709-7b8bbdd8e514",
        "colab": {
          "base_uri": "https://localhost:8080/"
        }
      },
      "id": "ow0iblQdsSBx",
      "execution_count": 1,
      "outputs": [
        {
          "output_type": "stream",
          "name": "stdout",
          "text": [
            "\u001b[2K     \u001b[90m━━━━━━━━━━━━━━━━━━━━━━━━━━━━━━━━━━━━━━━━\u001b[0m \u001b[32m6.1/6.1 MB\u001b[0m \u001b[31m22.5 MB/s\u001b[0m eta \u001b[36m0:00:00\u001b[0m\n",
            "\u001b[2K     \u001b[90m━━━━━━━━━━━━━━━━━━━━━━━━━━━━━━━━━━━━━━━━\u001b[0m \u001b[32m2.0/2.0 MB\u001b[0m \u001b[31m46.5 MB/s\u001b[0m eta \u001b[36m0:00:00\u001b[0m\n",
            "\u001b[2K     \u001b[90m━━━━━━━━━━━━━━━━━━━━━━━━━━━━━━━━━━━━━━━━\u001b[0m \u001b[32m49.6/49.6 kB\u001b[0m \u001b[31m4.9 MB/s\u001b[0m eta \u001b[36m0:00:00\u001b[0m\n",
            "\u001b[2K     \u001b[90m━━━━━━━━━━━━━━━━━━━━━━━━━━━━━━━━━━━━━━\u001b[0m \u001b[32m115.3/115.3 kB\u001b[0m \u001b[31m13.0 MB/s\u001b[0m eta \u001b[36m0:00:00\u001b[0m\n",
            "\u001b[2K     \u001b[90m━━━━━━━━━━━━━━━━━━━━━━━━━━━━━━━━━━━━━━━━\u001b[0m \u001b[32m49.6/49.6 kB\u001b[0m \u001b[31m1.8 MB/s\u001b[0m eta \u001b[36m0:00:00\u001b[0m\n",
            "\u001b[2K     \u001b[90m━━━━━━━━━━━━━━━━━━━━━━━━━━━━━━━━━━━━━━━━\u001b[0m \u001b[32m37.5/37.5 MB\u001b[0m \u001b[31m16.6 MB/s\u001b[0m eta \u001b[36m0:00:00\u001b[0m\n",
            "\u001b[2K     \u001b[90m━━━━━━━━━━━━━━━━━━━━━━━━━━━━━━━━━━━━━━━\u001b[0m \u001b[32m112.7/112.7 kB\u001b[0m \u001b[31m8.7 MB/s\u001b[0m eta \u001b[36m0:00:00\u001b[0m\n",
            "\u001b[2K     \u001b[90m━━━━━━━━━━━━━━━━━━━━━━━━━━━━━━━━━━━━━━━\u001b[0m \u001b[32m162.6/162.6 kB\u001b[0m \u001b[31m2.7 MB/s\u001b[0m eta \u001b[36m0:00:00\u001b[0m\n",
            "\u001b[?25h  Preparing metadata (setup.py) ... \u001b[?25l\u001b[?25hdone\n",
            "  Building wheel for pylatexenc (setup.py) ... \u001b[?25l\u001b[?25hdone\n",
            "Collecting qiskit-aer\n",
            "  Downloading qiskit_aer-0.12.2-cp310-cp310-manylinux_2_17_x86_64.manylinux2014_x86_64.whl (12.8 MB)\n",
            "\u001b[2K     \u001b[90m━━━━━━━━━━━━━━━━━━━━━━━━━━━━━━━━━━━━━━━━\u001b[0m \u001b[32m12.8/12.8 MB\u001b[0m \u001b[31m37.7 MB/s\u001b[0m eta \u001b[36m0:00:00\u001b[0m\n",
            "\u001b[?25hRequirement already satisfied: qiskit-terra>=0.21.0 in /usr/local/lib/python3.10/dist-packages (from qiskit-aer) (0.25.1)\n",
            "Requirement already satisfied: numpy>=1.16.3 in /usr/local/lib/python3.10/dist-packages (from qiskit-aer) (1.23.5)\n",
            "Requirement already satisfied: scipy>=1.0 in /usr/local/lib/python3.10/dist-packages (from qiskit-aer) (1.10.1)\n",
            "Requirement already satisfied: rustworkx>=0.13.0 in /usr/local/lib/python3.10/dist-packages (from qiskit-terra>=0.21.0->qiskit-aer) (0.13.1)\n",
            "Requirement already satisfied: ply>=3.10 in /usr/local/lib/python3.10/dist-packages (from qiskit-terra>=0.21.0->qiskit-aer) (3.11)\n",
            "Requirement already satisfied: psutil>=5 in /usr/local/lib/python3.10/dist-packages (from qiskit-terra>=0.21.0->qiskit-aer) (5.9.5)\n",
            "Requirement already satisfied: sympy>=1.3 in /usr/local/lib/python3.10/dist-packages (from qiskit-terra>=0.21.0->qiskit-aer) (1.12)\n",
            "Requirement already satisfied: dill>=0.3 in /usr/local/lib/python3.10/dist-packages (from qiskit-terra>=0.21.0->qiskit-aer) (0.3.7)\n",
            "Requirement already satisfied: python-dateutil>=2.8.0 in /usr/local/lib/python3.10/dist-packages (from qiskit-terra>=0.21.0->qiskit-aer) (2.8.2)\n",
            "Requirement already satisfied: stevedore>=3.0.0 in /usr/local/lib/python3.10/dist-packages (from qiskit-terra>=0.21.0->qiskit-aer) (5.1.0)\n",
            "Requirement already satisfied: symengine<0.10,>=0.9 in /usr/local/lib/python3.10/dist-packages (from qiskit-terra>=0.21.0->qiskit-aer) (0.9.2)\n",
            "Requirement already satisfied: typing-extensions in /usr/local/lib/python3.10/dist-packages (from qiskit-terra>=0.21.0->qiskit-aer) (4.7.1)\n",
            "Requirement already satisfied: six>=1.5 in /usr/local/lib/python3.10/dist-packages (from python-dateutil>=2.8.0->qiskit-terra>=0.21.0->qiskit-aer) (1.16.0)\n",
            "Requirement already satisfied: pbr!=2.1.0,>=2.0.0 in /usr/local/lib/python3.10/dist-packages (from stevedore>=3.0.0->qiskit-terra>=0.21.0->qiskit-aer) (5.11.1)\n",
            "Requirement already satisfied: mpmath>=0.19 in /usr/local/lib/python3.10/dist-packages (from sympy>=1.3->qiskit-terra>=0.21.0->qiskit-aer) (1.3.0)\n",
            "Installing collected packages: qiskit-aer\n",
            "Successfully installed qiskit-aer-0.12.2\n"
          ]
        }
      ]
    },
    {
      "cell_type": "code",
      "execution_count": 2,
      "id": "d8a54831",
      "metadata": {
        "id": "d8a54831"
      },
      "outputs": [],
      "source": [
        "from qiskit import QuantumCircuit, execute, Aer, QuantumRegister, ClassicalRegister\n",
        "from qiskit.visualization import plot_histogram, plot_bloch_multivector"
      ]
    },
    {
      "cell_type": "code",
      "execution_count": 3,
      "id": "c1a9eb33",
      "metadata": {
        "id": "c1a9eb33"
      },
      "outputs": [],
      "source": [
        "from collections import defaultdict\n",
        "from functools import reduce\n",
        "from itertools import product\n",
        "import numpy as np"
      ]
    },
    {
      "cell_type": "code",
      "execution_count": 4,
      "id": "9cf1f212",
      "metadata": {
        "id": "9cf1f212"
      },
      "outputs": [],
      "source": [
        "PAULIS = {\"I\":np.eye(2, dtype = complex),\n",
        "          \"X\":np.array([[0,1],[1,0]], dtype = complex),\n",
        "          \"Y\": np.array([[0, -1j],[1j, 0]], dtype = complex),\n",
        "          \"Z\": np.array([[1,0],[0,-1]], dtype = complex)}"
      ]
    },
    {
      "cell_type": "code",
      "execution_count": 5,
      "id": "022bbf84",
      "metadata": {
        "id": "022bbf84",
        "outputId": "3075c1ec-dcdf-4d2f-86b9-ae02e9361766",
        "colab": {
          "base_uri": "https://localhost:8080/"
        }
      },
      "outputs": [
        {
          "output_type": "execute_result",
          "data": {
            "text/plain": [
              "{'I': array([[1.+0.j, 0.+0.j],\n",
              "        [0.+0.j, 1.+0.j]]),\n",
              " 'X': array([[0.+0.j, 1.+0.j],\n",
              "        [1.+0.j, 0.+0.j]]),\n",
              " 'Y': array([[ 0.+0.j, -0.-1.j],\n",
              "        [ 0.+1.j,  0.+0.j]]),\n",
              " 'Z': array([[ 1.+0.j,  0.+0.j],\n",
              "        [ 0.+0.j, -1.+0.j]])}"
            ]
          },
          "metadata": {},
          "execution_count": 5
        }
      ],
      "source": [
        "PAULIS"
      ]
    },
    {
      "cell_type": "code",
      "execution_count": 6,
      "id": "08388fc8",
      "metadata": {
        "id": "08388fc8"
      },
      "outputs": [],
      "source": [
        "def pauli_decomposition(H):\n",
        "    n = int(np.log2(len(H)))\n",
        "    dims = 2**n\n",
        "\n",
        "    if H.shape != (dims, dims):\n",
        "        raise ValueError(\"The input must be a 2^n x 2^n dimensional matrix.\")\n",
        "\n",
        "    basis_key = [\"\".join(k) for k in product(PAULIS.keys(), repeat = n)]\n",
        "    components = defaultdict(int)\n",
        "\n",
        "    for i, val in enumerate(product(PAULIS.values(), repeat = n)):\n",
        "        basis_mat = reduce(np.kron, val)\n",
        "        coeff = H.reshape(-1).dot(basis_mat.reshape(-1))/dims\n",
        "        coeff = np.real_if_close(coeff).item()\n",
        "\n",
        "        if not np.allclose(coeff, 0):\n",
        "            components[basis_key[i]] = coeff\n",
        "\n",
        "    return components"
      ]
    },
    {
      "cell_type": "code",
      "execution_count": 7,
      "id": "0b6da811",
      "metadata": {
        "colab": {
          "base_uri": "https://localhost:8080/"
        },
        "id": "0b6da811",
        "outputId": "895be331-9ce0-49d3-b0b9-531e8e0f3150"
      },
      "outputs": [
        {
          "output_type": "execute_result",
          "data": {
            "text/plain": [
              "defaultdict(int, {'I': 2.5, 'X': 1.0, 'Z': 0.5})"
            ]
          },
          "metadata": {},
          "execution_count": 7
        }
      ],
      "source": [
        "pauli_decomposition(np.array([[3, 1], [1, 2]], dtype=complex))"
      ]
    },
    {
      "cell_type": "code",
      "execution_count": 8,
      "metadata": {
        "outputId": "bdecebd6-ffa6-461e-d716-b37ecd179600",
        "id": "Nye2OKYiZwjf",
        "colab": {
          "base_uri": "https://localhost:8080/"
        }
      },
      "outputs": [
        {
          "output_type": "execute_result",
          "data": {
            "text/plain": [
              "defaultdict(int, {'I': 3.5, 'X': 1.5, 'Y': 0.5j, 'Z': 0.5})"
            ]
          },
          "metadata": {},
          "execution_count": 8
        }
      ],
      "source": [
        "pauli_decomposition(np.array([[4, 1], [2, 3]], dtype=complex))"
      ],
      "id": "Nye2OKYiZwjf"
    },
    {
      "cell_type": "markdown",
      "id": "e5207e24",
      "metadata": {
        "id": "e5207e24"
      },
      "source": [
        "### Two Qubit Decomposition"
      ]
    },
    {
      "cell_type": "code",
      "execution_count": 9,
      "id": "54dfd67c",
      "metadata": {
        "id": "54dfd67c",
        "outputId": "c7c2e388-881b-4fdc-db46-cf399320db92",
        "colab": {
          "base_uri": "https://localhost:8080/"
        }
      },
      "outputs": [
        {
          "output_type": "execute_result",
          "data": {
            "text/plain": [
              "defaultdict(int,\n",
              "            {'II': 0.5,\n",
              "             'IX': 3.0,\n",
              "             'IZ': 0.5,\n",
              "             'XI': 0.5,\n",
              "             'XX': 1.5,\n",
              "             'XZ': 0.5,\n",
              "             'YY': -1.5})"
            ]
          },
          "metadata": {},
          "execution_count": 9
        }
      ],
      "source": [
        "pauli_decomposition(np.array([[1, 3, 1, 3], [3, 0,0,0], [1,0,1,3],\n",
        "[3,0,3,0]], dtype=complex))"
      ]
    },
    {
      "cell_type": "markdown",
      "id": "4f700a54",
      "metadata": {
        "id": "4f700a54"
      },
      "source": [
        "### Multi Qubit Decomposition"
      ]
    },
    {
      "cell_type": "code",
      "execution_count": 10,
      "id": "55630b69",
      "metadata": {
        "id": "55630b69"
      },
      "outputs": [],
      "source": [
        "def matrix_decomposition_circuits(H):\n",
        "    n = int(np.log2(len(H)))\n",
        "    dims = 2**n\n",
        "\n",
        "    if H.shape != (dims, dims):\n",
        "        raise ValueError(\"The input must be a 2^n x 2^n dimensional matrix.\")\n",
        "\n",
        "    components = pauli_decomposition(H)\n",
        "\n",
        "    circuits = {}\n",
        "    for (paulistring, weight) in components.items():\n",
        "        paulis = list(enumerate(reversed(paulistring)))\n",
        "        qr = QuantumRegister(n, \"qr\")\n",
        "        cr = ClassicalRegister(1, \"cr\")\n",
        "        qc = QuantumCircuit(qr, cr)\n",
        "\n",
        "        # don't do anything if all Paulis are I\n",
        "        if all(x[1] == \"I\" for x in paulis):\n",
        "            # we use this empty circuit that we will measure as \"0\" (eigenvalue1) in all cases\n",
        "            qc.measure(qr[-1], cr[0])\n",
        "            circuits[paulistring] = (qc, weight)\n",
        "            continue\n",
        "\n",
        "        # do the single qubit transformations\n",
        "        for idx, letter in paulis:\n",
        "            if letter == \"X\":\n",
        "                qc.h(qr[idx])\n",
        "            elif letter == \"Y\":\n",
        "                qc.h(qr[idx])\n",
        "                qc.sdg(qr[idx])\n",
        "        # add the inter−qubit gates\n",
        "        for idx, (first, second) in enumerate(zip(paulis, paulis[1:])):\n",
        "            if second[1] == \"I\":\n",
        "                qc.swap(first[0], second[0])\n",
        "            elif first[1] != \"I\":\n",
        "                paulis[idx+1] = (paulis[idx+1][0], paulis[idx][1])\n",
        "                qc.cx(first[0], second[0])\n",
        "        # measure the highest qubit\n",
        "        qc.measure(qr[-1], cr[0])\n",
        "        circuits[paulistring] = (qc,weight)\n",
        "\n",
        "    return circuits"
      ]
    },
    {
      "cell_type": "code",
      "execution_count": 11,
      "id": "3d7c4e31",
      "metadata": {
        "id": "3d7c4e31",
        "outputId": "db1d7a0f-3a85-4d0f-b035-89cf941a9bc5",
        "colab": {
          "base_uri": "https://localhost:8080/"
        }
      },
      "outputs": [
        {
          "output_type": "execute_result",
          "data": {
            "text/plain": [
              "{'II': (<qiskit.circuit.quantumcircuit.QuantumCircuit at 0x7d256c4848e0>, 0.5),\n",
              " 'IX': (<qiskit.circuit.quantumcircuit.QuantumCircuit at 0x7d256c4850c0>, 3.0),\n",
              " 'IZ': (<qiskit.circuit.quantumcircuit.QuantumCircuit at 0x7d256c486da0>, 0.5),\n",
              " 'XI': (<qiskit.circuit.quantumcircuit.QuantumCircuit at 0x7d256c4847f0>, 0.5),\n",
              " 'XX': (<qiskit.circuit.quantumcircuit.QuantumCircuit at 0x7d256c484820>, 1.5),\n",
              " 'XZ': (<qiskit.circuit.quantumcircuit.QuantumCircuit at 0x7d256c484670>, 0.5),\n",
              " 'YY': (<qiskit.circuit.quantumcircuit.QuantumCircuit at 0x7d256c486290>,\n",
              "  -1.5)}"
            ]
          },
          "metadata": {},
          "execution_count": 11
        }
      ],
      "source": [
        "circuits = matrix_decomposition_circuits(np.array([[1, 3, 1, 3], [3,\n",
        "0,0,0], [1,0,1,3], [3,0,3,0]], dtype=complex))\n",
        "\n",
        "circuits"
      ]
    },
    {
      "cell_type": "code",
      "execution_count": 12,
      "id": "47c28ab6",
      "metadata": {
        "id": "47c28ab6",
        "outputId": "8b9e2e98-285c-4995-d80a-8f946fd57b83",
        "colab": {
          "base_uri": "https://localhost:8080/",
          "height": 255
        }
      },
      "outputs": [
        {
          "output_type": "execute_result",
          "data": {
            "text/plain": [
              "<Figure size 466.536x284.278 with 1 Axes>"
            ],
            "image/png": "[encoded data removed]"
          },
          "metadata": {},
          "execution_count": 12
        }
      ],
      "source": [
        "qc = circuits['YY'][0]\n",
        "qc.draw(\"mpl\")"
      ]
    },
    {
      "cell_type": "code",
      "execution_count": 13,
      "id": "97de962e",
      "metadata": {
        "id": "97de962e",
        "outputId": "aa660913-c74f-441c-a964-1c72b5c13ab2",
        "colab": {
          "base_uri": "https://localhost:8080/"
        }
      },
      "outputs": [
        {
          "output_type": "execute_result",
          "data": {
            "text/plain": [
              "{'III': (<qiskit.circuit.quantumcircuit.QuantumCircuit at 0x7d256c186230>,\n",
              "  0.75),\n",
              " 'IIX': (<qiskit.circuit.quantumcircuit.QuantumCircuit at 0x7d256c184340>,\n",
              "  2.0),\n",
              " 'IIZ': (<qiskit.circuit.quantumcircuit.QuantumCircuit at 0x7d256c1844f0>,\n",
              "  0.25),\n",
              " 'IXI': (<qiskit.circuit.quantumcircuit.QuantumCircuit at 0x7d256c184700>,\n",
              "  0.75),\n",
              " 'IXX': (<qiskit.circuit.quantumcircuit.QuantumCircuit at 0x7d256c1848b0>,\n",
              "  1.25),\n",
              " 'IXZ': (<qiskit.circuit.quantumcircuit.QuantumCircuit at 0x7d256c184a60>,\n",
              "  0.25),\n",
              " 'IYY': (<qiskit.circuit.quantumcircuit.QuantumCircuit at 0x7d256c184d60>,\n",
              "  -0.75),\n",
              " 'XII': (<qiskit.circuit.quantumcircuit.QuantumCircuit at 0x7d256c185000>,\n",
              "  1.5),\n",
              " 'XIX': (<qiskit.circuit.quantumcircuit.QuantumCircuit at 0x7d256c1853c0>,\n",
              "  1.25),\n",
              " 'XXI': (<qiskit.circuit.quantumcircuit.QuantumCircuit at 0x7d256c185600>,\n",
              "  1.25),\n",
              " 'XXX': (<qiskit.circuit.quantumcircuit.QuantumCircuit at 0x7d256c185930>,\n",
              "  1.25),\n",
              " 'XXZ': (<qiskit.circuit.quantumcircuit.QuantumCircuit at 0x7d256c185cf0>,\n",
              "  0.75),\n",
              " 'XYY': (<qiskit.circuit.quantumcircuit.QuantumCircuit at 0x7d256c186020>,\n",
              "  0.75),\n",
              " 'XZI': (<qiskit.circuit.quantumcircuit.QuantumCircuit at 0x7d256c186530>,\n",
              "  0.5),\n",
              " 'XZX': (<qiskit.circuit.quantumcircuit.QuantumCircuit at 0x7d256c186710>,\n",
              "  0.25),\n",
              " 'YIY': (<qiskit.circuit.quantumcircuit.QuantumCircuit at 0x7d256c186ad0>,\n",
              "  -0.25),\n",
              " 'YXY': (<qiskit.circuit.quantumcircuit.QuantumCircuit at 0x7d256c186ce0>,\n",
              "  -0.75),\n",
              " 'YYI': (<qiskit.circuit.quantumcircuit.QuantumCircuit at 0x7d256c187280>,\n",
              "  0.25),\n",
              " 'YYX': (<qiskit.circuit.quantumcircuit.QuantumCircuit at 0x7d256c1875e0>,\n",
              "  0.25),\n",
              " 'YYZ': (<qiskit.circuit.quantumcircuit.QuantumCircuit at 0x7d256c187a60>,\n",
              "  0.75),\n",
              " 'YZY': (<qiskit.circuit.quantumcircuit.QuantumCircuit at 0x7d256c264b20>,\n",
              "  -0.25),\n",
              " 'ZII': (<qiskit.circuit.quantumcircuit.QuantumCircuit at 0x7d256c265c30>,\n",
              "  -0.25),\n",
              " 'ZIX': (<qiskit.circuit.quantumcircuit.QuantumCircuit at 0x7d256c16cbb0>,\n",
              "  1.0),\n",
              " 'ZIZ': (<qiskit.circuit.quantumcircuit.QuantumCircuit at 0x7d256c16ec20>,\n",
              "  0.25),\n",
              " 'ZXI': (<qiskit.circuit.quantumcircuit.QuantumCircuit at 0x7d256c16f040>,\n",
              "  -0.25),\n",
              " 'ZXX': (<qiskit.circuit.quantumcircuit.QuantumCircuit at 0x7d256c16ee30>,\n",
              "  0.25),\n",
              " 'ZXZ': (<qiskit.circuit.quantumcircuit.QuantumCircuit at 0x7d256c16efe0>,\n",
              "  0.25),\n",
              " 'ZYY': (<qiskit.circuit.quantumcircuit.QuantumCircuit at 0x7d256c16e440>,\n",
              "  -0.75)}"
            ]
          },
          "metadata": {},
          "execution_count": 13
        }
      ],
      "source": [
        "circuits = matrix_decomposition_circuits(np.array([[1,3,1,3,2,2,1,1],\n",
        "                                                   [3,0,0,0,1,2,1,1],\n",
        "                                                   [1,0,1,3,3,3,1,1],\n",
        "                                                   [3,0,3,0,0,0,1,1],\n",
        "                                                   [2,1,3,0,1,1,1,1],\n",
        "                                                   [2,2,3,0,1,1,1,1],\n",
        "                                                   [1,1,1,1,1,1,1,1],\n",
        "                                                   [1,1,1,1,1,1,1,1]], dtype=complex))\n",
        "circuits"
      ]
    },
    {
      "cell_type": "code",
      "execution_count": 14,
      "id": "b9297e2b",
      "metadata": {
        "id": "b9297e2b",
        "outputId": "b2e509cd-c4ea-494c-b0e4-5e60d196a840",
        "colab": {
          "base_uri": "https://localhost:8080/",
          "height": 320
        }
      },
      "outputs": [
        {
          "output_type": "execute_result",
          "data": {
            "text/plain": [
              "<Figure size 215.904x367.889 with 1 Axes>"
            ],
            "image/png": "[encoded data removed]"
          },
          "metadata": {},
          "execution_count": 14
        }
      ],
      "source": [
        "qc = circuits['III'][0]\n",
        "qc.draw(\"mpl\")"
      ]
    },
    {
      "cell_type": "code",
      "execution_count": 14,
      "id": "f8313cfe",
      "metadata": {
        "id": "f8313cfe"
      },
      "outputs": [],
      "source": []
    },
    {
      "cell_type": "markdown",
      "id": "ef8074ea",
      "metadata": {
        "id": "ef8074ea"
      },
      "source": [
        "### The Expectation Value"
      ]
    },
    {
      "cell_type": "code",
      "execution_count": 15,
      "id": "23cd536a",
      "metadata": {
        "id": "23cd536a"
      },
      "outputs": [],
      "source": [
        "def run_circuit(circuit, backend, shots = 1000):\n",
        "    result = execute(circuit, backend, shots = shots).result()\n",
        "    counts = result.get_counts()\n",
        "    if \"0\" in counts.keys():\n",
        "        count_0 = counts[\"0\"]\n",
        "    else:\n",
        "        count_0 = 0\n",
        "    if \"1\" in counts.keys():\n",
        "        count_1 = counts[\"1\"]\n",
        "    else:\n",
        "        count_1 = 1\n",
        "    return (count_0 - count_1)/shots\n",
        "\n",
        "def expectation(H):\n",
        "    backend = Aer.get_backend(\"qasm_simulator\")\n",
        "    circuits = matrix_decomposition_circuits(H)\n",
        "\n",
        "    return sum(map(lambda key: run_circuit(circuits[key][0], backend)*circuits[key][1], circuits.keys()))"
      ]
    },
    {
      "cell_type": "code",
      "execution_count": 16,
      "id": "28589ace",
      "metadata": {
        "id": "28589ace",
        "outputId": "ab26e62d-3c5d-4675-e52d-ea68a537698f",
        "colab": {
          "base_uri": "https://localhost:8080/"
        }
      },
      "outputs": [
        {
          "output_type": "execute_result",
          "data": {
            "text/plain": [
              "1.879"
            ]
          },
          "metadata": {},
          "execution_count": 16
        }
      ],
      "source": [
        "expectation(np.array([[1,3,1,3,2,2,1,1],\n",
        "                      [3,0,0,0,1,2,1,1],\n",
        "                      [1,0,1,3,3,3,1,1],\n",
        "                      [3,0,3,0,0,0,1,1],\n",
        "                      [2,1,3,0,1,1,1,1],\n",
        "                      [2,2,3,0,1,1,1,1],\n",
        "                      [1,1,1,1,1,1,1,1],\n",
        "                      [1,1,1,1,1,1,1,1]], dtype=complex))"
      ]
    },
    {
      "cell_type": "code",
      "execution_count": 17,
      "id": "0cb239bc",
      "metadata": {
        "id": "0cb239bc",
        "outputId": "afe24e26-9fa5-4d68-a9b0-cc0c91f79538",
        "colab": {
          "base_uri": "https://localhost:8080/"
        }
      },
      "outputs": [
        {
          "output_type": "execute_result",
          "data": {
            "text/plain": [
              "0.9760000000000002"
            ]
          },
          "metadata": {},
          "execution_count": 17
        }
      ],
      "source": [
        "expectation(np.array([[1, 3, 1, 3], [3,0,0,0], [1,0,1,3], [3,0,3,0]], dtype=complex))"
      ]
    },
    {
      "cell_type": "code",
      "execution_count": 18,
      "id": "8b912ae3",
      "metadata": {
        "id": "8b912ae3",
        "outputId": "81b8fc40-b0af-4b81-d0eb-b0bc2767ca0c",
        "colab": {
          "base_uri": "https://localhost:8080/"
        }
      },
      "outputs": [
        {
          "output_type": "execute_result",
          "data": {
            "text/plain": [
              "2.961"
            ]
          },
          "metadata": {},
          "execution_count": 18
        }
      ],
      "source": [
        "expectation(np.array([[3,1],[1,2]], dtype = complex))"
      ]
    },
    {
      "cell_type": "code",
      "execution_count": null,
      "id": "7b7b7a0a",
      "metadata": {
        "id": "7b7b7a0a"
      },
      "outputs": [],
      "source": []
    }
  ],
  "metadata": {
    "kernelspec": {
      "display_name": "Python 3 (ipykernel)",
      "language": "python",
      "name": "python3"
    },
    "language_info": {
      "codemirror_mode": {
        "name": "ipython",
        "version": 3
      },
      "file_extension": ".py",
      "mimetype": "text/x-python",
      "name": "python",
      "nbconvert_exporter": "python",
      "pygments_lexer": "ipython3",
      "version": "3.10.4"
    },
    "colab": {
      "provenance": []
    }
  },
  "nbformat": 4,
  "nbformat_minor": 5
}