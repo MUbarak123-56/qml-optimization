{
 "cells": [
  {
   "cell_type": "markdown",
   "id": "55e15257",
   "metadata": {},
   "source": [
    "#### Loading data"
   ]
  },
  {
   "cell_type": "code",
   "execution_count": 1,
   "id": "c070d0ad",
   "metadata": {},
   "outputs": [],
   "source": [
    "import pandas as pd"
   ]
  },
  {
   "cell_type": "code",
   "execution_count": 2,
   "id": "61ff3fb8",
   "metadata": {},
   "outputs": [
    {
     "data": {
      "text/html": [
       "<div>\n",
       "<style scoped>\n",
       "    .dataframe tbody tr th:only-of-type {\n",
       "        vertical-align: middle;\n",
       "    }\n",
       "\n",
       "    .dataframe tbody tr th {\n",
       "        vertical-align: top;\n",
       "    }\n",
       "\n",
       "    .dataframe thead th {\n",
       "        text-align: right;\n",
       "    }\n",
       "</style>\n",
       "<table border=\"1\" class=\"dataframe\">\n",
       "  <thead>\n",
       "    <tr style=\"text-align: right;\">\n",
       "      <th></th>\n",
       "      <th>node</th>\n",
       "      <th>type</th>\n",
       "    </tr>\n",
       "  </thead>\n",
       "  <tbody>\n",
       "    <tr>\n",
       "      <th>0</th>\n",
       "      <td>2001 10</td>\n",
       "      <td>comic</td>\n",
       "    </tr>\n",
       "    <tr>\n",
       "      <th>1</th>\n",
       "      <td>2001 8</td>\n",
       "      <td>comic</td>\n",
       "    </tr>\n",
       "    <tr>\n",
       "      <th>2</th>\n",
       "      <td>2001 9</td>\n",
       "      <td>comic</td>\n",
       "    </tr>\n",
       "    <tr>\n",
       "      <th>3</th>\n",
       "      <td>24-HOUR MAN/EMMANUEL</td>\n",
       "      <td>hero</td>\n",
       "    </tr>\n",
       "    <tr>\n",
       "      <th>4</th>\n",
       "      <td>3-D MAN/CHARLES CHAN</td>\n",
       "      <td>hero</td>\n",
       "    </tr>\n",
       "  </tbody>\n",
       "</table>\n",
       "</div>"
      ],
      "text/plain": [
       "                   node   type\n",
       "0               2001 10  comic\n",
       "1                2001 8  comic\n",
       "2                2001 9  comic\n",
       "3  24-HOUR MAN/EMMANUEL   hero\n",
       "4  3-D MAN/CHARLES CHAN   hero"
      ]
     },
     "execution_count": 2,
     "metadata": {},
     "output_type": "execute_result"
    }
   ],
   "source": [
    "nodes = pd.read_csv(\"data/nodes.csv\")\n",
    "nodes.head()"
   ]
  },
  {
   "cell_type": "code",
   "execution_count": 3,
   "id": "1cbb7c4b",
   "metadata": {},
   "outputs": [
    {
     "data": {
      "text/html": [
       "<div>\n",
       "<style scoped>\n",
       "    .dataframe tbody tr th:only-of-type {\n",
       "        vertical-align: middle;\n",
       "    }\n",
       "\n",
       "    .dataframe tbody tr th {\n",
       "        vertical-align: top;\n",
       "    }\n",
       "\n",
       "    .dataframe thead th {\n",
       "        text-align: right;\n",
       "    }\n",
       "</style>\n",
       "<table border=\"1\" class=\"dataframe\">\n",
       "  <thead>\n",
       "    <tr style=\"text-align: right;\">\n",
       "      <th></th>\n",
       "      <th>hero</th>\n",
       "      <th>comic</th>\n",
       "    </tr>\n",
       "  </thead>\n",
       "  <tbody>\n",
       "    <tr>\n",
       "      <th>0</th>\n",
       "      <td>24-HOUR MAN/EMMANUEL</td>\n",
       "      <td>AA2 35</td>\n",
       "    </tr>\n",
       "    <tr>\n",
       "      <th>1</th>\n",
       "      <td>3-D MAN/CHARLES CHAN</td>\n",
       "      <td>AVF 4</td>\n",
       "    </tr>\n",
       "    <tr>\n",
       "      <th>2</th>\n",
       "      <td>3-D MAN/CHARLES CHAN</td>\n",
       "      <td>AVF 5</td>\n",
       "    </tr>\n",
       "    <tr>\n",
       "      <th>3</th>\n",
       "      <td>3-D MAN/CHARLES CHAN</td>\n",
       "      <td>COC 1</td>\n",
       "    </tr>\n",
       "    <tr>\n",
       "      <th>4</th>\n",
       "      <td>3-D MAN/CHARLES CHAN</td>\n",
       "      <td>H2 251</td>\n",
       "    </tr>\n",
       "  </tbody>\n",
       "</table>\n",
       "</div>"
      ],
      "text/plain": [
       "                   hero   comic\n",
       "0  24-HOUR MAN/EMMANUEL  AA2 35\n",
       "1  3-D MAN/CHARLES CHAN   AVF 4\n",
       "2  3-D MAN/CHARLES CHAN   AVF 5\n",
       "3  3-D MAN/CHARLES CHAN   COC 1\n",
       "4  3-D MAN/CHARLES CHAN  H2 251"
      ]
     },
     "execution_count": 3,
     "metadata": {},
     "output_type": "execute_result"
    }
   ],
   "source": [
    "edges = pd.read_csv(\"data/edges.csv\")\n",
    "edges.head()"
   ]
  },
  {
   "cell_type": "code",
   "execution_count": 4,
   "id": "3743a1cc",
   "metadata": {},
   "outputs": [
    {
     "data": {
      "text/html": [
       "<div>\n",
       "<style scoped>\n",
       "    .dataframe tbody tr th:only-of-type {\n",
       "        vertical-align: middle;\n",
       "    }\n",
       "\n",
       "    .dataframe tbody tr th {\n",
       "        vertical-align: top;\n",
       "    }\n",
       "\n",
       "    .dataframe thead th {\n",
       "        text-align: right;\n",
       "    }\n",
       "</style>\n",
       "<table border=\"1\" class=\"dataframe\">\n",
       "  <thead>\n",
       "    <tr style=\"text-align: right;\">\n",
       "      <th></th>\n",
       "      <th>hero1</th>\n",
       "      <th>hero2</th>\n",
       "    </tr>\n",
       "  </thead>\n",
       "  <tbody>\n",
       "    <tr>\n",
       "      <th>0</th>\n",
       "      <td>LITTLE, ABNER</td>\n",
       "      <td>PRINCESS ZANDA</td>\n",
       "    </tr>\n",
       "    <tr>\n",
       "      <th>1</th>\n",
       "      <td>LITTLE, ABNER</td>\n",
       "      <td>BLACK PANTHER/T'CHAL</td>\n",
       "    </tr>\n",
       "    <tr>\n",
       "      <th>2</th>\n",
       "      <td>BLACK PANTHER/T'CHAL</td>\n",
       "      <td>PRINCESS ZANDA</td>\n",
       "    </tr>\n",
       "    <tr>\n",
       "      <th>3</th>\n",
       "      <td>LITTLE, ABNER</td>\n",
       "      <td>PRINCESS ZANDA</td>\n",
       "    </tr>\n",
       "    <tr>\n",
       "      <th>4</th>\n",
       "      <td>LITTLE, ABNER</td>\n",
       "      <td>BLACK PANTHER/T'CHAL</td>\n",
       "    </tr>\n",
       "  </tbody>\n",
       "</table>\n",
       "</div>"
      ],
      "text/plain": [
       "                  hero1                 hero2\n",
       "0         LITTLE, ABNER        PRINCESS ZANDA\n",
       "1         LITTLE, ABNER  BLACK PANTHER/T'CHAL\n",
       "2  BLACK PANTHER/T'CHAL        PRINCESS ZANDA\n",
       "3         LITTLE, ABNER        PRINCESS ZANDA\n",
       "4         LITTLE, ABNER  BLACK PANTHER/T'CHAL"
      ]
     },
     "execution_count": 4,
     "metadata": {},
     "output_type": "execute_result"
    }
   ],
   "source": [
    "hero_network = pd.read_csv(\"data/hero-network.csv\")\n",
    "hero_network.head()"
   ]
  },
  {
   "cell_type": "markdown",
   "id": "23132244",
   "metadata": {},
   "source": [
    "#### Graphing network"
   ]
  },
  {
   "cell_type": "code",
   "execution_count": 5,
   "id": "89f0dd50",
   "metadata": {},
   "outputs": [],
   "source": [
    "import networkx as nx"
   ]
  },
  {
   "cell_type": "code",
   "execution_count": 6,
   "id": "ff53cfb8",
   "metadata": {},
   "outputs": [],
   "source": [
    "graph = nx.from_pandas_edgelist(hero_network, source = \"hero1\", target = \"hero2\")"
   ]
  },
  {
   "cell_type": "code",
   "execution_count": 7,
   "id": "05ec4abf",
   "metadata": {},
   "outputs": [
    {
     "name": "stdout",
     "output_type": "stream",
     "text": [
      "Graph with 6426 nodes and 167219 edges\n"
     ]
    },
    {
     "name": "stderr",
     "output_type": "stream",
     "text": [
      "C:\\Users\\ganiy\\AppData\\Local\\Temp\\ipykernel_9760\\3581210431.py:1: DeprecationWarning: info is deprecated and will be removed in version 3.0.\n",
      "\n",
      "  print(nx.info(graph))\n"
     ]
    }
   ],
   "source": [
    "print(nx.info(graph))"
   ]
  },
  {
   "cell_type": "code",
   "execution_count": 8,
   "id": "4efaabca",
   "metadata": {},
   "outputs": [
    {
     "name": "stdout",
     "output_type": "stream",
     "text": [
      "Network Density:  0.00810031232553549\n"
     ]
    }
   ],
   "source": [
    "print(\"Network Density: \", nx.density(graph))"
   ]
  },
  {
   "cell_type": "code",
   "execution_count": 9,
   "id": "8fcae271",
   "metadata": {},
   "outputs": [
    {
     "name": "stdout",
     "output_type": "stream",
     "text": [
      "<class 'pandas.core.frame.DataFrame'>\n",
      "Int64Index: 103 entries, 895 to 573288\n",
      "Data columns (total 2 columns):\n",
      " #   Column  Non-Null Count  Dtype \n",
      "---  ------  --------------  ----- \n",
      " 0   hero1   103 non-null    object\n",
      " 1   hero2   103 non-null    object\n",
      "dtypes: object(2)\n",
      "memory usage: 2.4+ KB\n"
     ]
    }
   ],
   "source": [
    "heroes = {'MEDUSA/MEDUSALITH AM','ARCLIGHT/PHILLIPA SO','WOLVERINE/LOGAN ','SCARLET WITCH/WANDA ',\n",
    "          'ARAGORN','OVERMIND/GROM','BATTLEAXE/','ION/', 'PINK PEARL/'}\n",
    "relations = hero_network[(hero_network.hero1.isin(heroes)) & (hero_network.hero2.isin(heroes))]\n",
    "relations.info()"
   ]
  },
  {
   "cell_type": "code",
   "execution_count": 10,
   "id": "a9798347",
   "metadata": {},
   "outputs": [
    {
     "name": "stdout",
     "output_type": "stream",
     "text": [
      "Graph with 9 nodes and 13 edges\n",
      "\n",
      "Network Density: 0.3611111111111111\n"
     ]
    },
    {
     "name": "stderr",
     "output_type": "stream",
     "text": [
      "C:\\Users\\ganiy\\AppData\\Local\\Temp\\ipykernel_9760\\4268391457.py:2: DeprecationWarning: info is deprecated and will be removed in version 3.0.\n",
      "\n",
      "  print(nx.info(subgraph))\n"
     ]
    }
   ],
   "source": [
    "subgraph = nx.from_pandas_edgelist(relations, source = \"hero1\", target = \"hero2\")\n",
    "print(nx.info(subgraph))\n",
    "print(\"\\nNetwork Density:\", nx.density(subgraph))"
   ]
  },
  {
   "cell_type": "code",
   "execution_count": 11,
   "id": "3ffb4bdf",
   "metadata": {},
   "outputs": [],
   "source": [
    "import matplotlib.pyplot as plt\n",
    "%matplotlib inline\n",
    "import seaborn as sns; sns.set_style(\"dark\")"
   ]
  },
  {
   "cell_type": "code",
   "execution_count": 12,
   "id": "635cf82f",
   "metadata": {},
   "outputs": [
    {
     "data": {
      "image/png": "[encoded data removed]",
      "text/plain": [
       "<Figure size 864x576 with 1 Axes>"
      ]
     },
     "metadata": {},
     "output_type": "display_data"
    }
   ],
   "source": [
    "plt.figure(figsize = (12, 8))\n",
    "#plt.title(\"Network Graph of Marvel Characters' Interactions\")\n",
    "nx.draw_networkx(subgraph, font_size = 9, font_color = \"red\", font_weight = \"bold\", font_family = \"DejaVu Sans\")"
   ]
  },
  {
   "cell_type": "code",
   "execution_count": 13,
   "id": "c66d3833",
   "metadata": {},
   "outputs": [
    {
     "name": "stdout",
     "output_type": "stream",
     "text": [
      "Diameter of a subgraph: 4\n"
     ]
    }
   ],
   "source": [
    "## The diameter is a measure of the number of steps it takes to travel between the outermost nodes\n",
    "print(\"Diameter of a subgraph:\", nx.diameter(subgraph))"
   ]
  },
  {
   "cell_type": "code",
   "execution_count": 14,
   "id": "0e5c8db1",
   "metadata": {},
   "outputs": [
    {
     "name": "stdout",
     "output_type": "stream",
     "text": [
      "Shortest path between Overmind and Ion is: \n",
      "-  OVERMIND/GROM\n",
      "-  SCARLET WITCH/WANDA \n",
      "-  WOLVERINE/LOGAN \n",
      "-  ARCLIGHT/PHILLIPA SO\n",
      "-  ION/\n",
      "With length: 5\n"
     ]
    }
   ],
   "source": [
    "## shortest_path calculates number of nodes between the most distant nodes. This includes the distant nodes as well\n",
    "shortest_path = nx.shortest_path(subgraph, source = \"OVERMIND/GROM\", target = \"ION/\")\n",
    "print(\"Shortest path between Overmind and Ion is: \")\n",
    "for item in shortest_path:\n",
    "    print(\"- \", item)\n",
    "    \n",
    "print(\"With length:\", len(shortest_path))"
   ]
  },
  {
   "cell_type": "code",
   "execution_count": 15,
   "id": "f7344a1c",
   "metadata": {},
   "outputs": [
    {
     "data": {
      "text/plain": [
       "{'SCARLET WITCH/WANDA ': 3,\n",
       " 'WOLVERINE/LOGAN ': 2,\n",
       " 'MEDUSA/MEDUSALITH AM': 3,\n",
       " 'ARAGORN': 4,\n",
       " 'OVERMIND/GROM': 4,\n",
       " 'ARCLIGHT/PHILLIPA SO': 3,\n",
       " 'ION/': 4,\n",
       " 'BATTLEAXE/': 4,\n",
       " 'PINK PEARL/': 4}"
      ]
     },
     "execution_count": 15,
     "metadata": {},
     "output_type": "execute_result"
    }
   ],
   "source": [
    "## A measure for how close to the centre each node is \n",
    "nx.eccentricity(subgraph)"
   ]
  },
  {
   "cell_type": "code",
   "execution_count": 16,
   "id": "f2053b02",
   "metadata": {},
   "outputs": [
    {
     "data": {
      "text/plain": [
       "{'SCARLET WITCH/WANDA ': 4,\n",
       " 'WOLVERINE/LOGAN ': 3,\n",
       " 'MEDUSA/MEDUSALITH AM': 2,\n",
       " 'ARAGORN': 2,\n",
       " 'OVERMIND/GROM': 2,\n",
       " 'ARCLIGHT/PHILLIPA SO': 4,\n",
       " 'ION/': 3,\n",
       " 'BATTLEAXE/': 3,\n",
       " 'PINK PEARL/': 3}"
      ]
     },
     "execution_count": 16,
     "metadata": {},
     "output_type": "execute_result"
    }
   ],
   "source": [
    "## A measure for how many edges are connected to each node\n",
    "dict(subgraph.degree(subgraph.nodes()))"
   ]
  },
  {
   "cell_type": "code",
   "execution_count": 17,
   "id": "0e291786",
   "metadata": {},
   "outputs": [
    {
     "name": "stdout",
     "output_type": "stream",
     "text": [
      "Shortest path between Scarlet and Arclight is: \n",
      "-  SCARLET WITCH/WANDA \n",
      "-  WOLVERINE/LOGAN \n",
      "-  ARCLIGHT/PHILLIPA SO\n",
      "With length: 3\n"
     ]
    }
   ],
   "source": [
    "scarlet_arclight_path = nx.shortest_path(subgraph, source = \"SCARLET WITCH/WANDA \", target = \"ARCLIGHT/PHILLIPA SO\")\n",
    "print(\"Shortest path between Scarlet and Arclight is: \")\n",
    "for item in scarlet_arclight_path:\n",
    "    print(\"- \", item)\n",
    "    \n",
    "print(\"With length:\", len(scarlet_arclight_path))"
   ]
  },
  {
   "cell_type": "code",
   "execution_count": 18,
   "id": "775eee1c",
   "metadata": {},
   "outputs": [
    {
     "data": {
      "text/plain": [
       "{'SCARLET WITCH/WANDA ': 0.42857142857142855,\n",
       " 'WOLVERINE/LOGAN ': 0.5714285714285714,\n",
       " 'MEDUSA/MEDUSALITH AM': 0.0,\n",
       " 'ARAGORN': 0.0,\n",
       " 'OVERMIND/GROM': 0.0,\n",
       " 'ARCLIGHT/PHILLIPA SO': 0.5357142857142857,\n",
       " 'ION/': 0.0,\n",
       " 'BATTLEAXE/': 0.0,\n",
       " 'PINK PEARL/': 0.0}"
      ]
     },
     "execution_count": 18,
     "metadata": {},
     "output_type": "execute_result"
    }
   ],
   "source": [
    "## Betweenness centrality denotes the fraction of all the shortest paths that pass through a particular node.\n",
    "nx.betweenness_centrality(subgraph)"
   ]
  },
  {
   "cell_type": "code",
   "execution_count": 19,
   "id": "c3d4817b",
   "metadata": {},
   "outputs": [
    {
     "name": "stdout",
     "output_type": "stream",
     "text": [
      "\n",
      " Community:\n",
      "- OVERMIND/GROM\n",
      "- WOLVERINE/LOGAN \n",
      "- MEDUSA/MEDUSALITH AM\n",
      "- SCARLET WITCH/WANDA \n",
      "- ARAGORN\n",
      "\n",
      " Community:\n",
      "- BATTLEAXE/\n",
      "- ION/\n",
      "- ARCLIGHT/PHILLIPA SO\n",
      "- PINK PEARL/\n"
     ]
    }
   ],
   "source": [
    "## Community identification within the network\n",
    "from networkx.algorithms import community\n",
    "for item in community.greedy_modularity_communities(subgraph):\n",
    "    print(\"\\n Community:\")\n",
    "    for hero in item:\n",
    "        print(\"-\", hero)"
   ]
  },
  {
   "cell_type": "code",
   "execution_count": 20,
   "id": "2a7cbe6a",
   "metadata": {},
   "outputs": [
    {
     "data": {
      "text/plain": [
       "{'OVERMIND/GROM': 0,\n",
       " 'WOLVERINE/LOGAN ': 0,\n",
       " 'MEDUSA/MEDUSALITH AM': 0,\n",
       " 'SCARLET WITCH/WANDA ': 0,\n",
       " 'ARAGORN': 0,\n",
       " 'BATTLEAXE/': 1,\n",
       " 'ION/': 1,\n",
       " 'ARCLIGHT/PHILLIPA SO': 1,\n",
       " 'PINK PEARL/': 1}"
      ]
     },
     "execution_count": 20,
     "metadata": {},
     "output_type": "execute_result"
    }
   ],
   "source": [
    "modularity_dict = {}\n",
    "for i,c in enumerate(community.greedy_modularity_communities(subgraph)):\n",
    "    for name in c:\n",
    "        modularity_dict[name] = i\n",
    "modularity_dict"
   ]
  },
  {
   "cell_type": "code",
   "execution_count": 21,
   "id": "cc8bf4a2",
   "metadata": {},
   "outputs": [
    {
     "name": "stdout",
     "output_type": "stream",
     "text": [
      "Graph with 5 nodes and 6 edges\n",
      "\n",
      "Network Density: 0.60 \n",
      "\n",
      "Graph with 4 nodes and 6 edges\n",
      "\n",
      "Network Density: 1.00 \n",
      "\n"
     ]
    },
    {
     "name": "stderr",
     "output_type": "stream",
     "text": [
      "C:\\Users\\ganiy\\AppData\\Local\\Temp\\ipykernel_9760\\652835401.py:7: DeprecationWarning: info is deprecated and will be removed in version 3.0.\n",
      "\n",
      "  print(nx.info(k))\n",
      "C:\\Users\\ganiy\\AppData\\Local\\Temp\\ipykernel_9760\\652835401.py:12: DeprecationWarning: info is deprecated and will be removed in version 3.0.\n",
      "\n",
      "  print(nx.info(k2))\n"
     ]
    }
   ],
   "source": [
    "## Size and density of both communities\n",
    "comm = community.greedy_modularity_communities(subgraph)\n",
    "\n",
    "l = list(map(lambda c: list(c), comm))\n",
    "\n",
    "k = subgraph.subgraph(l[0])\n",
    "print(nx.info(k))\n",
    "print(\"\\nNetwork Density: %.2f \\n\"%nx.density(k))\n",
    "\n",
    "\n",
    "k2 = subgraph.subgraph(l[1])\n",
    "print(nx.info(k2))\n",
    "print(\"\\nNetwork Density: %.2f \\n\"%nx.density(k2))"
   ]
  },
  {
   "cell_type": "code",
   "execution_count": 22,
   "id": "da9c3c8f",
   "metadata": {},
   "outputs": [
    {
     "name": "stdout",
     "output_type": "stream",
     "text": [
      "Shortest paths: \n",
      "- SCARLET WITCH/WANDA  :  1\n",
      "- WOLVERINE/LOGAN  :  2\n",
      "- MEDUSA/MEDUSALITH AM :  2\n",
      "- ARAGORN :  2\n",
      "- OVERMIND/GROM :  2\n",
      "\n",
      "Connected Edges\n",
      "- SCARLET WITCH/WANDA  : 4\n",
      "- WOLVERINE/LOGAN  : 3\n",
      "- MEDUSA/MEDUSALITH AM : 2\n",
      "- ARAGORN : 2\n",
      "- OVERMIND/GROM : 2\n",
      "\n",
      "Betweenness\n",
      "- SCARLET WITCH/WANDA  : 0.6666666666666666\n",
      "- WOLVERINE/LOGAN  : 0.0\n",
      "- MEDUSA/MEDUSALITH AM : 0.0\n",
      "- ARAGORN : 0.0\n",
      "- OVERMIND/GROM : 0.0\n"
     ]
    }
   ],
   "source": [
    "print(\"Shortest paths: \")\n",
    "sp = nx.eccentricity(k)\n",
    "for hero in sp:\n",
    "    print(\"-\", hero, \": \", sp[hero])\n",
    "\n",
    "ce = dict(subgraph.degree(k.nodes()))\n",
    "print(\"\\nConnected Edges\")\n",
    "for hero in ce:\n",
    "    print(\"-\", hero, \":\", ce[hero])\n",
    "\n",
    "bet = nx.betweenness_centrality(k)\n",
    "print(\"\\nBetweenness\")\n",
    "for hero in bet:\n",
    "    print(\"-\", hero, \":\", bet[hero])"
   ]
  },
  {
   "cell_type": "code",
   "execution_count": 23,
   "id": "73fc6901",
   "metadata": {},
   "outputs": [],
   "source": [
    "def max_cut(assigned_nodes, edges):\n",
    "    return sum(edges.apply(\n",
    "        lambda edge: (1- assigned_nodes[edge['hero1']]*assigned_nodes[edge['hero2']])/2, axis = 1))"
   ]
  },
  {
   "cell_type": "code",
   "execution_count": 24,
   "id": "fce9a953",
   "metadata": {},
   "outputs": [
    {
     "name": "stdout",
     "output_type": "stream",
     "text": [
      "<class 'pandas.core.frame.DataFrame'>\n",
      "Int64Index: 13 entries, 895 to 390162\n",
      "Data columns (total 3 columns):\n",
      " #   Column        Non-Null Count  Dtype \n",
      "---  ------        --------------  ----- \n",
      " 0   hero1         13 non-null     object\n",
      " 1   hero2         13 non-null     object\n",
      " 2   check_string  13 non-null     object\n",
      "dtypes: object(3)\n",
      "memory usage: 416.0+ bytes\n"
     ]
    },
    {
     "name": "stderr",
     "output_type": "stream",
     "text": [
      "C:\\Users\\ganiy\\AppData\\Local\\Temp\\ipykernel_9760\\1915664726.py:3: SettingWithCopyWarning: \n",
      "A value is trying to be set on a copy of a slice from a DataFrame.\n",
      "Try using .loc[row_indexer,col_indexer] = value instead\n",
      "\n",
      "See the caveats in the documentation: https://pandas.pydata.org/pandas-docs/stable/user_guide/indexing.html#returning-a-view-versus-a-copy\n",
      "  edges['check_string'] = edges.apply(lambda row: \"\".join(sorted([row['hero1'], row['hero2']])), axis = 1)\n"
     ]
    }
   ],
   "source": [
    "### Assignment to groups via string check\n",
    "edges = relations\n",
    "edges['check_string'] = edges.apply(lambda row: \"\".join(sorted([row['hero1'], row['hero2']])), axis = 1)\n",
    "edges = edges.drop_duplicates('check_string')\n",
    "edges.info()"
   ]
  },
  {
   "cell_type": "code",
   "execution_count": 25,
   "id": "61402382",
   "metadata": {},
   "outputs": [
    {
     "data": {
      "text/plain": [
       "{'BATTLEAXE/': -1,\n",
       " 'OVERMIND/GROM': -1,\n",
       " 'ARAGORN': -1,\n",
       " 'WOLVERINE/LOGAN ': -1,\n",
       " 'ARCLIGHT/PHILLIPA SO': -1,\n",
       " 'SCARLET WITCH/WANDA ': -1,\n",
       " 'ION/': -1,\n",
       " 'MEDUSA/MEDUSALITH AM': -1,\n",
       " 'PINK PEARL/': -1}"
      ]
     },
     "execution_count": 25,
     "metadata": {},
     "output_type": "execute_result"
    }
   ],
   "source": [
    "single_group =  {name: -1 for name in heroes}\n",
    "single_group"
   ]
  },
  {
   "cell_type": "code",
   "execution_count": 26,
   "id": "24792c2b",
   "metadata": {},
   "outputs": [
    {
     "data": {
      "text/plain": [
       "0.0"
      ]
     },
     "execution_count": 26,
     "metadata": {},
     "output_type": "execute_result"
    }
   ],
   "source": [
    "max_cut(single_group, edges)"
   ]
  },
  {
   "cell_type": "code",
   "execution_count": 27,
   "id": "175a7b70",
   "metadata": {},
   "outputs": [
    {
     "data": {
      "text/plain": [
       "{'BATTLEAXE/': -1,\n",
       " 'OVERMIND/GROM': -1,\n",
       " 'ARAGORN': -1,\n",
       " 'WOLVERINE/LOGAN ': 1,\n",
       " 'ARCLIGHT/PHILLIPA SO': 1,\n",
       " 'SCARLET WITCH/WANDA ': -1,\n",
       " 'ION/': -1,\n",
       " 'MEDUSA/MEDUSALITH AM': 1,\n",
       " 'PINK PEARL/': -1}"
      ]
     },
     "execution_count": 27,
     "metadata": {},
     "output_type": "execute_result"
    }
   ],
   "source": [
    "### Random assignment\n",
    "from random import seed, random\n",
    "seed(None)\n",
    "\n",
    "random_groups = {name: -1 if round(random()) == 0 else 1 for name in heroes}\n",
    "random_groups"
   ]
  },
  {
   "cell_type": "code",
   "execution_count": 28,
   "id": "423d66d1",
   "metadata": {},
   "outputs": [
    {
     "data": {
      "text/plain": [
       "5.0"
      ]
     },
     "execution_count": 28,
     "metadata": {},
     "output_type": "execute_result"
    }
   ],
   "source": [
    "max_cut(random_groups, edges)"
   ]
  },
  {
   "cell_type": "code",
   "execution_count": 29,
   "id": "e110595e",
   "metadata": {},
   "outputs": [],
   "source": [
    "def search(group, open_heroes):\n",
    "    best = (0, None)\n",
    "    \n",
    "    open_heroes = list(open_heroes)\n",
    "    if len(open_heroes) > 0:\n",
    "        new = dict(group)\n",
    "        new[open_heroes[0]] = new[open_heroes[0]]*(-1)\n",
    "        \n",
    "        result1 = search(group, open_heroes[1:])\n",
    "        result2 = search(new, open_heroes[1:])\n",
    "        \n",
    "        best = result1 if result1[0] > result2[0] else result2\n",
    "    else:\n",
    "        return(max_cut(group, edges), group)\n",
    "    \n",
    "    return best"
   ]
  },
  {
   "cell_type": "code",
   "execution_count": 30,
   "id": "30b5c92b",
   "metadata": {},
   "outputs": [
    {
     "data": {
      "text/plain": [
       "(9.0,\n",
       " {'BATTLEAXE/': 1,\n",
       "  'OVERMIND/GROM': 1,\n",
       "  'ARAGORN': 1,\n",
       "  'WOLVERINE/LOGAN ': 1,\n",
       "  'ARCLIGHT/PHILLIPA SO': -1,\n",
       "  'SCARLET WITCH/WANDA ': -1,\n",
       "  'ION/': 1,\n",
       "  'MEDUSA/MEDUSALITH AM': 1,\n",
       "  'PINK PEARL/': -1})"
      ]
     },
     "execution_count": 30,
     "metadata": {},
     "output_type": "execute_result"
    }
   ],
   "source": [
    "search(single_group, heroes)"
   ]
  },
  {
   "cell_type": "markdown",
   "id": "995aa2d0",
   "metadata": {},
   "source": [
    "#### Integer Linear Programming"
   ]
  },
  {
   "cell_type": "code",
   "execution_count": 31,
   "id": "c50631e4",
   "metadata": {},
   "outputs": [
    {
     "name": "stderr",
     "output_type": "stream",
     "text": [
      "C:\\Users\\ganiy\\AppData\\Local\\Temp\\ipykernel_9760\\3376123659.py:3: SettingWithCopyWarning: \n",
      "A value is trying to be set on a copy of a slice from a DataFrame.\n",
      "Try using .loc[row_indexer,col_indexer] = value instead\n",
      "\n",
      "See the caveats in the documentation: https://pandas.pydata.org/pandas-docs/stable/user_guide/indexing.html#returning-a-view-versus-a-copy\n",
      "  E['check_string'] = E.apply(lambda row: ''.join(sorted([row['hero1'], row['hero2']])), axis=1)\n"
     ]
    },
    {
     "data": {
      "text/html": [
       "<div>\n",
       "<style scoped>\n",
       "    .dataframe tbody tr th:only-of-type {\n",
       "        vertical-align: middle;\n",
       "    }\n",
       "\n",
       "    .dataframe tbody tr th {\n",
       "        vertical-align: top;\n",
       "    }\n",
       "\n",
       "    .dataframe thead th {\n",
       "        text-align: right;\n",
       "    }\n",
       "</style>\n",
       "<table border=\"1\" class=\"dataframe\">\n",
       "  <thead>\n",
       "    <tr style=\"text-align: right;\">\n",
       "      <th></th>\n",
       "      <th>hero1</th>\n",
       "      <th>hero2</th>\n",
       "      <th>check_string</th>\n",
       "    </tr>\n",
       "  </thead>\n",
       "  <tbody>\n",
       "    <tr>\n",
       "      <th>895</th>\n",
       "      <td>SCARLET WITCH/WANDA</td>\n",
       "      <td>WOLVERINE/LOGAN</td>\n",
       "      <td>SCARLET WITCH/WANDA WOLVERINE/LOGAN</td>\n",
       "    </tr>\n",
       "    <tr>\n",
       "      <th>33894</th>\n",
       "      <td>MEDUSA/MEDUSALITH AM</td>\n",
       "      <td>WOLVERINE/LOGAN</td>\n",
       "      <td>MEDUSA/MEDUSALITH AMWOLVERINE/LOGAN</td>\n",
       "    </tr>\n",
       "    <tr>\n",
       "      <th>34882</th>\n",
       "      <td>ARAGORN</td>\n",
       "      <td>SCARLET WITCH/WANDA</td>\n",
       "      <td>ARAGORNSCARLET WITCH/WANDA</td>\n",
       "    </tr>\n",
       "    <tr>\n",
       "      <th>34992</th>\n",
       "      <td>SCARLET WITCH/WANDA</td>\n",
       "      <td>MEDUSA/MEDUSALITH AM</td>\n",
       "      <td>MEDUSA/MEDUSALITH AMSCARLET WITCH/WANDA</td>\n",
       "    </tr>\n",
       "    <tr>\n",
       "      <th>42019</th>\n",
       "      <td>SCARLET WITCH/WANDA</td>\n",
       "      <td>OVERMIND/GROM</td>\n",
       "      <td>OVERMIND/GROMSCARLET WITCH/WANDA</td>\n",
       "    </tr>\n",
       "  </tbody>\n",
       "</table>\n",
       "</div>"
      ],
      "text/plain": [
       "                      hero1                 hero2  \\\n",
       "895    SCARLET WITCH/WANDA       WOLVERINE/LOGAN    \n",
       "33894  MEDUSA/MEDUSALITH AM      WOLVERINE/LOGAN    \n",
       "34882               ARAGORN  SCARLET WITCH/WANDA    \n",
       "34992  SCARLET WITCH/WANDA   MEDUSA/MEDUSALITH AM   \n",
       "42019  SCARLET WITCH/WANDA          OVERMIND/GROM   \n",
       "\n",
       "                                   check_string  \n",
       "895        SCARLET WITCH/WANDA WOLVERINE/LOGAN   \n",
       "33894      MEDUSA/MEDUSALITH AMWOLVERINE/LOGAN   \n",
       "34882               ARAGORNSCARLET WITCH/WANDA   \n",
       "34992  MEDUSA/MEDUSALITH AMSCARLET WITCH/WANDA   \n",
       "42019         OVERMIND/GROMSCARLET WITCH/WANDA   "
      ]
     },
     "execution_count": 31,
     "metadata": {},
     "output_type": "execute_result"
    }
   ],
   "source": [
    "N = heroes\n",
    "E = relations\n",
    "E['check_string'] = E.apply(lambda row: ''.join(sorted([row['hero1'], row['hero2']])), axis=1)\n",
    "E = E.drop_duplicates('check_string')\n",
    "E.head()"
   ]
  },
  {
   "cell_type": "code",
   "execution_count": 40,
   "id": "ccf5c575",
   "metadata": {},
   "outputs": [
    {
     "name": "stdout",
     "output_type": "stream",
     "text": [
      "<class 'pandas.core.frame.DataFrame'>\n",
      "Int64Index: 13 entries, 895 to 390162\n",
      "Data columns (total 3 columns):\n",
      " #   Column        Non-Null Count  Dtype \n",
      "---  ------        --------------  ----- \n",
      " 0   hero1         13 non-null     object\n",
      " 1   hero2         13 non-null     object\n",
      " 2   check_string  13 non-null     object\n",
      "dtypes: object(3)\n",
      "memory usage: 416.0+ bytes\n"
     ]
    }
   ],
   "source": [
    "E.info()"
   ]
  },
  {
   "cell_type": "code",
   "execution_count": 32,
   "id": "692bb2b9",
   "metadata": {},
   "outputs": [
    {
     "name": "stdout",
     "output_type": "stream",
     "text": [
      "There are 13 edges and 9 nodes\n"
     ]
    }
   ],
   "source": [
    "m = len(E)\n",
    "n = len(N)\n",
    "\n",
    "print(\"There are %d edges and %d nodes\"%(m,n))"
   ]
  },
  {
   "cell_type": "code",
   "execution_count": 33,
   "id": "fa6bfa12",
   "metadata": {},
   "outputs": [],
   "source": [
    "from pulp import LpMaximize, LpProblem, lpSum, LpVariable"
   ]
  },
  {
   "cell_type": "code",
   "execution_count": 34,
   "id": "8eb41cbf",
   "metadata": {},
   "outputs": [
    {
     "data": {
      "text/plain": [
       "{'BATTLEAXE/': NodePartition_BATTLEAXE_,\n",
       " 'OVERMIND/GROM': NodePartition_OVERMIND_GROM,\n",
       " 'ARAGORN': NodePartition_ARAGORN,\n",
       " 'WOLVERINE/LOGAN ': NodePartition_WOLVERINE_LOGAN_,\n",
       " 'ARCLIGHT/PHILLIPA SO': NodePartition_ARCLIGHT_PHILLIPA_SO,\n",
       " 'SCARLET WITCH/WANDA ': NodePartition_SCARLET_WITCH_WANDA_,\n",
       " 'ION/': NodePartition_ION_,\n",
       " 'MEDUSA/MEDUSALITH AM': NodePartition_MEDUSA_MEDUSALITH_AM,\n",
       " 'PINK PEARL/': NodePartition_PINK_PEARL_}"
      ]
     },
     "execution_count": 34,
     "metadata": {},
     "output_type": "execute_result"
    }
   ],
   "source": [
    "maxcut = LpProblem(name = \"maxcut\", sense =LpMaximize)\n",
    "node_partitions = LpVariable.dicts(\"NodePartition\", N, lowBound = 0, cat = \"Integer\")\n",
    "node_partitions"
   ]
  },
  {
   "cell_type": "code",
   "execution_count": 35,
   "id": "91036fdd",
   "metadata": {},
   "outputs": [
    {
     "data": {
      "text/plain": [
       "{895: EdgeValue_895,\n",
       " 33894: EdgeValue_33894,\n",
       " 34882: EdgeValue_34882,\n",
       " 34992: EdgeValue_34992,\n",
       " 42019: EdgeValue_42019,\n",
       " 42948: EdgeValue_42948,\n",
       " 162819: EdgeValue_162819,\n",
       " 389674: EdgeValue_389674,\n",
       " 389680: EdgeValue_389680,\n",
       " 389695: EdgeValue_389695,\n",
       " 389712: EdgeValue_389712,\n",
       " 389718: EdgeValue_389718,\n",
       " 390162: EdgeValue_390162}"
      ]
     },
     "execution_count": 35,
     "metadata": {},
     "output_type": "execute_result"
    }
   ],
   "source": [
    "def iter_edges():\n",
    "    for (index, row) in E.iterrows():\n",
    "        yield index\n",
    "        \n",
    "edge_values = LpVariable.dicts(\"EdgeValue\", list(iter_edges()), lowBound = 0, cat = \"Integer\")\n",
    "edge_values"
   ]
  },
  {
   "cell_type": "code",
   "execution_count": 36,
   "id": "b6217641",
   "metadata": {},
   "outputs": [],
   "source": [
    "# add objective function\n",
    "maxcut += lpSum([edge_values for i in iter_edges()])"
   ]
  },
  {
   "cell_type": "code",
   "execution_count": 37,
   "id": "f7965046",
   "metadata": {},
   "outputs": [],
   "source": [
    "# add constraints\n",
    "for (index, row) in E.iterrows():\n",
    "    maxcut += (edge_values[index] <= node_partitions[row[\"hero1\"]] + node_partitions[row[\"hero2\"]])\n",
    "    maxcut += (edge_values[index] <= 2 - (node_partitions[row[\"hero1\"]] + node_partitions[row[\"hero2\"]]))"
   ]
  },
  {
   "cell_type": "code",
   "execution_count": 38,
   "id": "117d049a",
   "metadata": {},
   "outputs": [],
   "source": [
    "status = maxcut.solve()"
   ]
  },
  {
   "cell_type": "code",
   "execution_count": 39,
   "id": "8dfd3c2a",
   "metadata": {},
   "outputs": [
    {
     "name": "stdout",
     "output_type": "stream",
     "text": [
      "EdgeValue_162819 : 1.0\n",
      "EdgeValue_33894 : 0.0\n",
      "EdgeValue_34882 : 1.0\n",
      "EdgeValue_34992 : 1.0\n",
      "EdgeValue_389674 : 1.0\n",
      "EdgeValue_389680 : 1.0\n",
      "EdgeValue_389695 : 0.0\n",
      "EdgeValue_389712 : 1.0\n",
      "EdgeValue_389718 : 1.0\n",
      "EdgeValue_390162 : 0.0\n",
      "EdgeValue_42019 : 1.0\n",
      "EdgeValue_42948 : 0.0\n",
      "EdgeValue_895 : 1.0\n",
      "NodePartition_ARAGORN : 1.0\n",
      "NodePartition_ARCLIGHT_PHILLIPA_SO : 0.0\n",
      "NodePartition_BATTLEAXE_ : 1.0\n",
      "NodePartition_ION_ : 1.0\n",
      "NodePartition_MEDUSA_MEDUSALITH_AM : 1.0\n",
      "NodePartition_OVERMIND_GROM : 1.0\n",
      "NodePartition_PINK_PEARL_ : 0.0\n",
      "NodePartition_SCARLET_WITCH_WANDA_ : 0.0\n",
      "NodePartition_WOLVERINE_LOGAN_ : 1.0\n"
     ]
    }
   ],
   "source": [
    "for var in maxcut.variables():\n",
    "    print(\"%s : %s\"%(var.name, var.value()))"
   ]
  },
  {
   "cell_type": "code",
   "execution_count": null,
   "id": "8b377cf4",
   "metadata": {},
   "outputs": [],
   "source": []
  }
 ],
 "metadata": {
  "kernelspec": {
   "display_name": "Python 3 (ipykernel)",
   "language": "python",
   "name": "python3"
  },
  "language_info": {
   "codemirror_mode": {
    "name": "ipython",
    "version": 3
   },
   "file_extension": ".py",
   "mimetype": "text/x-python",
   "name": "python",
   "nbconvert_exporter": "python",
   "pygments_lexer": "ipython3",
   "version": "3.10.4"
  }
 },
 "nbformat": 4,
 "nbformat_minor": 5
}
