{
  "cells": [
    {
      "cell_type": "code",
      "source": [
        "!pip install -q qiskit\n",
        "!pip install -q pylatexenc\n",
        "#!pip install git+https://github.com/qiskit-community/qiskit-textbook.git#subdirectory=qiskit-textbook-src\n",
        "!pip install qiskit-aer"
      ],
      "metadata": {
        "id": "hRFgrqiF239-",
        "outputId": "46ebaf0e-da40-4d55-8c4f-6f0940f21b43",
        "colab": {
          "base_uri": "https://localhost:8080/"
        }
      },
      "id": "hRFgrqiF239-",
      "execution_count": 1,
      "outputs": [
        {
          "output_type": "stream",
          "name": "stdout",
          "text": [
            "  Installing build dependencies ... \u001b[?25l\u001b[?25hdone\n",
            "  Getting requirements to build wheel ... \u001b[?25l\u001b[?25hdone\n",
            "  Installing backend dependencies ... \u001b[?25l\u001b[?25hdone\n",
            "  Preparing metadata (pyproject.toml) ... \u001b[?25l\u001b[?25hdone\n",
            "\u001b[2K     \u001b[90m━━━━━━━━━━━━━━━━━━━━━━━━━━━━━━━━━━━━━━━━\u001b[0m \u001b[32m6.1/6.1 MB\u001b[0m \u001b[31m16.1 MB/s\u001b[0m eta \u001b[36m0:00:00\u001b[0m\n",
            "\u001b[2K     \u001b[90m━━━━━━━━━━━━━━━━━━━━━━━━━━━━━━━━━━━━━━━━\u001b[0m \u001b[32m2.0/2.0 MB\u001b[0m \u001b[31m30.4 MB/s\u001b[0m eta \u001b[36m0:00:00\u001b[0m\n",
            "\u001b[2K     \u001b[90m━━━━━━━━━━━━━━━━━━━━━━━━━━━━━━━━━━━━━━━━\u001b[0m \u001b[32m49.6/49.6 kB\u001b[0m \u001b[31m5.5 MB/s\u001b[0m eta \u001b[36m0:00:00\u001b[0m\n",
            "\u001b[2K     \u001b[90m━━━━━━━━━━━━━━━━━━━━━━━━━━━━━━━━━━━━━━\u001b[0m \u001b[32m115.3/115.3 kB\u001b[0m \u001b[31m13.3 MB/s\u001b[0m eta \u001b[36m0:00:00\u001b[0m\n",
            "\u001b[2K     \u001b[90m━━━━━━━━━━━━━━━━━━━━━━━━━━━━━━━━━━━━━━━━\u001b[0m \u001b[32m49.6/49.6 kB\u001b[0m \u001b[31m5.3 MB/s\u001b[0m eta \u001b[36m0:00:00\u001b[0m\n",
            "\u001b[2K     \u001b[90m━━━━━━━━━━━━━━━━━━━━━━━━━━━━━━━━━━━━━━━━\u001b[0m \u001b[32m37.5/37.5 MB\u001b[0m \u001b[31m25.1 MB/s\u001b[0m eta \u001b[36m0:00:00\u001b[0m\n",
            "\u001b[2K     \u001b[90m━━━━━━━━━━━━━━━━━━━━━━━━━━━━━━━━━━━━━━\u001b[0m \u001b[32m112.7/112.7 kB\u001b[0m \u001b[31m13.1 MB/s\u001b[0m eta \u001b[36m0:00:00\u001b[0m\n",
            "\u001b[?25h  Building wheel for qiskit (pyproject.toml) ... \u001b[?25l\u001b[?25hdone\n",
            "\u001b[2K     \u001b[90m━━━━━━━━━━━━━━━━━━━━━━━━━━━━━━━━━━━━━━━\u001b[0m \u001b[32m162.6/162.6 kB\u001b[0m \u001b[31m2.4 MB/s\u001b[0m eta \u001b[36m0:00:00\u001b[0m\n",
            "\u001b[?25h  Preparing metadata (setup.py) ... \u001b[?25l\u001b[?25hdone\n",
            "  Building wheel for pylatexenc (setup.py) ... \u001b[?25l\u001b[?25hdone\n",
            "Collecting qiskit-aer\n",
            "  Downloading qiskit_aer-0.12.2-cp310-cp310-manylinux_2_17_x86_64.manylinux2014_x86_64.whl (12.8 MB)\n",
            "\u001b[2K     \u001b[90m━━━━━━━━━━━━━━━━━━━━━━━━━━━━━━━━━━━━━━━━\u001b[0m \u001b[32m12.8/12.8 MB\u001b[0m \u001b[31m29.9 MB/s\u001b[0m eta \u001b[36m0:00:00\u001b[0m\n",
            "\u001b[?25hRequirement already satisfied: qiskit-terra>=0.21.0 in /usr/local/lib/python3.10/dist-packages (from qiskit-aer) (0.25.0)\n",
            "Requirement already satisfied: numpy>=1.16.3 in /usr/local/lib/python3.10/dist-packages (from qiskit-aer) (1.23.5)\n",
            "Requirement already satisfied: scipy>=1.0 in /usr/local/lib/python3.10/dist-packages (from qiskit-aer) (1.10.1)\n",
            "Requirement already satisfied: rustworkx>=0.13.0 in /usr/local/lib/python3.10/dist-packages (from qiskit-terra>=0.21.0->qiskit-aer) (0.13.1)\n",
            "Requirement already satisfied: ply>=3.10 in /usr/local/lib/python3.10/dist-packages (from qiskit-terra>=0.21.0->qiskit-aer) (3.11)\n",
            "Requirement already satisfied: psutil>=5 in /usr/local/lib/python3.10/dist-packages (from qiskit-terra>=0.21.0->qiskit-aer) (5.9.5)\n",
            "Requirement already satisfied: sympy>=1.3 in /usr/local/lib/python3.10/dist-packages (from qiskit-terra>=0.21.0->qiskit-aer) (1.12)\n",
            "Requirement already satisfied: dill>=0.3 in /usr/local/lib/python3.10/dist-packages (from qiskit-terra>=0.21.0->qiskit-aer) (0.3.7)\n",
            "Requirement already satisfied: python-dateutil>=2.8.0 in /usr/local/lib/python3.10/dist-packages (from qiskit-terra>=0.21.0->qiskit-aer) (2.8.2)\n",
            "Requirement already satisfied: stevedore>=3.0.0 in /usr/local/lib/python3.10/dist-packages (from qiskit-terra>=0.21.0->qiskit-aer) (5.1.0)\n",
            "Requirement already satisfied: symengine<0.10,>=0.9 in /usr/local/lib/python3.10/dist-packages (from qiskit-terra>=0.21.0->qiskit-aer) (0.9.2)\n",
            "Requirement already satisfied: typing-extensions in /usr/local/lib/python3.10/dist-packages (from qiskit-terra>=0.21.0->qiskit-aer) (4.7.1)\n",
            "Requirement already satisfied: six>=1.5 in /usr/local/lib/python3.10/dist-packages (from python-dateutil>=2.8.0->qiskit-terra>=0.21.0->qiskit-aer) (1.16.0)\n",
            "Requirement already satisfied: pbr!=2.1.0,>=2.0.0 in /usr/local/lib/python3.10/dist-packages (from stevedore>=3.0.0->qiskit-terra>=0.21.0->qiskit-aer) (5.11.1)\n",
            "Requirement already satisfied: mpmath>=0.19 in /usr/local/lib/python3.10/dist-packages (from sympy>=1.3->qiskit-terra>=0.21.0->qiskit-aer) (1.3.0)\n",
            "Installing collected packages: qiskit-aer\n",
            "Successfully installed qiskit-aer-0.12.2\n"
          ]
        }
      ]
    },
    {
      "cell_type": "markdown",
      "id": "55e15257",
      "metadata": {
        "id": "55e15257"
      },
      "source": [
        "#### Loading data"
      ]
    },
    {
      "cell_type": "code",
      "execution_count": 17,
      "id": "c070d0ad",
      "metadata": {
        "id": "c070d0ad"
      },
      "outputs": [],
      "source": [
        "import pandas as pd"
      ]
    },
    {
      "cell_type": "code",
      "execution_count": 18,
      "id": "61ff3fb8",
      "metadata": {
        "id": "61ff3fb8",
        "outputId": "4f945ba9-9286-4b52-86de-25c222a59bc4",
        "colab": {
          "base_uri": "https://localhost:8080/",
          "height": 206
        }
      },
      "outputs": [
        {
          "output_type": "execute_result",
          "data": {
            "text/plain": [
              "                   node   type\n",
              "0               2001 10  comic\n",
              "1                2001 8  comic\n",
              "2                2001 9  comic\n",
              "3  24-HOUR MAN/EMMANUEL   hero\n",
              "4  3-D MAN/CHARLES CHAN   hero"
            ],
            "text/html": [
              "\n",
              "\n",
              "  <div id=\"df-b8f62207-d208-42c1-93be-362668b9682c\">\n",
              "    <div class=\"colab-df-container\">\n",
              "      <div>\n",
              "<style scoped>\n",
              "    .dataframe tbody tr th:only-of-type {\n",
              "        vertical-align: middle;\n",
              "    }\n",
              "\n",
              "    .dataframe tbody tr th {\n",
              "        vertical-align: top;\n",
              "    }\n",
              "\n",
              "    .dataframe thead th {\n",
              "        text-align: right;\n",
              "    }\n",
              "</style>\n",
              "<table border=\"1\" class=\"dataframe\">\n",
              "  <thead>\n",
              "    <tr style=\"text-align: right;\">\n",
              "      <th></th>\n",
              "      <th>node</th>\n",
              "      <th>type</th>\n",
              "    </tr>\n",
              "  </thead>\n",
              "  <tbody>\n",
              "    <tr>\n",
              "      <th>0</th>\n",
              "      <td>2001 10</td>\n",
              "      <td>comic</td>\n",
              "    </tr>\n",
              "    <tr>\n",
              "      <th>1</th>\n",
              "      <td>2001 8</td>\n",
              "      <td>comic</td>\n",
              "    </tr>\n",
              "    <tr>\n",
              "      <th>2</th>\n",
              "      <td>2001 9</td>\n",
              "      <td>comic</td>\n",
              "    </tr>\n",
              "    <tr>\n",
              "      <th>3</th>\n",
              "      <td>24-HOUR MAN/EMMANUEL</td>\n",
              "      <td>hero</td>\n",
              "    </tr>\n",
              "    <tr>\n",
              "      <th>4</th>\n",
              "      <td>3-D MAN/CHARLES CHAN</td>\n",
              "      <td>hero</td>\n",
              "    </tr>\n",
              "  </tbody>\n",
              "</table>\n",
              "</div>\n",
              "      <button class=\"colab-df-convert\" onclick=\"convertToInteractive('df-b8f62207-d208-42c1-93be-362668b9682c')\"\n",
              "              title=\"Convert this dataframe to an interactive table.\"\n",
              "              style=\"display:none;\">\n",
              "\n",
              "  <svg xmlns=\"http://www.w3.org/2000/svg\" height=\"24px\"viewBox=\"0 0 24 24\"\n",
              "       width=\"24px\">\n",
              "    <path d=\"M0 0h24v24H0V0z\" fill=\"none\"/>\n",
              "    <path d=\"M18.56 5.44l.94 2.06.94-2.06 2.06-.94-2.06-.94-.94-2.06-.94 2.06-2.06.94zm-11 1L8.5 8.5l.94-2.06 2.06-.94-2.06-.94L8.5 2.5l-.94 2.06-2.06.94zm10 10l.94 2.06.94-2.06 2.06-.94-2.06-.94-.94-2.06-.94 2.06-2.06.94z\"/><path d=\"M17.41 7.96l-1.37-1.37c-.4-.4-.92-.59-1.43-.59-.52 0-1.04.2-1.43.59L10.3 9.45l-7.72 7.72c-.78.78-.78 2.05 0 2.83L4 21.41c.39.39.9.59 1.41.59.51 0 1.02-.2 1.41-.59l7.78-7.78 2.81-2.81c.8-.78.8-2.07 0-2.86zM5.41 20L4 18.59l7.72-7.72 1.47 1.35L5.41 20z\"/>\n",
              "  </svg>\n",
              "      </button>\n",
              "\n",
              "\n",
              "\n",
              "    <div id=\"df-53df1a34-68ea-431b-b4e9-acadd14102e3\">\n",
              "      <button class=\"colab-df-quickchart\" onclick=\"quickchart('df-53df1a34-68ea-431b-b4e9-acadd14102e3')\"\n",
              "              title=\"Suggest charts.\"\n",
              "              style=\"display:none;\">\n",
              "\n",
              "<svg xmlns=\"http://www.w3.org/2000/svg\" height=\"24px\"viewBox=\"0 0 24 24\"\n",
              "     width=\"24px\">\n",
              "    <g>\n",
              "        <path d=\"M19 3H5c-1.1 0-2 .9-2 2v14c0 1.1.9 2 2 2h14c1.1 0 2-.9 2-2V5c0-1.1-.9-2-2-2zM9 17H7v-7h2v7zm4 0h-2V7h2v10zm4 0h-2v-4h2v4z\"/>\n",
              "    </g>\n",
              "</svg>\n",
              "      </button>\n",
              "    </div>\n",
              "\n",
              "<style>\n",
              "  .colab-df-quickchart {\n",
              "    background-color: #E8F0FE;\n",
              "    border: none;\n",
              "    border-radius: 50%;\n",
              "    cursor: pointer;\n",
              "    display: none;\n",
              "    fill: #1967D2;\n",
              "    height: 32px;\n",
              "    padding: 0 0 0 0;\n",
              "    width: 32px;\n",
              "  }\n",
              "\n",
              "  .colab-df-quickchart:hover {\n",
              "    background-color: #E2EBFA;\n",
              "    box-shadow: 0px 1px 2px rgba(60, 64, 67, 0.3), 0px 1px 3px 1px rgba(60, 64, 67, 0.15);\n",
              "    fill: #174EA6;\n",
              "  }\n",
              "\n",
              "  [theme=dark] .colab-df-quickchart {\n",
              "    background-color: #3B4455;\n",
              "    fill: #D2E3FC;\n",
              "  }\n",
              "\n",
              "  [theme=dark] .colab-df-quickchart:hover {\n",
              "    background-color: #434B5C;\n",
              "    box-shadow: 0px 1px 3px 1px rgba(0, 0, 0, 0.15);\n",
              "    filter: drop-shadow(0px 1px 2px rgba(0, 0, 0, 0.3));\n",
              "    fill: #FFFFFF;\n",
              "  }\n",
              "</style>\n",
              "\n",
              "    <script>\n",
              "      async function quickchart(key) {\n",
              "        const containerElement = document.querySelector('#' + key);\n",
              "        const charts = await google.colab.kernel.invokeFunction(\n",
              "            'suggestCharts', [key], {});\n",
              "      }\n",
              "    </script>\n",
              "\n",
              "\n",
              "      <script>\n",
              "\n",
              "function displayQuickchartButton(domScope) {\n",
              "  let quickchartButtonEl =\n",
              "    domScope.querySelector('#df-53df1a34-68ea-431b-b4e9-acadd14102e3 button.colab-df-quickchart');\n",
              "  quickchartButtonEl.style.display =\n",
              "    google.colab.kernel.accessAllowed ? 'block' : 'none';\n",
              "}\n",
              "\n",
              "        displayQuickchartButton(document);\n",
              "      </script>\n",
              "      <style>\n",
              "    .colab-df-container {\n",
              "      display:flex;\n",
              "      flex-wrap:wrap;\n",
              "      gap: 12px;\n",
              "    }\n",
              "\n",
              "    .colab-df-convert {\n",
              "      background-color: #E8F0FE;\n",
              "      border: none;\n",
              "      border-radius: 50%;\n",
              "      cursor: pointer;\n",
              "      display: none;\n",
              "      fill: #1967D2;\n",
              "      height: 32px;\n",
              "      padding: 0 0 0 0;\n",
              "      width: 32px;\n",
              "    }\n",
              "\n",
              "    .colab-df-convert:hover {\n",
              "      background-color: #E2EBFA;\n",
              "      box-shadow: 0px 1px 2px rgba(60, 64, 67, 0.3), 0px 1px 3px 1px rgba(60, 64, 67, 0.15);\n",
              "      fill: #174EA6;\n",
              "    }\n",
              "\n",
              "    [theme=dark] .colab-df-convert {\n",
              "      background-color: #3B4455;\n",
              "      fill: #D2E3FC;\n",
              "    }\n",
              "\n",
              "    [theme=dark] .colab-df-convert:hover {\n",
              "      background-color: #434B5C;\n",
              "      box-shadow: 0px 1px 3px 1px rgba(0, 0, 0, 0.15);\n",
              "      filter: drop-shadow(0px 1px 2px rgba(0, 0, 0, 0.3));\n",
              "      fill: #FFFFFF;\n",
              "    }\n",
              "  </style>\n",
              "\n",
              "      <script>\n",
              "        const buttonEl =\n",
              "          document.querySelector('#df-b8f62207-d208-42c1-93be-362668b9682c button.colab-df-convert');\n",
              "        buttonEl.style.display =\n",
              "          google.colab.kernel.accessAllowed ? 'block' : 'none';\n",
              "\n",
              "        async function convertToInteractive(key) {\n",
              "          const element = document.querySelector('#df-b8f62207-d208-42c1-93be-362668b9682c');\n",
              "          const dataTable =\n",
              "            await google.colab.kernel.invokeFunction('convertToInteractive',\n",
              "                                                     [key], {});\n",
              "          if (!dataTable) return;\n",
              "\n",
              "          const docLinkHtml = 'Like what you see? Visit the ' +\n",
              "            '<a target=\"_blank\" href=https://colab.research.google.com/notebooks/data_table.ipynb>data table notebook</a>'\n",
              "            + ' to learn more about interactive tables.';\n",
              "          element.innerHTML = '';\n",
              "          dataTable['output_type'] = 'display_data';\n",
              "          await google.colab.output.renderOutput(dataTable, element);\n",
              "          const docLink = document.createElement('div');\n",
              "          docLink.innerHTML = docLinkHtml;\n",
              "          element.appendChild(docLink);\n",
              "        }\n",
              "      </script>\n",
              "    </div>\n",
              "  </div>\n"
            ]
          },
          "metadata": {},
          "execution_count": 18
        }
      ],
      "source": [
        "nodes = pd.read_csv(\"data/nodes.csv\")\n",
        "nodes.head()"
      ]
    },
    {
      "cell_type": "code",
      "execution_count": 19,
      "id": "1cbb7c4b",
      "metadata": {
        "id": "1cbb7c4b",
        "outputId": "08e944f9-bf39-4ebc-e330-a165fac85bb2",
        "colab": {
          "base_uri": "https://localhost:8080/",
          "height": 206
        }
      },
      "outputs": [
        {
          "output_type": "execute_result",
          "data": {
            "text/plain": [
              "                   hero   comic\n",
              "0  24-HOUR MAN/EMMANUEL  AA2 35\n",
              "1  3-D MAN/CHARLES CHAN   AVF 4\n",
              "2  3-D MAN/CHARLES CHAN   AVF 5\n",
              "3  3-D MAN/CHARLES CHAN   COC 1\n",
              "4  3-D MAN/CHARLES CHAN  H2 251"
            ],
            "text/html": [
              "\n",
              "\n",
              "  <div id=\"df-50a33936-089d-43da-b77d-e0919d1b6ac8\">\n",
              "    <div class=\"colab-df-container\">\n",
              "      <div>\n",
              "<style scoped>\n",
              "    .dataframe tbody tr th:only-of-type {\n",
              "        vertical-align: middle;\n",
              "    }\n",
              "\n",
              "    .dataframe tbody tr th {\n",
              "        vertical-align: top;\n",
              "    }\n",
              "\n",
              "    .dataframe thead th {\n",
              "        text-align: right;\n",
              "    }\n",
              "</style>\n",
              "<table border=\"1\" class=\"dataframe\">\n",
              "  <thead>\n",
              "    <tr style=\"text-align: right;\">\n",
              "      <th></th>\n",
              "      <th>hero</th>\n",
              "      <th>comic</th>\n",
              "    </tr>\n",
              "  </thead>\n",
              "  <tbody>\n",
              "    <tr>\n",
              "      <th>0</th>\n",
              "      <td>24-HOUR MAN/EMMANUEL</td>\n",
              "      <td>AA2 35</td>\n",
              "    </tr>\n",
              "    <tr>\n",
              "      <th>1</th>\n",
              "      <td>3-D MAN/CHARLES CHAN</td>\n",
              "      <td>AVF 4</td>\n",
              "    </tr>\n",
              "    <tr>\n",
              "      <th>2</th>\n",
              "      <td>3-D MAN/CHARLES CHAN</td>\n",
              "      <td>AVF 5</td>\n",
              "    </tr>\n",
              "    <tr>\n",
              "      <th>3</th>\n",
              "      <td>3-D MAN/CHARLES CHAN</td>\n",
              "      <td>COC 1</td>\n",
              "    </tr>\n",
              "    <tr>\n",
              "      <th>4</th>\n",
              "      <td>3-D MAN/CHARLES CHAN</td>\n",
              "      <td>H2 251</td>\n",
              "    </tr>\n",
              "  </tbody>\n",
              "</table>\n",
              "</div>\n",
              "      <button class=\"colab-df-convert\" onclick=\"convertToInteractive('df-50a33936-089d-43da-b77d-e0919d1b6ac8')\"\n",
              "              title=\"Convert this dataframe to an interactive table.\"\n",
              "              style=\"display:none;\">\n",
              "\n",
              "  <svg xmlns=\"http://www.w3.org/2000/svg\" height=\"24px\"viewBox=\"0 0 24 24\"\n",
              "       width=\"24px\">\n",
              "    <path d=\"M0 0h24v24H0V0z\" fill=\"none\"/>\n",
              "    <path d=\"M18.56 5.44l.94 2.06.94-2.06 2.06-.94-2.06-.94-.94-2.06-.94 2.06-2.06.94zm-11 1L8.5 8.5l.94-2.06 2.06-.94-2.06-.94L8.5 2.5l-.94 2.06-2.06.94zm10 10l.94 2.06.94-2.06 2.06-.94-2.06-.94-.94-2.06-.94 2.06-2.06.94z\"/><path d=\"M17.41 7.96l-1.37-1.37c-.4-.4-.92-.59-1.43-.59-.52 0-1.04.2-1.43.59L10.3 9.45l-7.72 7.72c-.78.78-.78 2.05 0 2.83L4 21.41c.39.39.9.59 1.41.59.51 0 1.02-.2 1.41-.59l7.78-7.78 2.81-2.81c.8-.78.8-2.07 0-2.86zM5.41 20L4 18.59l7.72-7.72 1.47 1.35L5.41 20z\"/>\n",
              "  </svg>\n",
              "      </button>\n",
              "\n",
              "\n",
              "\n",
              "    <div id=\"df-80ef02b3-8e00-4b89-9c6d-21c96bc0ea37\">\n",
              "      <button class=\"colab-df-quickchart\" onclick=\"quickchart('df-80ef02b3-8e00-4b89-9c6d-21c96bc0ea37')\"\n",
              "              title=\"Suggest charts.\"\n",
              "              style=\"display:none;\">\n",
              "\n",
              "<svg xmlns=\"http://www.w3.org/2000/svg\" height=\"24px\"viewBox=\"0 0 24 24\"\n",
              "     width=\"24px\">\n",
              "    <g>\n",
              "        <path d=\"M19 3H5c-1.1 0-2 .9-2 2v14c0 1.1.9 2 2 2h14c1.1 0 2-.9 2-2V5c0-1.1-.9-2-2-2zM9 17H7v-7h2v7zm4 0h-2V7h2v10zm4 0h-2v-4h2v4z\"/>\n",
              "    </g>\n",
              "</svg>\n",
              "      </button>\n",
              "    </div>\n",
              "\n",
              "<style>\n",
              "  .colab-df-quickchart {\n",
              "    background-color: #E8F0FE;\n",
              "    border: none;\n",
              "    border-radius: 50%;\n",
              "    cursor: pointer;\n",
              "    display: none;\n",
              "    fill: #1967D2;\n",
              "    height: 32px;\n",
              "    padding: 0 0 0 0;\n",
              "    width: 32px;\n",
              "  }\n",
              "\n",
              "  .colab-df-quickchart:hover {\n",
              "    background-color: #E2EBFA;\n",
              "    box-shadow: 0px 1px 2px rgba(60, 64, 67, 0.3), 0px 1px 3px 1px rgba(60, 64, 67, 0.15);\n",
              "    fill: #174EA6;\n",
              "  }\n",
              "\n",
              "  [theme=dark] .colab-df-quickchart {\n",
              "    background-color: #3B4455;\n",
              "    fill: #D2E3FC;\n",
              "  }\n",
              "\n",
              "  [theme=dark] .colab-df-quickchart:hover {\n",
              "    background-color: #434B5C;\n",
              "    box-shadow: 0px 1px 3px 1px rgba(0, 0, 0, 0.15);\n",
              "    filter: drop-shadow(0px 1px 2px rgba(0, 0, 0, 0.3));\n",
              "    fill: #FFFFFF;\n",
              "  }\n",
              "</style>\n",
              "\n",
              "    <script>\n",
              "      async function quickchart(key) {\n",
              "        const containerElement = document.querySelector('#' + key);\n",
              "        const charts = await google.colab.kernel.invokeFunction(\n",
              "            'suggestCharts', [key], {});\n",
              "      }\n",
              "    </script>\n",
              "\n",
              "\n",
              "      <script>\n",
              "\n",
              "function displayQuickchartButton(domScope) {\n",
              "  let quickchartButtonEl =\n",
              "    domScope.querySelector('#df-80ef02b3-8e00-4b89-9c6d-21c96bc0ea37 button.colab-df-quickchart');\n",
              "  quickchartButtonEl.style.display =\n",
              "    google.colab.kernel.accessAllowed ? 'block' : 'none';\n",
              "}\n",
              "\n",
              "        displayQuickchartButton(document);\n",
              "      </script>\n",
              "      <style>\n",
              "    .colab-df-container {\n",
              "      display:flex;\n",
              "      flex-wrap:wrap;\n",
              "      gap: 12px;\n",
              "    }\n",
              "\n",
              "    .colab-df-convert {\n",
              "      background-color: #E8F0FE;\n",
              "      border: none;\n",
              "      border-radius: 50%;\n",
              "      cursor: pointer;\n",
              "      display: none;\n",
              "      fill: #1967D2;\n",
              "      height: 32px;\n",
              "      padding: 0 0 0 0;\n",
              "      width: 32px;\n",
              "    }\n",
              "\n",
              "    .colab-df-convert:hover {\n",
              "      background-color: #E2EBFA;\n",
              "      box-shadow: 0px 1px 2px rgba(60, 64, 67, 0.3), 0px 1px 3px 1px rgba(60, 64, 67, 0.15);\n",
              "      fill: #174EA6;\n",
              "    }\n",
              "\n",
              "    [theme=dark] .colab-df-convert {\n",
              "      background-color: #3B4455;\n",
              "      fill: #D2E3FC;\n",
              "    }\n",
              "\n",
              "    [theme=dark] .colab-df-convert:hover {\n",
              "      background-color: #434B5C;\n",
              "      box-shadow: 0px 1px 3px 1px rgba(0, 0, 0, 0.15);\n",
              "      filter: drop-shadow(0px 1px 2px rgba(0, 0, 0, 0.3));\n",
              "      fill: #FFFFFF;\n",
              "    }\n",
              "  </style>\n",
              "\n",
              "      <script>\n",
              "        const buttonEl =\n",
              "          document.querySelector('#df-50a33936-089d-43da-b77d-e0919d1b6ac8 button.colab-df-convert');\n",
              "        buttonEl.style.display =\n",
              "          google.colab.kernel.accessAllowed ? 'block' : 'none';\n",
              "\n",
              "        async function convertToInteractive(key) {\n",
              "          const element = document.querySelector('#df-50a33936-089d-43da-b77d-e0919d1b6ac8');\n",
              "          const dataTable =\n",
              "            await google.colab.kernel.invokeFunction('convertToInteractive',\n",
              "                                                     [key], {});\n",
              "          if (!dataTable) return;\n",
              "\n",
              "          const docLinkHtml = 'Like what you see? Visit the ' +\n",
              "            '<a target=\"_blank\" href=https://colab.research.google.com/notebooks/data_table.ipynb>data table notebook</a>'\n",
              "            + ' to learn more about interactive tables.';\n",
              "          element.innerHTML = '';\n",
              "          dataTable['output_type'] = 'display_data';\n",
              "          await google.colab.output.renderOutput(dataTable, element);\n",
              "          const docLink = document.createElement('div');\n",
              "          docLink.innerHTML = docLinkHtml;\n",
              "          element.appendChild(docLink);\n",
              "        }\n",
              "      </script>\n",
              "    </div>\n",
              "  </div>\n"
            ]
          },
          "metadata": {},
          "execution_count": 19
        }
      ],
      "source": [
        "edges = pd.read_csv(\"data/edges.csv\")\n",
        "edges.head()"
      ]
    },
    {
      "cell_type": "code",
      "execution_count": 20,
      "id": "3743a1cc",
      "metadata": {
        "id": "3743a1cc",
        "outputId": "da56e790-f133-4ba4-a3e5-877723927b91",
        "colab": {
          "base_uri": "https://localhost:8080/",
          "height": 206
        }
      },
      "outputs": [
        {
          "output_type": "execute_result",
          "data": {
            "text/plain": [
              "                  hero1                 hero2\n",
              "0         LITTLE, ABNER        PRINCESS ZANDA\n",
              "1         LITTLE, ABNER  BLACK PANTHER/T'CHAL\n",
              "2  BLACK PANTHER/T'CHAL        PRINCESS ZANDA\n",
              "3         LITTLE, ABNER        PRINCESS ZANDA\n",
              "4         LITTLE, ABNER  BLACK PANTHER/T'CHAL"
            ],
            "text/html": [
              "\n",
              "\n",
              "  <div id=\"df-bf4e85a1-c3ca-4fa6-9454-35cd17cf5e3e\">\n",
              "    <div class=\"colab-df-container\">\n",
              "      <div>\n",
              "<style scoped>\n",
              "    .dataframe tbody tr th:only-of-type {\n",
              "        vertical-align: middle;\n",
              "    }\n",
              "\n",
              "    .dataframe tbody tr th {\n",
              "        vertical-align: top;\n",
              "    }\n",
              "\n",
              "    .dataframe thead th {\n",
              "        text-align: right;\n",
              "    }\n",
              "</style>\n",
              "<table border=\"1\" class=\"dataframe\">\n",
              "  <thead>\n",
              "    <tr style=\"text-align: right;\">\n",
              "      <th></th>\n",
              "      <th>hero1</th>\n",
              "      <th>hero2</th>\n",
              "    </tr>\n",
              "  </thead>\n",
              "  <tbody>\n",
              "    <tr>\n",
              "      <th>0</th>\n",
              "      <td>LITTLE, ABNER</td>\n",
              "      <td>PRINCESS ZANDA</td>\n",
              "    </tr>\n",
              "    <tr>\n",
              "      <th>1</th>\n",
              "      <td>LITTLE, ABNER</td>\n",
              "      <td>BLACK PANTHER/T'CHAL</td>\n",
              "    </tr>\n",
              "    <tr>\n",
              "      <th>2</th>\n",
              "      <td>BLACK PANTHER/T'CHAL</td>\n",
              "      <td>PRINCESS ZANDA</td>\n",
              "    </tr>\n",
              "    <tr>\n",
              "      <th>3</th>\n",
              "      <td>LITTLE, ABNER</td>\n",
              "      <td>PRINCESS ZANDA</td>\n",
              "    </tr>\n",
              "    <tr>\n",
              "      <th>4</th>\n",
              "      <td>LITTLE, ABNER</td>\n",
              "      <td>BLACK PANTHER/T'CHAL</td>\n",
              "    </tr>\n",
              "  </tbody>\n",
              "</table>\n",
              "</div>\n",
              "      <button class=\"colab-df-convert\" onclick=\"convertToInteractive('df-bf4e85a1-c3ca-4fa6-9454-35cd17cf5e3e')\"\n",
              "              title=\"Convert this dataframe to an interactive table.\"\n",
              "              style=\"display:none;\">\n",
              "\n",
              "  <svg xmlns=\"http://www.w3.org/2000/svg\" height=\"24px\"viewBox=\"0 0 24 24\"\n",
              "       width=\"24px\">\n",
              "    <path d=\"M0 0h24v24H0V0z\" fill=\"none\"/>\n",
              "    <path d=\"M18.56 5.44l.94 2.06.94-2.06 2.06-.94-2.06-.94-.94-2.06-.94 2.06-2.06.94zm-11 1L8.5 8.5l.94-2.06 2.06-.94-2.06-.94L8.5 2.5l-.94 2.06-2.06.94zm10 10l.94 2.06.94-2.06 2.06-.94-2.06-.94-.94-2.06-.94 2.06-2.06.94z\"/><path d=\"M17.41 7.96l-1.37-1.37c-.4-.4-.92-.59-1.43-.59-.52 0-1.04.2-1.43.59L10.3 9.45l-7.72 7.72c-.78.78-.78 2.05 0 2.83L4 21.41c.39.39.9.59 1.41.59.51 0 1.02-.2 1.41-.59l7.78-7.78 2.81-2.81c.8-.78.8-2.07 0-2.86zM5.41 20L4 18.59l7.72-7.72 1.47 1.35L5.41 20z\"/>\n",
              "  </svg>\n",
              "      </button>\n",
              "\n",
              "\n",
              "\n",
              "    <div id=\"df-a066db68-579e-45d4-bfd2-07f462911f39\">\n",
              "      <button class=\"colab-df-quickchart\" onclick=\"quickchart('df-a066db68-579e-45d4-bfd2-07f462911f39')\"\n",
              "              title=\"Suggest charts.\"\n",
              "              style=\"display:none;\">\n",
              "\n",
              "<svg xmlns=\"http://www.w3.org/2000/svg\" height=\"24px\"viewBox=\"0 0 24 24\"\n",
              "     width=\"24px\">\n",
              "    <g>\n",
              "        <path d=\"M19 3H5c-1.1 0-2 .9-2 2v14c0 1.1.9 2 2 2h14c1.1 0 2-.9 2-2V5c0-1.1-.9-2-2-2zM9 17H7v-7h2v7zm4 0h-2V7h2v10zm4 0h-2v-4h2v4z\"/>\n",
              "    </g>\n",
              "</svg>\n",
              "      </button>\n",
              "    </div>\n",
              "\n",
              "<style>\n",
              "  .colab-df-quickchart {\n",
              "    background-color: #E8F0FE;\n",
              "    border: none;\n",
              "    border-radius: 50%;\n",
              "    cursor: pointer;\n",
              "    display: none;\n",
              "    fill: #1967D2;\n",
              "    height: 32px;\n",
              "    padding: 0 0 0 0;\n",
              "    width: 32px;\n",
              "  }\n",
              "\n",
              "  .colab-df-quickchart:hover {\n",
              "    background-color: #E2EBFA;\n",
              "    box-shadow: 0px 1px 2px rgba(60, 64, 67, 0.3), 0px 1px 3px 1px rgba(60, 64, 67, 0.15);\n",
              "    fill: #174EA6;\n",
              "  }\n",
              "\n",
              "  [theme=dark] .colab-df-quickchart {\n",
              "    background-color: #3B4455;\n",
              "    fill: #D2E3FC;\n",
              "  }\n",
              "\n",
              "  [theme=dark] .colab-df-quickchart:hover {\n",
              "    background-color: #434B5C;\n",
              "    box-shadow: 0px 1px 3px 1px rgba(0, 0, 0, 0.15);\n",
              "    filter: drop-shadow(0px 1px 2px rgba(0, 0, 0, 0.3));\n",
              "    fill: #FFFFFF;\n",
              "  }\n",
              "</style>\n",
              "\n",
              "    <script>\n",
              "      async function quickchart(key) {\n",
              "        const containerElement = document.querySelector('#' + key);\n",
              "        const charts = await google.colab.kernel.invokeFunction(\n",
              "            'suggestCharts', [key], {});\n",
              "      }\n",
              "    </script>\n",
              "\n",
              "\n",
              "      <script>\n",
              "\n",
              "function displayQuickchartButton(domScope) {\n",
              "  let quickchartButtonEl =\n",
              "    domScope.querySelector('#df-a066db68-579e-45d4-bfd2-07f462911f39 button.colab-df-quickchart');\n",
              "  quickchartButtonEl.style.display =\n",
              "    google.colab.kernel.accessAllowed ? 'block' : 'none';\n",
              "}\n",
              "\n",
              "        displayQuickchartButton(document);\n",
              "      </script>\n",
              "      <style>\n",
              "    .colab-df-container {\n",
              "      display:flex;\n",
              "      flex-wrap:wrap;\n",
              "      gap: 12px;\n",
              "    }\n",
              "\n",
              "    .colab-df-convert {\n",
              "      background-color: #E8F0FE;\n",
              "      border: none;\n",
              "      border-radius: 50%;\n",
              "      cursor: pointer;\n",
              "      display: none;\n",
              "      fill: #1967D2;\n",
              "      height: 32px;\n",
              "      padding: 0 0 0 0;\n",
              "      width: 32px;\n",
              "    }\n",
              "\n",
              "    .colab-df-convert:hover {\n",
              "      background-color: #E2EBFA;\n",
              "      box-shadow: 0px 1px 2px rgba(60, 64, 67, 0.3), 0px 1px 3px 1px rgba(60, 64, 67, 0.15);\n",
              "      fill: #174EA6;\n",
              "    }\n",
              "\n",
              "    [theme=dark] .colab-df-convert {\n",
              "      background-color: #3B4455;\n",
              "      fill: #D2E3FC;\n",
              "    }\n",
              "\n",
              "    [theme=dark] .colab-df-convert:hover {\n",
              "      background-color: #434B5C;\n",
              "      box-shadow: 0px 1px 3px 1px rgba(0, 0, 0, 0.15);\n",
              "      filter: drop-shadow(0px 1px 2px rgba(0, 0, 0, 0.3));\n",
              "      fill: #FFFFFF;\n",
              "    }\n",
              "  </style>\n",
              "\n",
              "      <script>\n",
              "        const buttonEl =\n",
              "          document.querySelector('#df-bf4e85a1-c3ca-4fa6-9454-35cd17cf5e3e button.colab-df-convert');\n",
              "        buttonEl.style.display =\n",
              "          google.colab.kernel.accessAllowed ? 'block' : 'none';\n",
              "\n",
              "        async function convertToInteractive(key) {\n",
              "          const element = document.querySelector('#df-bf4e85a1-c3ca-4fa6-9454-35cd17cf5e3e');\n",
              "          const dataTable =\n",
              "            await google.colab.kernel.invokeFunction('convertToInteractive',\n",
              "                                                     [key], {});\n",
              "          if (!dataTable) return;\n",
              "\n",
              "          const docLinkHtml = 'Like what you see? Visit the ' +\n",
              "            '<a target=\"_blank\" href=https://colab.research.google.com/notebooks/data_table.ipynb>data table notebook</a>'\n",
              "            + ' to learn more about interactive tables.';\n",
              "          element.innerHTML = '';\n",
              "          dataTable['output_type'] = 'display_data';\n",
              "          await google.colab.output.renderOutput(dataTable, element);\n",
              "          const docLink = document.createElement('div');\n",
              "          docLink.innerHTML = docLinkHtml;\n",
              "          element.appendChild(docLink);\n",
              "        }\n",
              "      </script>\n",
              "    </div>\n",
              "  </div>\n"
            ]
          },
          "metadata": {},
          "execution_count": 20
        }
      ],
      "source": [
        "hero_network = pd.read_csv(\"data/hero-network.csv\")\n",
        "hero_network.head()"
      ]
    },
    {
      "cell_type": "markdown",
      "id": "23132244",
      "metadata": {
        "id": "23132244"
      },
      "source": [
        "#### Graphing network"
      ]
    },
    {
      "cell_type": "code",
      "execution_count": 21,
      "id": "89f0dd50",
      "metadata": {
        "id": "89f0dd50"
      },
      "outputs": [],
      "source": [
        "import networkx as nx"
      ]
    },
    {
      "cell_type": "code",
      "execution_count": 22,
      "id": "ff53cfb8",
      "metadata": {
        "id": "ff53cfb8"
      },
      "outputs": [],
      "source": [
        "graph = nx.from_pandas_edgelist(hero_network, source = \"hero1\", target = \"hero2\")"
      ]
    },
    {
      "cell_type": "code",
      "execution_count": 23,
      "id": "05ec4abf",
      "metadata": {
        "colab": {
          "base_uri": "https://localhost:8080/"
        },
        "id": "05ec4abf",
        "outputId": "fdcba1c6-46bb-45c3-fb03-e997061265a5"
      },
      "outputs": [
        {
          "output_type": "stream",
          "name": "stdout",
          "text": [
            "Number of nodes 6426\n",
            "Number of edges 167219\n",
            "Average degree 52.044506691565516\n"
          ]
        }
      ],
      "source": [
        "print('Number of nodes', len(graph.nodes))\n",
        "print('Number of edges', len(graph.edges))\n",
        "print('Average degree', sum(dict(graph.degree).values()) / len(graph.nodes))"
      ]
    },
    {
      "cell_type": "code",
      "execution_count": 35,
      "metadata": {
        "id": "8n9wnl8NGjJ7"
      },
      "outputs": [],
      "source": [
        "def info(k):\n",
        "  print('Number of nodes', len(k.nodes))\n",
        "  print('Number of edges', len(k.edges))\n",
        "  print('Average degree', sum(dict(k.degree).values()) / len(k.nodes))"
      ],
      "id": "8n9wnl8NGjJ7"
    },
    {
      "cell_type": "code",
      "execution_count": 24,
      "id": "4efaabca",
      "metadata": {
        "id": "4efaabca",
        "outputId": "42210929-10c2-4627-fde3-505b6d36cc27",
        "colab": {
          "base_uri": "https://localhost:8080/"
        }
      },
      "outputs": [
        {
          "output_type": "stream",
          "name": "stdout",
          "text": [
            "Network Density:  0.00810031232553549\n"
          ]
        }
      ],
      "source": [
        "print(\"Network Density: \", nx.density(graph))"
      ]
    },
    {
      "cell_type": "code",
      "execution_count": 25,
      "id": "8fcae271",
      "metadata": {
        "id": "8fcae271",
        "outputId": "ed4b17a4-9124-4b3b-904b-b178ef3a728a",
        "colab": {
          "base_uri": "https://localhost:8080/"
        }
      },
      "outputs": [
        {
          "output_type": "stream",
          "name": "stdout",
          "text": [
            "<class 'pandas.core.frame.DataFrame'>\n",
            "Int64Index: 103 entries, 895 to 573288\n",
            "Data columns (total 2 columns):\n",
            " #   Column  Non-Null Count  Dtype \n",
            "---  ------  --------------  ----- \n",
            " 0   hero1   103 non-null    object\n",
            " 1   hero2   103 non-null    object\n",
            "dtypes: object(2)\n",
            "memory usage: 2.4+ KB\n"
          ]
        }
      ],
      "source": [
        "heroes = {'MEDUSA/MEDUSALITH AM','ARCLIGHT/PHILLIPA SO','WOLVERINE/LOGAN ','SCARLET WITCH/WANDA ',\n",
        "          'ARAGORN','OVERMIND/GROM','BATTLEAXE/','ION/', 'PINK PEARL/'}\n",
        "relations = hero_network[(hero_network.hero1.isin(heroes)) & (hero_network.hero2.isin(heroes))]\n",
        "relations.info()"
      ]
    },
    {
      "cell_type": "code",
      "execution_count": 26,
      "id": "a9798347",
      "metadata": {
        "id": "a9798347",
        "outputId": "9ac24147-8022-4c8f-caaa-b15f275bd918",
        "colab": {
          "base_uri": "https://localhost:8080/"
        }
      },
      "outputs": [
        {
          "output_type": "stream",
          "name": "stdout",
          "text": [
            "Number of nodes 9\n",
            "Number of edges 13\n",
            "Average degree 2.888888888888889\n",
            "\n",
            "Network Density: 0.3611111111111111\n"
          ]
        }
      ],
      "source": [
        "subgraph = nx.from_pandas_edgelist(relations, source = \"hero1\", target = \"hero2\")\n",
        "print('Number of nodes', len(subgraph.nodes))\n",
        "print('Number of edges', len(subgraph.edges))\n",
        "print('Average degree', sum(dict(subgraph.degree).values()) / len(subgraph.nodes))\n",
        "print(\"\\nNetwork Density:\", nx.density(subgraph))"
      ]
    },
    {
      "cell_type": "code",
      "execution_count": 27,
      "id": "3ffb4bdf",
      "metadata": {
        "id": "3ffb4bdf"
      },
      "outputs": [],
      "source": [
        "import matplotlib.pyplot as plt\n",
        "%matplotlib inline\n",
        "import seaborn as sns; sns.set_style(\"dark\")"
      ]
    },
    {
      "cell_type": "code",
      "execution_count": 28,
      "id": "635cf82f",
      "metadata": {
        "id": "635cf82f",
        "outputId": "d01330fe-3ebe-4240-8373-f1c2ebf0e86a",
        "colab": {
          "base_uri": "https://localhost:8080/",
          "height": 648
        }
      },
      "outputs": [
        {
          "output_type": "display_data",
          "data": {
            "text/plain": [
              "<Figure size 1200x800 with 1 Axes>"
            ],
            "image/png": "[encoded data removed]"
          },
          "metadata": {}
        }
      ],
      "source": [
        "plt.figure(figsize = (12, 8))\n",
        "#plt.title(\"Network Graph of Marvel Characters' Interactions\")\n",
        "nx.draw_networkx(subgraph, font_size = 9, font_color = \"red\", font_weight = \"bold\", font_family = \"DejaVu Sans\")"
      ]
    },
    {
      "cell_type": "code",
      "execution_count": 29,
      "id": "c66d3833",
      "metadata": {
        "id": "c66d3833",
        "outputId": "13759f41-9f7b-4bf2-d89f-3408ca0eb8a9",
        "colab": {
          "base_uri": "https://localhost:8080/"
        }
      },
      "outputs": [
        {
          "output_type": "stream",
          "name": "stdout",
          "text": [
            "Diameter of a subgraph: 4\n"
          ]
        }
      ],
      "source": [
        "## The diameter is a measure of the number of steps it takes to travel between the outermost nodes\n",
        "print(\"Diameter of a subgraph:\", nx.diameter(subgraph))"
      ]
    },
    {
      "cell_type": "code",
      "execution_count": 30,
      "id": "0e5c8db1",
      "metadata": {
        "id": "0e5c8db1",
        "outputId": "327a1fe5-dbcf-4627-acf8-df5ff001121e",
        "colab": {
          "base_uri": "https://localhost:8080/"
        }
      },
      "outputs": [
        {
          "output_type": "stream",
          "name": "stdout",
          "text": [
            "Shortest path between Overmind and Ion is: \n",
            "-  OVERMIND/GROM\n",
            "-  SCARLET WITCH/WANDA \n",
            "-  WOLVERINE/LOGAN \n",
            "-  ARCLIGHT/PHILLIPA SO\n",
            "-  ION/\n",
            "With length: 5\n"
          ]
        }
      ],
      "source": [
        "## shortest_path calculates number of nodes between the most distant nodes. This includes the distant nodes as well\n",
        "shortest_path = nx.shortest_path(subgraph, source = \"OVERMIND/GROM\", target = \"ION/\")\n",
        "print(\"Shortest path between Overmind and Ion is: \")\n",
        "for item in shortest_path:\n",
        "    print(\"- \", item)\n",
        "\n",
        "print(\"With length:\", len(shortest_path))"
      ]
    },
    {
      "cell_type": "code",
      "execution_count": 31,
      "id": "f7344a1c",
      "metadata": {
        "id": "f7344a1c",
        "outputId": "1693bb49-6ecb-4956-9523-138d98e612fb",
        "colab": {
          "base_uri": "https://localhost:8080/"
        }
      },
      "outputs": [
        {
          "output_type": "execute_result",
          "data": {
            "text/plain": [
              "{'SCARLET WITCH/WANDA ': 3,\n",
              " 'WOLVERINE/LOGAN ': 2,\n",
              " 'MEDUSA/MEDUSALITH AM': 3,\n",
              " 'ARAGORN': 4,\n",
              " 'OVERMIND/GROM': 4,\n",
              " 'ARCLIGHT/PHILLIPA SO': 3,\n",
              " 'ION/': 4,\n",
              " 'BATTLEAXE/': 4,\n",
              " 'PINK PEARL/': 4}"
            ]
          },
          "metadata": {},
          "execution_count": 31
        }
      ],
      "source": [
        "## A measure for how close to the centre each node is\n",
        "nx.eccentricity(subgraph)"
      ]
    },
    {
      "cell_type": "code",
      "execution_count": null,
      "id": "f2053b02",
      "metadata": {
        "id": "f2053b02",
        "outputId": "0c629030-b61b-49bb-ce95-03f44cfc67ef"
      },
      "outputs": [
        {
          "data": {
            "text/plain": [
              "{'SCARLET WITCH/WANDA ': 4,\n",
              " 'WOLVERINE/LOGAN ': 3,\n",
              " 'MEDUSA/MEDUSALITH AM': 2,\n",
              " 'ARAGORN': 2,\n",
              " 'OVERMIND/GROM': 2,\n",
              " 'ARCLIGHT/PHILLIPA SO': 4,\n",
              " 'ION/': 3,\n",
              " 'BATTLEAXE/': 3,\n",
              " 'PINK PEARL/': 3}"
            ]
          },
          "execution_count": 16,
          "metadata": {},
          "output_type": "execute_result"
        }
      ],
      "source": [
        "## A measure for how many edges are connected to each node\n",
        "dict(subgraph.degree(subgraph.nodes()))"
      ]
    },
    {
      "cell_type": "code",
      "execution_count": 32,
      "id": "0e291786",
      "metadata": {
        "id": "0e291786",
        "outputId": "78c5f988-a668-4acc-ca45-4d250a726892",
        "colab": {
          "base_uri": "https://localhost:8080/"
        }
      },
      "outputs": [
        {
          "output_type": "stream",
          "name": "stdout",
          "text": [
            "Shortest path between Scarlet and Arclight is: \n",
            "-  SCARLET WITCH/WANDA \n",
            "-  WOLVERINE/LOGAN \n",
            "-  ARCLIGHT/PHILLIPA SO\n",
            "With length: 3\n"
          ]
        }
      ],
      "source": [
        "scarlet_arclight_path = nx.shortest_path(subgraph, source = \"SCARLET WITCH/WANDA \", target = \"ARCLIGHT/PHILLIPA SO\")\n",
        "print(\"Shortest path between Scarlet and Arclight is: \")\n",
        "for item in scarlet_arclight_path:\n",
        "    print(\"- \", item)\n",
        "\n",
        "print(\"With length:\", len(scarlet_arclight_path))"
      ]
    },
    {
      "cell_type": "code",
      "execution_count": 33,
      "id": "775eee1c",
      "metadata": {
        "id": "775eee1c",
        "outputId": "12ff1271-9a24-4936-a71b-994a9a0f590e",
        "colab": {
          "base_uri": "https://localhost:8080/"
        }
      },
      "outputs": [
        {
          "output_type": "execute_result",
          "data": {
            "text/plain": [
              "{'SCARLET WITCH/WANDA ': 0.42857142857142855,\n",
              " 'WOLVERINE/LOGAN ': 0.5714285714285714,\n",
              " 'MEDUSA/MEDUSALITH AM': 0.0,\n",
              " 'ARAGORN': 0.0,\n",
              " 'OVERMIND/GROM': 0.0,\n",
              " 'ARCLIGHT/PHILLIPA SO': 0.5357142857142857,\n",
              " 'ION/': 0.0,\n",
              " 'BATTLEAXE/': 0.0,\n",
              " 'PINK PEARL/': 0.0}"
            ]
          },
          "metadata": {},
          "execution_count": 33
        }
      ],
      "source": [
        "## Betweenness centrality denotes the fraction of all the shortest paths that pass through a particular node.\n",
        "nx.betweenness_centrality(subgraph)"
      ]
    },
    {
      "cell_type": "code",
      "execution_count": 34,
      "id": "c3d4817b",
      "metadata": {
        "id": "c3d4817b",
        "outputId": "aaeaa9d0-d9a5-4501-87ae-6c2ad530a2bc",
        "colab": {
          "base_uri": "https://localhost:8080/"
        }
      },
      "outputs": [
        {
          "output_type": "stream",
          "name": "stdout",
          "text": [
            "\n",
            " Community:\n",
            "- OVERMIND/GROM\n",
            "- ARAGORN\n",
            "- MEDUSA/MEDUSALITH AM\n",
            "- SCARLET WITCH/WANDA \n",
            "- WOLVERINE/LOGAN \n",
            "\n",
            " Community:\n",
            "- ARCLIGHT/PHILLIPA SO\n",
            "- ION/\n",
            "- BATTLEAXE/\n",
            "- PINK PEARL/\n"
          ]
        }
      ],
      "source": [
        "## Community identification within the network\n",
        "from networkx.algorithms import community\n",
        "for item in community.greedy_modularity_communities(subgraph):\n",
        "    print(\"\\n Community:\")\n",
        "    for hero in item:\n",
        "        print(\"-\", hero)"
      ]
    },
    {
      "cell_type": "code",
      "execution_count": null,
      "id": "2a7cbe6a",
      "metadata": {
        "id": "2a7cbe6a",
        "outputId": "dc756795-a5e5-4930-c70a-3b2bf96ec349"
      },
      "outputs": [
        {
          "data": {
            "text/plain": [
              "{'OVERMIND/GROM': 0,\n",
              " 'WOLVERINE/LOGAN ': 0,\n",
              " 'MEDUSA/MEDUSALITH AM': 0,\n",
              " 'SCARLET WITCH/WANDA ': 0,\n",
              " 'ARAGORN': 0,\n",
              " 'BATTLEAXE/': 1,\n",
              " 'ION/': 1,\n",
              " 'ARCLIGHT/PHILLIPA SO': 1,\n",
              " 'PINK PEARL/': 1}"
            ]
          },
          "execution_count": 20,
          "metadata": {},
          "output_type": "execute_result"
        }
      ],
      "source": [
        "modularity_dict = {}\n",
        "for i,c in enumerate(community.greedy_modularity_communities(subgraph)):\n",
        "    for name in c:\n",
        "        modularity_dict[name] = i\n",
        "modularity_dict"
      ]
    },
    {
      "cell_type": "code",
      "execution_count": 36,
      "id": "cc8bf4a2",
      "metadata": {
        "id": "cc8bf4a2",
        "outputId": "647b88b9-396c-47f4-f572-e447b25b1d45",
        "colab": {
          "base_uri": "https://localhost:8080/"
        }
      },
      "outputs": [
        {
          "output_type": "stream",
          "name": "stdout",
          "text": [
            "Number of nodes 5\n",
            "Number of edges 6\n",
            "Average degree 2.4\n",
            "None\n",
            "\n",
            "Network Density: 0.60 \n",
            "\n",
            "Number of nodes 4\n",
            "Number of edges 6\n",
            "Average degree 3.0\n",
            "None\n",
            "\n",
            "Network Density: 1.00 \n",
            "\n"
          ]
        }
      ],
      "source": [
        "## Size and density of both communities\n",
        "comm = community.greedy_modularity_communities(subgraph)\n",
        "\n",
        "l = list(map(lambda c: list(c), comm))\n",
        "\n",
        "k = subgraph.subgraph(l[0])\n",
        "print(info(k))\n",
        "print(\"\\nNetwork Density: %.2f \\n\"%nx.density(k))\n",
        "\n",
        "\n",
        "k2 = subgraph.subgraph(l[1])\n",
        "print(info(k2))\n",
        "print(\"\\nNetwork Density: %.2f \\n\"%nx.density(k2))"
      ]
    },
    {
      "cell_type": "code",
      "execution_count": 37,
      "id": "da9c3c8f",
      "metadata": {
        "id": "da9c3c8f",
        "outputId": "2755ab4c-47e7-4ba1-98a9-25a7ca79b8de",
        "colab": {
          "base_uri": "https://localhost:8080/"
        }
      },
      "outputs": [
        {
          "output_type": "stream",
          "name": "stdout",
          "text": [
            "Shortest paths: \n",
            "- SCARLET WITCH/WANDA  :  1\n",
            "- WOLVERINE/LOGAN  :  2\n",
            "- MEDUSA/MEDUSALITH AM :  2\n",
            "- ARAGORN :  2\n",
            "- OVERMIND/GROM :  2\n",
            "\n",
            "Connected Edges\n",
            "- SCARLET WITCH/WANDA  : 4\n",
            "- WOLVERINE/LOGAN  : 3\n",
            "- MEDUSA/MEDUSALITH AM : 2\n",
            "- ARAGORN : 2\n",
            "- OVERMIND/GROM : 2\n",
            "\n",
            "Betweenness\n",
            "- SCARLET WITCH/WANDA  : 0.6666666666666666\n",
            "- WOLVERINE/LOGAN  : 0.0\n",
            "- MEDUSA/MEDUSALITH AM : 0.0\n",
            "- ARAGORN : 0.0\n",
            "- OVERMIND/GROM : 0.0\n"
          ]
        }
      ],
      "source": [
        "print(\"Shortest paths: \")\n",
        "sp = nx.eccentricity(k)\n",
        "for hero in sp:\n",
        "    print(\"-\", hero, \": \", sp[hero])\n",
        "\n",
        "ce = dict(subgraph.degree(k.nodes()))\n",
        "print(\"\\nConnected Edges\")\n",
        "for hero in ce:\n",
        "    print(\"-\", hero, \":\", ce[hero])\n",
        "\n",
        "bet = nx.betweenness_centrality(k)\n",
        "print(\"\\nBetweenness\")\n",
        "for hero in bet:\n",
        "    print(\"-\", hero, \":\", bet[hero])"
      ]
    },
    {
      "cell_type": "code",
      "execution_count": 38,
      "id": "73fc6901",
      "metadata": {
        "id": "73fc6901"
      },
      "outputs": [],
      "source": [
        "def max_cut(assigned_nodes, edges):\n",
        "    return sum(edges.apply(\n",
        "        lambda edge: (1- assigned_nodes[edge['hero1']]*assigned_nodes[edge['hero2']])/2, axis = 1))"
      ]
    },
    {
      "cell_type": "code",
      "execution_count": 39,
      "id": "fce9a953",
      "metadata": {
        "id": "fce9a953",
        "outputId": "6aff5f36-847b-4981-a323-39f7811f147b",
        "colab": {
          "base_uri": "https://localhost:8080/"
        }
      },
      "outputs": [
        {
          "output_type": "stream",
          "name": "stdout",
          "text": [
            "<class 'pandas.core.frame.DataFrame'>\n",
            "Int64Index: 13 entries, 895 to 390162\n",
            "Data columns (total 3 columns):\n",
            " #   Column        Non-Null Count  Dtype \n",
            "---  ------        --------------  ----- \n",
            " 0   hero1         13 non-null     object\n",
            " 1   hero2         13 non-null     object\n",
            " 2   check_string  13 non-null     object\n",
            "dtypes: object(3)\n",
            "memory usage: 416.0+ bytes\n"
          ]
        },
        {
          "output_type": "stream",
          "name": "stderr",
          "text": [
            "<ipython-input-39-3e341217f9c6>:3: SettingWithCopyWarning: \n",
            "A value is trying to be set on a copy of a slice from a DataFrame.\n",
            "Try using .loc[row_indexer,col_indexer] = value instead\n",
            "\n",
            "See the caveats in the documentation: https://pandas.pydata.org/pandas-docs/stable/user_guide/indexing.html#returning-a-view-versus-a-copy\n",
            "  edges['check_string'] = edges.apply(lambda row: \"\".join(sorted([row['hero1'], row['hero2']])), axis = 1)\n"
          ]
        }
      ],
      "source": [
        "### Assignment to groups via string check\n",
        "edges = relations\n",
        "edges['check_string'] = edges.apply(lambda row: \"\".join(sorted([row['hero1'], row['hero2']])), axis = 1)\n",
        "edges = edges.drop_duplicates('check_string')\n",
        "edges.info()"
      ]
    },
    {
      "cell_type": "code",
      "execution_count": 40,
      "id": "61402382",
      "metadata": {
        "id": "61402382",
        "outputId": "7fc09675-4647-4ce0-f200-1d256f66ee06",
        "colab": {
          "base_uri": "https://localhost:8080/"
        }
      },
      "outputs": [
        {
          "output_type": "execute_result",
          "data": {
            "text/plain": [
              "{'ARCLIGHT/PHILLIPA SO': -1,\n",
              " 'ION/': -1,\n",
              " 'SCARLET WITCH/WANDA ': -1,\n",
              " 'WOLVERINE/LOGAN ': -1,\n",
              " 'PINK PEARL/': -1,\n",
              " 'OVERMIND/GROM': -1,\n",
              " 'MEDUSA/MEDUSALITH AM': -1,\n",
              " 'ARAGORN': -1,\n",
              " 'BATTLEAXE/': -1}"
            ]
          },
          "metadata": {},
          "execution_count": 40
        }
      ],
      "source": [
        "single_group =  {name: -1 for name in heroes}\n",
        "single_group"
      ]
    },
    {
      "cell_type": "code",
      "execution_count": 41,
      "id": "24792c2b",
      "metadata": {
        "id": "24792c2b",
        "outputId": "0e5a5b0d-b166-4eae-b712-59a9838f20c8",
        "colab": {
          "base_uri": "https://localhost:8080/"
        }
      },
      "outputs": [
        {
          "output_type": "execute_result",
          "data": {
            "text/plain": [
              "0.0"
            ]
          },
          "metadata": {},
          "execution_count": 41
        }
      ],
      "source": [
        "max_cut(single_group, edges)"
      ]
    },
    {
      "cell_type": "code",
      "execution_count": 42,
      "id": "175a7b70",
      "metadata": {
        "id": "175a7b70",
        "outputId": "05e5f6df-68a8-46fe-ac6c-78b7080a0b8c",
        "colab": {
          "base_uri": "https://localhost:8080/"
        }
      },
      "outputs": [
        {
          "output_type": "execute_result",
          "data": {
            "text/plain": [
              "{'ARCLIGHT/PHILLIPA SO': 1,\n",
              " 'ION/': -1,\n",
              " 'SCARLET WITCH/WANDA ': -1,\n",
              " 'WOLVERINE/LOGAN ': 1,\n",
              " 'PINK PEARL/': 1,\n",
              " 'OVERMIND/GROM': 1,\n",
              " 'MEDUSA/MEDUSALITH AM': -1,\n",
              " 'ARAGORN': -1,\n",
              " 'BATTLEAXE/': 1}"
            ]
          },
          "metadata": {},
          "execution_count": 42
        }
      ],
      "source": [
        "### Random assignment\n",
        "from random import seed, random\n",
        "seed(None)\n",
        "\n",
        "random_groups = {name: -1 if round(random()) == 0 else 1 for name in heroes}\n",
        "random_groups"
      ]
    },
    {
      "cell_type": "code",
      "execution_count": 43,
      "id": "423d66d1",
      "metadata": {
        "id": "423d66d1",
        "outputId": "24ea3f3e-dbe8-4c40-8e29-1d6fed49622c",
        "colab": {
          "base_uri": "https://localhost:8080/"
        }
      },
      "outputs": [
        {
          "output_type": "execute_result",
          "data": {
            "text/plain": [
              "7.0"
            ]
          },
          "metadata": {},
          "execution_count": 43
        }
      ],
      "source": [
        "max_cut(random_groups, edges)"
      ]
    },
    {
      "cell_type": "code",
      "execution_count": 44,
      "id": "e110595e",
      "metadata": {
        "id": "e110595e"
      },
      "outputs": [],
      "source": [
        "def search(group, open_heroes):\n",
        "    best = (0, None)\n",
        "\n",
        "    open_heroes = list(open_heroes)\n",
        "    if len(open_heroes) > 0:\n",
        "        new = dict(group)\n",
        "        new[open_heroes[0]] = new[open_heroes[0]]*(-1)\n",
        "\n",
        "        result1 = search(group, open_heroes[1:])\n",
        "        result2 = search(new, open_heroes[1:])\n",
        "\n",
        "        best = result1 if result1[0] > result2[0] else result2\n",
        "    else:\n",
        "        return(max_cut(group, edges), group)\n",
        "\n",
        "    return best"
      ]
    },
    {
      "cell_type": "code",
      "execution_count": 45,
      "id": "30b5c92b",
      "metadata": {
        "id": "30b5c92b",
        "outputId": "de2a8bbb-a9ef-4303-f881-f949678b7589",
        "colab": {
          "base_uri": "https://localhost:8080/"
        }
      },
      "outputs": [
        {
          "output_type": "execute_result",
          "data": {
            "text/plain": [
              "(9.0,\n",
              " {'ARCLIGHT/PHILLIPA SO': 1,\n",
              "  'ION/': 1,\n",
              "  'SCARLET WITCH/WANDA ': 1,\n",
              "  'WOLVERINE/LOGAN ': -1,\n",
              "  'PINK PEARL/': -1,\n",
              "  'OVERMIND/GROM': 1,\n",
              "  'MEDUSA/MEDUSALITH AM': 1,\n",
              "  'ARAGORN': -1,\n",
              "  'BATTLEAXE/': -1})"
            ]
          },
          "metadata": {},
          "execution_count": 45
        }
      ],
      "source": [
        "search(single_group, heroes)"
      ]
    },
    {
      "cell_type": "markdown",
      "id": "995aa2d0",
      "metadata": {
        "id": "995aa2d0"
      },
      "source": [
        "#### Integer Linear Programming"
      ]
    },
    {
      "cell_type": "code",
      "execution_count": 46,
      "id": "c50631e4",
      "metadata": {
        "id": "c50631e4",
        "outputId": "2c08bf76-6329-48d3-ee4c-4156bfc3bf32",
        "colab": {
          "base_uri": "https://localhost:8080/",
          "height": 330
        }
      },
      "outputs": [
        {
          "output_type": "stream",
          "name": "stderr",
          "text": [
            "<ipython-input-46-95e9dfadaa00>:3: SettingWithCopyWarning: \n",
            "A value is trying to be set on a copy of a slice from a DataFrame.\n",
            "Try using .loc[row_indexer,col_indexer] = value instead\n",
            "\n",
            "See the caveats in the documentation: https://pandas.pydata.org/pandas-docs/stable/user_guide/indexing.html#returning-a-view-versus-a-copy\n",
            "  E['check_string'] = E.apply(lambda row: ''.join(sorted([row['hero1'], row['hero2']])), axis=1)\n"
          ]
        },
        {
          "output_type": "execute_result",
          "data": {
            "text/plain": [
              "                      hero1                 hero2  \\\n",
              "895    SCARLET WITCH/WANDA       WOLVERINE/LOGAN    \n",
              "33894  MEDUSA/MEDUSALITH AM      WOLVERINE/LOGAN    \n",
              "34882               ARAGORN  SCARLET WITCH/WANDA    \n",
              "34992  SCARLET WITCH/WANDA   MEDUSA/MEDUSALITH AM   \n",
              "42019  SCARLET WITCH/WANDA          OVERMIND/GROM   \n",
              "\n",
              "                                   check_string  \n",
              "895        SCARLET WITCH/WANDA WOLVERINE/LOGAN   \n",
              "33894      MEDUSA/MEDUSALITH AMWOLVERINE/LOGAN   \n",
              "34882               ARAGORNSCARLET WITCH/WANDA   \n",
              "34992  MEDUSA/MEDUSALITH AMSCARLET WITCH/WANDA   \n",
              "42019         OVERMIND/GROMSCARLET WITCH/WANDA   "
            ],
            "text/html": [
              "\n",
              "\n",
              "  <div id=\"df-52313332-3b72-41f2-8d60-2824128eeea0\">\n",
              "    <div class=\"colab-df-container\">\n",
              "      <div>\n",
              "<style scoped>\n",
              "    .dataframe tbody tr th:only-of-type {\n",
              "        vertical-align: middle;\n",
              "    }\n",
              "\n",
              "    .dataframe tbody tr th {\n",
              "        vertical-align: top;\n",
              "    }\n",
              "\n",
              "    .dataframe thead th {\n",
              "        text-align: right;\n",
              "    }\n",
              "</style>\n",
              "<table border=\"1\" class=\"dataframe\">\n",
              "  <thead>\n",
              "    <tr style=\"text-align: right;\">\n",
              "      <th></th>\n",
              "      <th>hero1</th>\n",
              "      <th>hero2</th>\n",
              "      <th>check_string</th>\n",
              "    </tr>\n",
              "  </thead>\n",
              "  <tbody>\n",
              "    <tr>\n",
              "      <th>895</th>\n",
              "      <td>SCARLET WITCH/WANDA</td>\n",
              "      <td>WOLVERINE/LOGAN</td>\n",
              "      <td>SCARLET WITCH/WANDA WOLVERINE/LOGAN</td>\n",
              "    </tr>\n",
              "    <tr>\n",
              "      <th>33894</th>\n",
              "      <td>MEDUSA/MEDUSALITH AM</td>\n",
              "      <td>WOLVERINE/LOGAN</td>\n",
              "      <td>MEDUSA/MEDUSALITH AMWOLVERINE/LOGAN</td>\n",
              "    </tr>\n",
              "    <tr>\n",
              "      <th>34882</th>\n",
              "      <td>ARAGORN</td>\n",
              "      <td>SCARLET WITCH/WANDA</td>\n",
              "      <td>ARAGORNSCARLET WITCH/WANDA</td>\n",
              "    </tr>\n",
              "    <tr>\n",
              "      <th>34992</th>\n",
              "      <td>SCARLET WITCH/WANDA</td>\n",
              "      <td>MEDUSA/MEDUSALITH AM</td>\n",
              "      <td>MEDUSA/MEDUSALITH AMSCARLET WITCH/WANDA</td>\n",
              "    </tr>\n",
              "    <tr>\n",
              "      <th>42019</th>\n",
              "      <td>SCARLET WITCH/WANDA</td>\n",
              "      <td>OVERMIND/GROM</td>\n",
              "      <td>OVERMIND/GROMSCARLET WITCH/WANDA</td>\n",
              "    </tr>\n",
              "  </tbody>\n",
              "</table>\n",
              "</div>\n",
              "      <button class=\"colab-df-convert\" onclick=\"convertToInteractive('df-52313332-3b72-41f2-8d60-2824128eeea0')\"\n",
              "              title=\"Convert this dataframe to an interactive table.\"\n",
              "              style=\"display:none;\">\n",
              "\n",
              "  <svg xmlns=\"http://www.w3.org/2000/svg\" height=\"24px\"viewBox=\"0 0 24 24\"\n",
              "       width=\"24px\">\n",
              "    <path d=\"M0 0h24v24H0V0z\" fill=\"none\"/>\n",
              "    <path d=\"M18.56 5.44l.94 2.06.94-2.06 2.06-.94-2.06-.94-.94-2.06-.94 2.06-2.06.94zm-11 1L8.5 8.5l.94-2.06 2.06-.94-2.06-.94L8.5 2.5l-.94 2.06-2.06.94zm10 10l.94 2.06.94-2.06 2.06-.94-2.06-.94-.94-2.06-.94 2.06-2.06.94z\"/><path d=\"M17.41 7.96l-1.37-1.37c-.4-.4-.92-.59-1.43-.59-.52 0-1.04.2-1.43.59L10.3 9.45l-7.72 7.72c-.78.78-.78 2.05 0 2.83L4 21.41c.39.39.9.59 1.41.59.51 0 1.02-.2 1.41-.59l7.78-7.78 2.81-2.81c.8-.78.8-2.07 0-2.86zM5.41 20L4 18.59l7.72-7.72 1.47 1.35L5.41 20z\"/>\n",
              "  </svg>\n",
              "      </button>\n",
              "\n",
              "\n",
              "\n",
              "    <div id=\"df-2ed2355d-3619-4087-8642-ed6eef30b85d\">\n",
              "      <button class=\"colab-df-quickchart\" onclick=\"quickchart('df-2ed2355d-3619-4087-8642-ed6eef30b85d')\"\n",
              "              title=\"Suggest charts.\"\n",
              "              style=\"display:none;\">\n",
              "\n",
              "<svg xmlns=\"http://www.w3.org/2000/svg\" height=\"24px\"viewBox=\"0 0 24 24\"\n",
              "     width=\"24px\">\n",
              "    <g>\n",
              "        <path d=\"M19 3H5c-1.1 0-2 .9-2 2v14c0 1.1.9 2 2 2h14c1.1 0 2-.9 2-2V5c0-1.1-.9-2-2-2zM9 17H7v-7h2v7zm4 0h-2V7h2v10zm4 0h-2v-4h2v4z\"/>\n",
              "    </g>\n",
              "</svg>\n",
              "      </button>\n",
              "    </div>\n",
              "\n",
              "<style>\n",
              "  .colab-df-quickchart {\n",
              "    background-color: #E8F0FE;\n",
              "    border: none;\n",
              "    border-radius: 50%;\n",
              "    cursor: pointer;\n",
              "    display: none;\n",
              "    fill: #1967D2;\n",
              "    height: 32px;\n",
              "    padding: 0 0 0 0;\n",
              "    width: 32px;\n",
              "  }\n",
              "\n",
              "  .colab-df-quickchart:hover {\n",
              "    background-color: #E2EBFA;\n",
              "    box-shadow: 0px 1px 2px rgba(60, 64, 67, 0.3), 0px 1px 3px 1px rgba(60, 64, 67, 0.15);\n",
              "    fill: #174EA6;\n",
              "  }\n",
              "\n",
              "  [theme=dark] .colab-df-quickchart {\n",
              "    background-color: #3B4455;\n",
              "    fill: #D2E3FC;\n",
              "  }\n",
              "\n",
              "  [theme=dark] .colab-df-quickchart:hover {\n",
              "    background-color: #434B5C;\n",
              "    box-shadow: 0px 1px 3px 1px rgba(0, 0, 0, 0.15);\n",
              "    filter: drop-shadow(0px 1px 2px rgba(0, 0, 0, 0.3));\n",
              "    fill: #FFFFFF;\n",
              "  }\n",
              "</style>\n",
              "\n",
              "    <script>\n",
              "      async function quickchart(key) {\n",
              "        const containerElement = document.querySelector('#' + key);\n",
              "        const charts = await google.colab.kernel.invokeFunction(\n",
              "            'suggestCharts', [key], {});\n",
              "      }\n",
              "    </script>\n",
              "\n",
              "\n",
              "      <script>\n",
              "\n",
              "function displayQuickchartButton(domScope) {\n",
              "  let quickchartButtonEl =\n",
              "    domScope.querySelector('#df-2ed2355d-3619-4087-8642-ed6eef30b85d button.colab-df-quickchart');\n",
              "  quickchartButtonEl.style.display =\n",
              "    google.colab.kernel.accessAllowed ? 'block' : 'none';\n",
              "}\n",
              "\n",
              "        displayQuickchartButton(document);\n",
              "      </script>\n",
              "      <style>\n",
              "    .colab-df-container {\n",
              "      display:flex;\n",
              "      flex-wrap:wrap;\n",
              "      gap: 12px;\n",
              "    }\n",
              "\n",
              "    .colab-df-convert {\n",
              "      background-color: #E8F0FE;\n",
              "      border: none;\n",
              "      border-radius: 50%;\n",
              "      cursor: pointer;\n",
              "      display: none;\n",
              "      fill: #1967D2;\n",
              "      height: 32px;\n",
              "      padding: 0 0 0 0;\n",
              "      width: 32px;\n",
              "    }\n",
              "\n",
              "    .colab-df-convert:hover {\n",
              "      background-color: #E2EBFA;\n",
              "      box-shadow: 0px 1px 2px rgba(60, 64, 67, 0.3), 0px 1px 3px 1px rgba(60, 64, 67, 0.15);\n",
              "      fill: #174EA6;\n",
              "    }\n",
              "\n",
              "    [theme=dark] .colab-df-convert {\n",
              "      background-color: #3B4455;\n",
              "      fill: #D2E3FC;\n",
              "    }\n",
              "\n",
              "    [theme=dark] .colab-df-convert:hover {\n",
              "      background-color: #434B5C;\n",
              "      box-shadow: 0px 1px 3px 1px rgba(0, 0, 0, 0.15);\n",
              "      filter: drop-shadow(0px 1px 2px rgba(0, 0, 0, 0.3));\n",
              "      fill: #FFFFFF;\n",
              "    }\n",
              "  </style>\n",
              "\n",
              "      <script>\n",
              "        const buttonEl =\n",
              "          document.querySelector('#df-52313332-3b72-41f2-8d60-2824128eeea0 button.colab-df-convert');\n",
              "        buttonEl.style.display =\n",
              "          google.colab.kernel.accessAllowed ? 'block' : 'none';\n",
              "\n",
              "        async function convertToInteractive(key) {\n",
              "          const element = document.querySelector('#df-52313332-3b72-41f2-8d60-2824128eeea0');\n",
              "          const dataTable =\n",
              "            await google.colab.kernel.invokeFunction('convertToInteractive',\n",
              "                                                     [key], {});\n",
              "          if (!dataTable) return;\n",
              "\n",
              "          const docLinkHtml = 'Like what you see? Visit the ' +\n",
              "            '<a target=\"_blank\" href=https://colab.research.google.com/notebooks/data_table.ipynb>data table notebook</a>'\n",
              "            + ' to learn more about interactive tables.';\n",
              "          element.innerHTML = '';\n",
              "          dataTable['output_type'] = 'display_data';\n",
              "          await google.colab.output.renderOutput(dataTable, element);\n",
              "          const docLink = document.createElement('div');\n",
              "          docLink.innerHTML = docLinkHtml;\n",
              "          element.appendChild(docLink);\n",
              "        }\n",
              "      </script>\n",
              "    </div>\n",
              "  </div>\n"
            ]
          },
          "metadata": {},
          "execution_count": 46
        }
      ],
      "source": [
        "N = heroes\n",
        "E = relations\n",
        "E['check_string'] = E.apply(lambda row: ''.join(sorted([row['hero1'], row['hero2']])), axis=1)\n",
        "E = E.drop_duplicates('check_string')\n",
        "E.head()"
      ]
    },
    {
      "cell_type": "code",
      "execution_count": 47,
      "id": "ccf5c575",
      "metadata": {
        "id": "ccf5c575",
        "outputId": "fd6e2431-4cbf-4ddb-e72e-d84ce5e16a16",
        "colab": {
          "base_uri": "https://localhost:8080/"
        }
      },
      "outputs": [
        {
          "output_type": "stream",
          "name": "stdout",
          "text": [
            "<class 'pandas.core.frame.DataFrame'>\n",
            "Int64Index: 13 entries, 895 to 390162\n",
            "Data columns (total 3 columns):\n",
            " #   Column        Non-Null Count  Dtype \n",
            "---  ------        --------------  ----- \n",
            " 0   hero1         13 non-null     object\n",
            " 1   hero2         13 non-null     object\n",
            " 2   check_string  13 non-null     object\n",
            "dtypes: object(3)\n",
            "memory usage: 416.0+ bytes\n"
          ]
        }
      ],
      "source": [
        "E.info()"
      ]
    },
    {
      "cell_type": "code",
      "execution_count": 48,
      "id": "692bb2b9",
      "metadata": {
        "id": "692bb2b9",
        "outputId": "ac5144f8-4937-41fe-aee7-5d4f088c7423",
        "colab": {
          "base_uri": "https://localhost:8080/"
        }
      },
      "outputs": [
        {
          "output_type": "stream",
          "name": "stdout",
          "text": [
            "There are 13 edges and 9 nodes\n"
          ]
        }
      ],
      "source": [
        "m = len(E)\n",
        "n = len(N)\n",
        "\n",
        "print(\"There are %d edges and %d nodes\"%(m,n))"
      ]
    },
    {
      "cell_type": "code",
      "source": [
        "!pip install pulp"
      ],
      "metadata": {
        "id": "tGmRU_Caa55q",
        "outputId": "24bc8ce0-952d-43d0-9322-7638cf83576a",
        "colab": {
          "base_uri": "https://localhost:8080/"
        }
      },
      "id": "tGmRU_Caa55q",
      "execution_count": 50,
      "outputs": [
        {
          "output_type": "stream",
          "name": "stdout",
          "text": [
            "Collecting pulp\n",
            "  Downloading PuLP-2.7.0-py3-none-any.whl (14.3 MB)\n",
            "\u001b[2K     \u001b[90m━━━━━━━━━━━━━━━━━━━━━━━━━━━━━━━━━━━━━━━━\u001b[0m \u001b[32m14.3/14.3 MB\u001b[0m \u001b[31m32.8 MB/s\u001b[0m eta \u001b[36m0:00:00\u001b[0m\n",
            "\u001b[?25hInstalling collected packages: pulp\n",
            "Successfully installed pulp-2.7.0\n"
          ]
        }
      ]
    },
    {
      "cell_type": "code",
      "execution_count": 51,
      "id": "fa6bfa12",
      "metadata": {
        "id": "fa6bfa12"
      },
      "outputs": [],
      "source": [
        "from pulp import LpMaximize, LpProblem, lpSum, LpVariable"
      ]
    },
    {
      "cell_type": "code",
      "execution_count": 52,
      "id": "8eb41cbf",
      "metadata": {
        "id": "8eb41cbf",
        "outputId": "eff29848-41eb-4822-a84c-d80c7c15930e",
        "colab": {
          "base_uri": "https://localhost:8080/"
        }
      },
      "outputs": [
        {
          "output_type": "execute_result",
          "data": {
            "text/plain": [
              "{'ARCLIGHT/PHILLIPA SO': NodePartition_ARCLIGHT_PHILLIPA_SO,\n",
              " 'ION/': NodePartition_ION_,\n",
              " 'SCARLET WITCH/WANDA ': NodePartition_SCARLET_WITCH_WANDA_,\n",
              " 'WOLVERINE/LOGAN ': NodePartition_WOLVERINE_LOGAN_,\n",
              " 'PINK PEARL/': NodePartition_PINK_PEARL_,\n",
              " 'OVERMIND/GROM': NodePartition_OVERMIND_GROM,\n",
              " 'MEDUSA/MEDUSALITH AM': NodePartition_MEDUSA_MEDUSALITH_AM,\n",
              " 'ARAGORN': NodePartition_ARAGORN,\n",
              " 'BATTLEAXE/': NodePartition_BATTLEAXE_}"
            ]
          },
          "metadata": {},
          "execution_count": 52
        }
      ],
      "source": [
        "maxcut = LpProblem(name = \"maxcut\", sense =LpMaximize)\n",
        "node_partitions = LpVariable.dicts(\"NodePartition\", N, lowBound = 0, cat = \"Integer\")\n",
        "node_partitions"
      ]
    },
    {
      "cell_type": "code",
      "execution_count": 53,
      "id": "91036fdd",
      "metadata": {
        "id": "91036fdd",
        "outputId": "a4edefd9-7472-475f-ae2d-868316904bab",
        "colab": {
          "base_uri": "https://localhost:8080/"
        }
      },
      "outputs": [
        {
          "output_type": "execute_result",
          "data": {
            "text/plain": [
              "{895: EdgeValue_895,\n",
              " 33894: EdgeValue_33894,\n",
              " 34882: EdgeValue_34882,\n",
              " 34992: EdgeValue_34992,\n",
              " 42019: EdgeValue_42019,\n",
              " 42948: EdgeValue_42948,\n",
              " 162819: EdgeValue_162819,\n",
              " 389674: EdgeValue_389674,\n",
              " 389680: EdgeValue_389680,\n",
              " 389695: EdgeValue_389695,\n",
              " 389712: EdgeValue_389712,\n",
              " 389718: EdgeValue_389718,\n",
              " 390162: EdgeValue_390162}"
            ]
          },
          "metadata": {},
          "execution_count": 53
        }
      ],
      "source": [
        "def iter_edges():\n",
        "    for (index, row) in E.iterrows():\n",
        "        yield index\n",
        "\n",
        "edge_values = LpVariable.dicts(\"EdgeValue\", list(iter_edges()), lowBound = 0, cat = \"Integer\")\n",
        "edge_values"
      ]
    },
    {
      "cell_type": "code",
      "execution_count": 54,
      "id": "b6217641",
      "metadata": {
        "id": "b6217641"
      },
      "outputs": [],
      "source": [
        "# add objective function\n",
        "maxcut += lpSum([edge_values for i in iter_edges()])"
      ]
    },
    {
      "cell_type": "code",
      "execution_count": 55,
      "id": "f7965046",
      "metadata": {
        "id": "f7965046"
      },
      "outputs": [],
      "source": [
        "# add constraints\n",
        "for (index, row) in E.iterrows():\n",
        "    maxcut += (edge_values[index] <= node_partitions[row[\"hero1\"]] + node_partitions[row[\"hero2\"]])\n",
        "    maxcut += (edge_values[index] <= 2 - (node_partitions[row[\"hero1\"]] + node_partitions[row[\"hero2\"]]))"
      ]
    },
    {
      "cell_type": "code",
      "execution_count": 56,
      "id": "117d049a",
      "metadata": {
        "id": "117d049a"
      },
      "outputs": [],
      "source": [
        "status = maxcut.solve()"
      ]
    },
    {
      "cell_type": "code",
      "execution_count": 57,
      "id": "8dfd3c2a",
      "metadata": {
        "id": "8dfd3c2a",
        "outputId": "9ee41725-2f42-4b31-b44d-be637ff4846f",
        "colab": {
          "base_uri": "https://localhost:8080/"
        }
      },
      "outputs": [
        {
          "output_type": "stream",
          "name": "stdout",
          "text": [
            "EdgeValue_162819 : 1.0\n",
            "EdgeValue_33894 : 0.0\n",
            "EdgeValue_34882 : 1.0\n",
            "EdgeValue_34992 : 1.0\n",
            "EdgeValue_389674 : 1.0\n",
            "EdgeValue_389680 : 1.0\n",
            "EdgeValue_389695 : 0.0\n",
            "EdgeValue_389712 : 1.0\n",
            "EdgeValue_389718 : 1.0\n",
            "EdgeValue_390162 : 0.0\n",
            "EdgeValue_42019 : 1.0\n",
            "EdgeValue_42948 : 0.0\n",
            "EdgeValue_895 : 1.0\n",
            "NodePartition_ARAGORN : 1.0\n",
            "NodePartition_ARCLIGHT_PHILLIPA_SO : 0.0\n",
            "NodePartition_BATTLEAXE_ : 1.0\n",
            "NodePartition_ION_ : 1.0\n",
            "NodePartition_MEDUSA_MEDUSALITH_AM : 1.0\n",
            "NodePartition_OVERMIND_GROM : 1.0\n",
            "NodePartition_PINK_PEARL_ : 0.0\n",
            "NodePartition_SCARLET_WITCH_WANDA_ : 0.0\n",
            "NodePartition_WOLVERINE_LOGAN_ : 1.0\n"
          ]
        }
      ],
      "source": [
        "for var in maxcut.variables():\n",
        "    print(\"%s : %s\"%(var.name, var.value()))"
      ]
    },
    {
      "cell_type": "code",
      "execution_count": null,
      "id": "8b377cf4",
      "metadata": {
        "id": "8b377cf4"
      },
      "outputs": [],
      "source": []
    }
  ],
  "metadata": {
    "kernelspec": {
      "display_name": "Python 3",
      "name": "python3"
    },
    "language_info": {
      "codemirror_mode": {
        "name": "ipython",
        "version": 3
      },
      "file_extension": ".py",
      "mimetype": "text/x-python",
      "name": "python",
      "nbconvert_exporter": "python",
      "pygments_lexer": "ipython3",
      "version": "3.10.4"
    },
    "colab": {
      "provenance": [],
      "gpuType": "T4"
    },
    "accelerator": "GPU"
  },
  "nbformat": 4,
  "nbformat_minor": 5
}