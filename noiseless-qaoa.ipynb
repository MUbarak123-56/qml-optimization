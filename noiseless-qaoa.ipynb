{
 "cells": [
  {
   "cell_type": "code",
   "execution_count": null,
   "id": "408c4573",
   "metadata": {},
   "outputs": [],
   "source": [
    "from qiskit import QuantumRegister, ClassicalRegister, QuantumCircuit, Aer, execute, IBMQ, transpile, assemble\n",
    "from qiskit.visualization import plot_histogram, plot_bloch_multivector\n",
    "from qiskit.tools.jupyter import *\n",
    "from qiskit.utils import QuantumInstance\n",
    "from qiskit import Aer\n",
    "from qiskit.algorithms import QAOA\n",
    "from qiskit_optimization.algorithms import MinimumEigenOptimizer\n",
    "from qiskit_optimization.applications import VertexCover\n",
    "import pandas as pd\n",
    "import networkx as nx"
   ]
  },
  {
   "cell_type": "code",
   "execution_count": null,
   "id": "1dbf7d83",
   "metadata": {},
   "outputs": [],
   "source": [
    "from typing import Dict, List, Optional, Union\n",
    "\n",
    "import networkx as nx\n",
    "import numpy as np\n",
    "from docplex.mp.model import Model\n",
    "from qiskit_optimization.algorithms import OptimizationResult\n",
    "from qiskit_optimization.problems.quadratic_program import QuadraticProgram\n",
    "from qiskit_optimization.translators import from_docplex_mp\n",
    "from qiskit_optimization.applications.graph_optimization_application import GraphOptimizationApplication"
   ]
  },
  {
   "cell_type": "code",
   "execution_count": null,
   "id": "68a4d704",
   "metadata": {},
   "outputs": [],
   "source": [
    "IBMQ.save_account(\"7ec7c3d9c61b02577a80462aeed74b169ce4defa242d2b2fc5031cabfac5f8199274a09d822b1dcd65125930a20f7c7c5f147e4785837efcc84764640599e462\", overwrite = True)"
   ]
  },
  {
   "cell_type": "code",
   "execution_count": null,
   "id": "303c5087",
   "metadata": {},
   "outputs": [],
   "source": [
    "IBMQ.load_account()\n",
    "provider = IBMQ.get_provider()"
   ]
  },
  {
   "cell_type": "code",
   "execution_count": null,
   "id": "97e9639c",
   "metadata": {},
   "outputs": [],
   "source": [
    "data = pd.read_csv('data/hero_network.csv')\n",
    "heroes = {'MEDUSA/MEDUSALITH AM', 'WOLVERINE/LOGAN ','SCARLET WITCH/WANDA ', 'ARAGORN','OVERMIND/GROM'}"
   ]
  },
  {
   "cell_type": "code",
   "execution_count": null,
   "id": "d0b73458",
   "metadata": {},
   "outputs": [],
   "source": [
    "relations = data[(data.hero1.isin(heroes)) & (data.hero2.isin(heroes))]\n",
    "relations.info()"
   ]
  },
  {
   "cell_type": "code",
   "execution_count": null,
   "id": "52836747",
   "metadata": {},
   "outputs": [],
   "source": [
    "relations = pd.DataFrame(np.sort(relations.values, axis=1), columns=relations.columns).drop_duplicates(subset=['hero1', 'hero2'])"
   ]
  },
  {
   "cell_type": "code",
   "execution_count": null,
   "id": "3ca32f72",
   "metadata": {},
   "outputs": [],
   "source": [
    "graph = nx.from_pandas_edgelist(relations, source='hero1', target='hero2')"
   ]
  },
  {
   "cell_type": "code",
   "execution_count": null,
   "id": "9c2fff3c",
   "metadata": {},
   "outputs": [],
   "source": [
    "class VertexCover(GraphOptimizationApplication):\n",
    "    \"\"\"Optimization application for the \"vertex cover\" problem based on a NetworkX graph.\"\"\"\n",
    "    def to_quadratic_program(self) -> QuadraticProgram:\n",
    "        \"\"\"Convert a vertex cover instance into a:class:`~qiskit_optimization.problems.QuadraticProgram`\n",
    "        Returns:\n",
    "        The :class:`~qiskit_optimization.problems.QuadraticProgram` created\n",
    "        from the vertex cover instance.\n",
    "        \"\"\"\n",
    "        mdl = Model(name=\"Vertex cover\")\n",
    "        n = self._graph.number_of_nodes()\n",
    "        x = {i: mdl.binary_var(name=f\"x_{i}\") for i in range(n)}\n",
    "        objective = mdl.sum(x[i] for i in x)\n",
    "        for w, v in self._graph.edges:\n",
    "            mdl.add_constraint(x[w] + x[v] >= 1)\n",
    "        mdl.minimize(objective)\n",
    "        op = from_docplex_mp(mdl)\n",
    "        return op\n",
    "    \n",
    "    def interpret(self, result: Union[OptimizationResult, np.ndarray]) -> List[int]:\n",
    "        \"\"\"Interpret a result as a list of node indices\n",
    "        Args:\n",
    "        result : The calculated result of the problem\n",
    "        Returns: A list of node indices whose corresponding variable is 1\n",
    "        \"\"\"\n",
    "        x = self._result_to_x(result)\n",
    "        vertex_cover = []\n",
    "        for i, value in enumerate(x):\n",
    "            if value:\n",
    "                vertex_cover.append(i)\n",
    "        return vertex_cover\n",
    "    def _draw_result(self, result: Union[OptimizationResult, np.ndarray], pos: Optional[Dict[int, np.ndarray]] = None,) -> None:\n",
    "        \"\"\"Draw the result with colors\n",
    "        Args:\n",
    "        result : The calculated result for the problem\n",
    "        pos: The positions of nodes\n",
    "        \"\"\"\n",
    "        x = self._result_to_x(result)\n",
    "        nx.draw(self._graph, node_color=self._node_colors(x), pos=pos, with_labels=True)\n",
    "\n",
    "    def _node_colors(self, x: np.ndarray) -> List[str]:\n",
    "        # Return a list of strings for draw.\\\n",
    "        # Color a node with red when the corresponding variable is 1.\n",
    "        # Otherwise color it with dark gray.\n",
    "        return [\"r\" if x[node[0]] else \"darkgrey\" for node in self._graph.nodes]"
   ]
  },
  {
   "cell_type": "code",
   "execution_count": null,
   "id": "88b79ac9",
   "metadata": {},
   "outputs": [],
   "source": [
    "class WeightedVertexCover(VertexCover):\n",
    "    \"\"\"Optimization application for the \"weighted vertex cover\" problem based on a NetworkX graph.\"\"\"\n",
    "    def to_quadratic_program(self) -> QuadraticProgram:\n",
    "        mdl = Model(name=\"Weighted Vertex cover\")\n",
    "        n = self._graph.number_of_nodes()\n",
    "        x = {i: mdl.binary_var(name=f\"x_{i}\") for i in range(n)}\n",
    "        nodes = dict(enumerate(self._graph.nodes))\n",
    "        lnodes = list(self._graph.nodes)\n",
    "        \n",
    "        max_weight= max(self._graph.nodes[node]['weight'] for node in lnodes)\n",
    "        \n",
    "        for w, v in self._graph.edges:\n",
    "            self._graph.edges[w, v].setdefault(\"weight\", 1)\n",
    "            objective = mdl.sum(x[i] * (max_weight-self._graph.nodes[nodes[i]]['weight']) for i in x)\n",
    "        \n",
    "        for w, v in self._graph.edges:\n",
    "            mdl.add_constraint(x[lnodes.index(w)] + x[lnodes.index(v)] >= 1)\n",
    "            mdl.minimize(objective)\n",
    "            op = from_docplex_mp(mdl)\n",
    "        \n",
    "        return op\n",
    "    \n",
    "    def _node_colors(self, x: np.ndarray) -> List[str]:\n",
    "        nodes = list(dict(enumerate(self._graph.nodes)).items())\n",
    "\n",
    "        # Return a list of strings for draw.\n",
    "        # Color a node with red when the corresponding variable is 1.\n",
    "        # Otherwise color it with dark gray.\n",
    "        return [\"r\" if x[node[0]] else \"darkgrey\" for node in nodes]"
   ]
  },
  {
   "cell_type": "code",
   "execution_count": null,
   "id": "5ba28846",
   "metadata": {},
   "outputs": [],
   "source": [
    "count_series1 = data.groupby(['hero1']).size()\n",
    "count_series2 = data.groupby(['hero2']).size()\n",
    "appearences = count_series1.add(count_series2, fill_value=0)\n",
    "for hero in heroes:\n",
    "    graph.nodes[hero][\"weight\"] = appearences[hero]\n",
    "\n",
    "weighted_vertex_cover = WeightedVertexCover(graph)"
   ]
  },
  {
   "cell_type": "code",
   "execution_count": null,
   "id": "2d60f7df",
   "metadata": {},
   "outputs": [],
   "source": [
    "%qiskit_job_watcher"
   ]
  },
  {
   "cell_type": "code",
   "execution_count": null,
   "id": "1ae93914",
   "metadata": {},
   "outputs": [],
   "source": [
    "# get the real Quito backend\n",
    "quito_backend = provider.get_backend('ibmq_quito')\n",
    "qp = weighted_vertex_cover.to_quadratic_program()\n",
    "quantum_instance = QuantumInstance(backend=quito_backend,)\n",
    "qaoa = QAOA(reps = 3, quantum_instance=quantum_instance)\n",
    "\n",
    "# create minimum eigen optimizer based on qaoa\n",
    "qaoa_optimizer = MinimumEigenOptimizer(qaoa)\n",
    "\n",
    "# solve quadratic program\n",
    "result = qaoa_optimizer.solve(qp)\n",
    "print(\"solution:\", weighted_vertex_cover.interpret(result))\n",
    "print(\"time:\", result.min_eigen_solver_result.optimizer_time)\n",
    "print(\"cost function evals: \", result.min_eigen_solver_result.cost_function_evals)"
   ]
  },
  {
   "cell_type": "code",
   "execution_count": null,
   "id": "e8b854d3",
   "metadata": {},
   "outputs": [],
   "source": [
    "%qiskit_disable_job_watcher"
   ]
  },
  {
   "cell_type": "code",
   "execution_count": null,
   "id": "0349268f",
   "metadata": {},
   "outputs": [],
   "source": [
    "def callback(cnt, params, mean, stdv):\n",
    "    print (cnt, params, mean, stdv)\n",
    "\n",
    "qaoa = QAOA(reps=1, quantum_instance=quantum_instance, callback=callback,initial_point= [-4.57916767e+08, -2.78493997e+08])"
   ]
  },
  {
   "cell_type": "code",
   "execution_count": null,
   "id": "93cfd346",
   "metadata": {},
   "outputs": [],
   "source": [
    "# loading the problem\n",
    "qp = weighted_vertex_cover.to_quadratic_program()\n",
    "\n",
    "# specifying the backend and the quantum instance\n",
    "backend = Aer.get_backend(\"statevector_simulator\")\n",
    "quantum_instance = QuantumInstance(backend)\n",
    "\n",
    "# Specify the solving algorithm\n",
    "qaoa = QAOA(reps=2, quantum_instance=quantum_instance)\n",
    "\n",
    "# create minimum eigen optimizer based on qaoa\n",
    "qaoa_optimizer = MinimumEigenOptimizer(qaoa)\n",
    "\n",
    "# solve quadratic program\n",
    "result = qaoa_optimizer.solve(qp)"
   ]
  },
  {
   "cell_type": "code",
   "execution_count": null,
   "id": "46af9bd8",
   "metadata": {},
   "outputs": [],
   "source": []
  },
  {
   "cell_type": "code",
   "execution_count": null,
   "id": "54697614",
   "metadata": {},
   "outputs": [],
   "source": []
  },
  {
   "cell_type": "code",
   "execution_count": null,
   "id": "7a0d0958",
   "metadata": {},
   "outputs": [],
   "source": []
  },
  {
   "cell_type": "code",
   "execution_count": null,
   "id": "aaeec4f6",
   "metadata": {},
   "outputs": [],
   "source": []
  },
  {
   "cell_type": "code",
   "execution_count": null,
   "id": "474bff75",
   "metadata": {},
   "outputs": [],
   "source": []
  },
  {
   "cell_type": "code",
   "execution_count": null,
   "id": "4fabc3a8",
   "metadata": {},
   "outputs": [],
   "source": []
  }
 ],
 "metadata": {
  "kernelspec": {
   "display_name": "Python 3 (ipykernel)",
   "language": "python",
   "name": "python3"
  },
  "language_info": {
   "codemirror_mode": {
    "name": "ipython",
    "version": 3
   },
   "file_extension": ".py",
   "mimetype": "text/x-python",
   "name": "python",
   "nbconvert_exporter": "python",
   "pygments_lexer": "ipython3",
   "version": "3.10.4"
  }
 },
 "nbformat": 4,
 "nbformat_minor": 5
}
