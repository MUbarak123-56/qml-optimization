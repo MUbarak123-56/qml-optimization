{
 "cells": [
  {
   "cell_type": "code",
   "execution_count": 1,
   "id": "adce1723",
   "metadata": {},
   "outputs": [],
   "source": [
    "import pandas as pd\n",
    "import networkx as nx\n",
    "import numpy as np\n",
    "from qiskit_optimization.applications.vertex_cover import VertexCover"
   ]
  },
  {
   "cell_type": "code",
   "execution_count": 2,
   "id": "c594778c",
   "metadata": {},
   "outputs": [],
   "source": [
    "data = pd.read_csv(\"data/hero-network.csv\")"
   ]
  },
  {
   "cell_type": "code",
   "execution_count": 6,
   "id": "4b9123d8",
   "metadata": {},
   "outputs": [
    {
     "data": {
      "text/plain": [
       "hero1    TALISMAN II/ELIZABET\n",
       "hero2    WILD CHILD/KYLE GIBN\n",
       "Name: 80519, dtype: object"
      ]
     },
     "execution_count": 6,
     "metadata": {},
     "output_type": "execute_result"
    }
   ],
   "source": [
    "data.loc[80519,:]"
   ]
  },
  {
   "cell_type": "code",
   "execution_count": 3,
   "id": "c791da49",
   "metadata": {},
   "outputs": [
    {
     "name": "stdout",
     "output_type": "stream",
     "text": [
      "<class 'pandas.core.frame.DataFrame'>\n",
      "Int64Index: 103 entries, 895 to 573288\n",
      "Data columns (total 2 columns):\n",
      " #   Column  Non-Null Count  Dtype \n",
      "---  ------  --------------  ----- \n",
      " 0   hero1   103 non-null    object\n",
      " 1   hero2   103 non-null    object\n",
      "dtypes: object(2)\n",
      "memory usage: 2.4+ KB\n"
     ]
    }
   ],
   "source": [
    "heroes = {'MEDUSA/MEDUSALITH AM','ARCLIGHT/PHILLIPA SO','WOLVERINE/LOGAN ','SCARLET WITCH/WANDA ',\n",
    "          'ARAGORN','OVERMIND/GROM','BATTLEAXE/','ION/', 'PINK PEARL/'}\n",
    "relations = data[(data.hero1.isin(heroes)) & (data.hero2.isin(heroes))]\n",
    "relations.info()"
   ]
  },
  {
   "cell_type": "code",
   "execution_count": 4,
   "id": "4a008e4b",
   "metadata": {},
   "outputs": [],
   "source": [
    "relations = pd.DataFrame(np.sort(relations.values, axis=1), columns=relations.columns).drop_duplicates(subset=['hero1', 'hero2'])"
   ]
  },
  {
   "cell_type": "code",
   "execution_count": 5,
   "id": "628a5745",
   "metadata": {},
   "outputs": [],
   "source": [
    "graph = nx.from_pandas_edgelist(relations, source='hero1', target='hero2')"
   ]
  },
  {
   "cell_type": "code",
   "execution_count": 6,
   "id": "1e17a505",
   "metadata": {},
   "outputs": [],
   "source": [
    "adjacency = nx.to_pandas_adjacency(graph, dtype=int)"
   ]
  },
  {
   "cell_type": "code",
   "execution_count": 7,
   "id": "1414db9d",
   "metadata": {},
   "outputs": [],
   "source": [
    "vertex_cover = VertexCover(adjacency.to_numpy())"
   ]
  },
  {
   "cell_type": "code",
   "execution_count": 8,
   "id": "6c727532",
   "metadata": {},
   "outputs": [
    {
     "name": "stdout",
     "output_type": "stream",
     "text": [
      "solution: [0, 1, 3, 5, 6, 7]\n"
     ]
    },
    {
     "name": "stderr",
     "output_type": "stream",
     "text": [
      "C:\\Users\\ganiy\\anaconda3\\envs\\qiskit\\lib\\site-packages\\qiskit_optimization\\algorithms\\optimization_algorithm.py:138: UserWarning: The sum of probability of samples is not close to 1: f{sum_prob}\n",
      "  warn(\"The sum of probability of samples is not close to 1: f{sum_prob}\")\n"
     ]
    }
   ],
   "source": [
    "from qiskit.utils import QuantumInstance\n",
    "from qiskit import Aer\n",
    "from qiskit.algorithms import QAOA\n",
    "from qiskit_optimization.algorithms import MinimumEigenOptimizer\n",
    "\n",
    "qp = vertex_cover.to_quadratic_program()\n",
    "\n",
    "backend = Aer.get_backend(\"statevector_simulator\")\n",
    "\n",
    "# create the quantum instance\n",
    "quantum_instance = QuantumInstance(backend)\n",
    "\n",
    "# specify the solver method\n",
    "qaoa = QAOA(reps=3, quantum_instance=quantum_instance)\n",
    "\n",
    "# create minimum eigen optimizer based on qaoa\n",
    "qaoa_optimizer = MinimumEigenOptimizer(qaoa)\n",
    "\n",
    "# solve quadratic program\n",
    "result = qaoa_optimizer.solve(qp)\n",
    "\n",
    "print(\"solution:\", vertex_cover.interpret(result))"
   ]
  },
  {
   "cell_type": "code",
   "execution_count": 9,
   "id": "d7dc9c9f",
   "metadata": {},
   "outputs": [
    {
     "data": {
      "image/png": "[encoded data removed]",
      "text/plain": [
       "<Figure size 432x288 with 1 Axes>"
      ]
     },
     "metadata": {},
     "output_type": "display_data"
    }
   ],
   "source": [
    "vertex_cover.draw(result)"
   ]
  },
  {
   "cell_type": "code",
   "execution_count": 10,
   "id": "e5bfaf59",
   "metadata": {},
   "outputs": [],
   "source": [
    "from typing import Dict, List, Optional, Union\n",
    "\n",
    "import networkx as nx\n",
    "import numpy as np\n",
    "from docplex.mp.model import Model\n",
    "from qiskit_optimization.algorithms import OptimizationResult\n",
    "from qiskit_optimization.problems.quadratic_program import QuadraticProgram\n",
    "from qiskit_optimization.translators import from_docplex_mp\n",
    "from qiskit_optimization.applications.graph_optimization_application import GraphOptimizationApplication"
   ]
  },
  {
   "cell_type": "code",
   "execution_count": 11,
   "id": "f8533ba1",
   "metadata": {},
   "outputs": [],
   "source": [
    "class VertexCover(GraphOptimizationApplication):\n",
    "    \"\"\"Optimization application for the \"vertex cover\" problem based on a NetworkX graph.\"\"\"\n",
    "    def to_quadratic_program(self) -> QuadraticProgram:\n",
    "        \"\"\"Convert a vertex cover instance into a:class:`~qiskit_optimization.problems.QuadraticProgram`\n",
    "        Returns:\n",
    "        The :class:`~qiskit_optimization.problems.QuadraticProgram` created\n",
    "        from the vertex cover instance.\n",
    "        \"\"\"\n",
    "        mdl = Model(name=\"Vertex cover\")\n",
    "        n = self._graph.number_of_nodes()\n",
    "        x = {i: mdl.binary_var(name=f\"x_{i}\") for i in range(n)}\n",
    "        objective = mdl.sum(x[i] for i in x)\n",
    "        for w, v in self._graph.edges:\n",
    "            mdl.add_constraint(x[w] + x[v] >= 1)\n",
    "        mdl.minimize(objective)\n",
    "        op = from_docplex_mp(mdl)\n",
    "        return op\n",
    "    \n",
    "    def interpret(self, result: Union[OptimizationResult, np.ndarray]) -> List[int]:\n",
    "        \"\"\"Interpret a result as a list of node indices\n",
    "        Args:\n",
    "        result : The calculated result of the problem\n",
    "        Returns: A list of node indices whose corresponding variable is 1\n",
    "        \"\"\"\n",
    "        x = self._result_to_x(result)\n",
    "        vertex_cover = []\n",
    "        for i, value in enumerate(x):\n",
    "            if value:\n",
    "                vertex_cover.append(i)\n",
    "        return vertex_cover\n",
    "    def _draw_result(self, result: Union[OptimizationResult, np.ndarray], pos: Optional[Dict[int, np.ndarray]] = None,) -> None:\n",
    "        \"\"\"Draw the result with colors\n",
    "        Args:\n",
    "        result : The calculated result for the problem\n",
    "        pos: The positions of nodes\n",
    "        \"\"\"\n",
    "        x = self._result_to_x(result)\n",
    "        nx.draw(self._graph, node_color=self._node_colors(x), pos=pos, with_labels=True)\n",
    "\n",
    "    def _node_colors(self, x: np.ndarray) -> List[str]:\n",
    "        # Return a list of strings for draw.\\\n",
    "        # Color a node with red when the corresponding variable is 1.\n",
    "        # Otherwise color it with dark gray.\n",
    "        return [\"r\" if x[node[0]] else \"darkgrey\" for node in self._graph.nodes]"
   ]
  },
  {
   "cell_type": "code",
   "execution_count": 12,
   "id": "ab77ee36",
   "metadata": {},
   "outputs": [],
   "source": [
    "from qiskit_optimization.applications import VertexCover\n",
    "\n",
    "class WeightedVertexCover(VertexCover):\n",
    "    \"\"\"Optimization application for the \"weighted vertex cover\" problem based on a NetworkX graph.\"\"\"\n",
    "    def to_quadratic_program(self) -> QuadraticProgram:\n",
    "        mdl = Model(name=\"Weighted Vertex cover\")\n",
    "        n = self._graph.number_of_nodes()\n",
    "        x = {i: mdl.binary_var(name=f\"x_{i}\") for i in range(n)}\n",
    "        nodes = dict(enumerate(self._graph.nodes))\n",
    "        lnodes = list(self._graph.nodes)\n",
    "        \n",
    "        max_weight= max(self._graph.nodes[node]['weight'] for node in lnodes)\n",
    "        \n",
    "        for w, v in self._graph.edges:\n",
    "            self._graph.edges[w, v].setdefault(\"weight\", 1)\n",
    "            objective = mdl.sum(x[i] * (max_weight-self._graph.nodes[nodes[i]]['weight']) for i in x)\n",
    "        \n",
    "        for w, v in self._graph.edges:\n",
    "            mdl.add_constraint(x[lnodes.index(w)] + x[lnodes.index(v)] >= 1)\n",
    "            mdl.minimize(objective)\n",
    "            op = from_docplex_mp(mdl)\n",
    "        \n",
    "        return op\n",
    "    \n",
    "    def _node_colors(self, x: np.ndarray) -> List[str]:\n",
    "        nodes = list(dict(enumerate(self._graph.nodes)).items())\n",
    "\n",
    "        # Return a list of strings for draw.\n",
    "        # Color a node with red when the corresponding variable is 1.\n",
    "        # Otherwise color it with dark gray.\n",
    "        return [\"r\" if x[node[0]] else \"darkgrey\" for node in nodes]"
   ]
  },
  {
   "cell_type": "code",
   "execution_count": 13,
   "id": "021c9d00",
   "metadata": {},
   "outputs": [],
   "source": [
    "count_series1 = data.groupby(['hero1']).size()\n",
    "count_series2 = data.groupby(['hero2']).size()\n",
    "appearences = count_series1.add(count_series2, fill_value=0)\n",
    "for hero in heroes:\n",
    "    graph.nodes[hero][\"weight\"] = appearences[hero]\n",
    "\n",
    "weighted_vertex_cover = WeightedVertexCover(graph)"
   ]
  },
  {
   "cell_type": "code",
   "execution_count": 14,
   "id": "d7fbfa5d",
   "metadata": {},
   "outputs": [
    {
     "data": {
      "text/html": [
       "<div>\n",
       "<style scoped>\n",
       "    .dataframe tbody tr th:only-of-type {\n",
       "        vertical-align: middle;\n",
       "    }\n",
       "\n",
       "    .dataframe tbody tr th {\n",
       "        vertical-align: top;\n",
       "    }\n",
       "\n",
       "    .dataframe thead th {\n",
       "        text-align: right;\n",
       "    }\n",
       "</style>\n",
       "<table border=\"1\" class=\"dataframe\">\n",
       "  <thead>\n",
       "    <tr style=\"text-align: right;\">\n",
       "      <th></th>\n",
       "      <th>0</th>\n",
       "      <th>hero</th>\n",
       "    </tr>\n",
       "  </thead>\n",
       "  <tbody>\n",
       "    <tr>\n",
       "      <th>PINK PEARL/</th>\n",
       "      <td>147.0</td>\n",
       "      <td>PINK PEARL/</td>\n",
       "    </tr>\n",
       "  </tbody>\n",
       "</table>\n",
       "</div>"
      ],
      "text/plain": [
       "                 0         hero\n",
       "PINK PEARL/  147.0  PINK PEARL/"
      ]
     },
     "execution_count": 14,
     "metadata": {},
     "output_type": "execute_result"
    }
   ],
   "source": [
    "df = pd.DataFrame(appearences)\n",
    "df[\"hero\"] = df.index\n",
    "df.set_index = \"\"\n",
    "df[df[\"hero\"] == hero]"
   ]
  },
  {
   "cell_type": "code",
   "execution_count": 15,
   "id": "9791a62f",
   "metadata": {},
   "outputs": [
    {
     "name": "stdout",
     "output_type": "stream",
     "text": [
      "solution: [0, 1, 3, 5, 7, 8]\n",
      "time: 41.637839794158936\n"
     ]
    }
   ],
   "source": [
    "from qiskit import Aer\n",
    "from qiskit.utils import QuantumInstance\n",
    "from qiskit.algorithms import QAOA\n",
    "from qiskit_optimization.algorithms import MinimumEigenOptimizer\n",
    "\n",
    "# loading the problem\n",
    "qp = weighted_vertex_cover.to_quadratic_program()\n",
    "\n",
    "# specifying the backend and the quantum instance\n",
    "backend = Aer.get_backend(\"statevector_simulator\")\n",
    "quantum_instance = QuantumInstance(backend)\n",
    "\n",
    "qaoa = QAOA(reps=2, quantum_instance=quantum_instance)\n",
    "\n",
    "# create minimum eigen optimizer based on qaoa\n",
    "qaoa_optimizer = MinimumEigenOptimizer(qaoa)\n",
    "\n",
    "# solve quadratic program\n",
    "result = qaoa_optimizer.solve(qp)\n",
    "print(\"solution:\", weighted_vertex_cover.interpret(result))\n",
    "print(\"time:\", result.min_eigen_solver_result.optimizer_time)"
   ]
  },
  {
   "cell_type": "code",
   "execution_count": 16,
   "id": "0d6aaa19",
   "metadata": {},
   "outputs": [
    {
     "data": {
      "image/png": "[encoded data removed]",
      "text/plain": [
       "<Figure size 432x288 with 1 Axes>"
      ]
     },
     "metadata": {},
     "output_type": "display_data"
    }
   ],
   "source": [
    "weighted_vertex_cover.draw(result)"
   ]
  },
  {
   "cell_type": "code",
   "execution_count": null,
   "id": "abf7e27d",
   "metadata": {},
   "outputs": [],
   "source": []
  }
 ],
 "metadata": {
  "kernelspec": {
   "display_name": "Python 3 (ipykernel)",
   "language": "python",
   "name": "python3"
  },
  "language_info": {
   "codemirror_mode": {
    "name": "ipython",
    "version": 3
   },
   "file_extension": ".py",
   "mimetype": "text/x-python",
   "name": "python",
   "nbconvert_exporter": "python",
   "pygments_lexer": "ipython3",
   "version": "3.10.4"
  }
 },
 "nbformat": 4,
 "nbformat_minor": 5
}
